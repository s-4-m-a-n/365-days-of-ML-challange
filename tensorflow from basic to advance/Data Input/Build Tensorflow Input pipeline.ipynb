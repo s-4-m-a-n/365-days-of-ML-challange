{
 "cells": [
  {
   "cell_type": "markdown",
   "id": "122d1228",
   "metadata": {},
   "source": [
    "# Build Tensorflow Input Pipeline\n",
    "\n",
    "- The **tf.data** API enables you to build complex input pipelines from simple, reusable pieces. For example, the pipeline for an image model might aggregate data from files in a distributed file system, apply random perturbations to each image, and merge randomly selected images into a batch for training.\n",
    "- The **tf.data** API makes it possible to handle large amounts of data, read from different data formats, and perform complex transformations.\n",
    "\n",
    "- The **tf.data** API introduces a **tf.data.Dataset** abstraction that represents a sequence of elements, in which each element consists of one or more components. For example, in an image pipeline, an element might be a single training example, with a pair of tensor components representing the image and its label."
   ]
  },
  {
   "cell_type": "markdown",
   "id": "0f49adf5",
   "metadata": {},
   "source": [
    "- There are two distinct ways to create a dataset:\n",
    "\n",
    "  - A data **source** constructs a *Dataset* from data stored in memory or in one or more files.\n",
    "\n",
    "   - A data **transformation** constructs a dataset from one or more *tf.data.Dataset objects*.\n"
   ]
  },
  {
   "cell_type": "code",
   "execution_count": 2,
   "id": "d6354642",
   "metadata": {},
   "outputs": [],
   "source": [
    "import tensorflow as tf\n",
    "import os\n",
    "import pandas as pd\n",
    "import numpy as np"
   ]
  },
  {
   "cell_type": "markdown",
   "id": "39e38510",
   "metadata": {},
   "source": [
    "## Basic Mechaince\n",
    "\n",
    "- To create an input pipeline, you must start with a data **source**.\n",
    "- For example, to construct a Dataset from data in memory, you can use **tf.data.Dataset.from_tensors()** or **tf.data.Dataset.from_tensor_slices()**. \n",
    "- Alternatively, if your input data is stored in a file in the recommended **TFRecord** format, you can use **tf.data.TFRecordDataset()**.\n",
    "- ***Note we will create a separate notebook for TFRecord format. [more](https://towardsdatascience.com/a-practical-guide-to-tfrecords-584536bc786c)***\n",
    "\n",
    "\n",
    "- Once you have a **Dataset** object, you can transform it into a new Dataset by chaining method calls on the **tf.data.Dataset** object. For example, you can apply per-element transformations such as **Dataset.map**, and multi-element transformations such as **Dataset.batch**.\n"
   ]
  },
  {
   "cell_type": "markdown",
   "id": "28bdca43",
   "metadata": {},
   "source": [
    "### From Tensors\n",
    "- This method creates a dataset with a single element using the given input tensor.\n",
    "- It is useful when you have a single large tensor or a small number of tensors, and you want to treat them as a single item in the dataset.\n",
    "- The resulting dataset will have only one element, which means that each epoch of training will see the entire dataset as one batch."
   ]
  },
  {
   "cell_type": "code",
   "execution_count": 60,
   "id": "4655f921",
   "metadata": {},
   "outputs": [],
   "source": [
    "tensor_1 = tf.constant([[0, 1, 2],\n",
    "                        [3, 4, 5]])\n",
    "tensor_2 = tf.constant([[6, 7, 8],\n",
    "                        [9, 10, 11]])"
   ]
  },
  {
   "cell_type": "code",
   "execution_count": 61,
   "id": "80e0fb03",
   "metadata": {},
   "outputs": [],
   "source": [
    "dataset = tf.data.Dataset.from_tensors(tensor_1)"
   ]
  },
  {
   "cell_type": "code",
   "execution_count": 62,
   "id": "061c2404",
   "metadata": {},
   "outputs": [
    {
     "name": "stdout",
     "output_type": "stream",
     "text": [
      "tf.Tensor(\n",
      "[[0 1 2]\n",
      " [3 4 5]], shape=(2, 3), dtype=int32)\n",
      "=======\n"
     ]
    },
    {
     "name": "stderr",
     "output_type": "stream",
     "text": [
      "2023-07-23 16:39:45.844267: I tensorflow/core/common_runtime/executor.cc:1197] [/device:CPU:0] (DEBUG INFO) Executor start aborting (this does not indicate an error and you can ignore this message): INVALID_ARGUMENT: You must feed a value for placeholder tensor 'Placeholder/_0' with dtype int32 and shape [2,3]\n",
      "\t [[{{node Placeholder/_0}}]]\n"
     ]
    }
   ],
   "source": [
    "for item in dataset:\n",
    "    print(item)\n",
    "    print(\"=======\")"
   ]
  },
  {
   "cell_type": "code",
   "execution_count": 63,
   "id": "8cb0fac4",
   "metadata": {},
   "outputs": [],
   "source": [
    "dataset = tf.data.Dataset.from_tensors([tensor_1, tensor_2])"
   ]
  },
  {
   "cell_type": "code",
   "execution_count": 64,
   "id": "ff9bd6bf",
   "metadata": {},
   "outputs": [
    {
     "name": "stdout",
     "output_type": "stream",
     "text": [
      "tf.Tensor(\n",
      "[[[[ 0  1  2]\n",
      "   [ 3  4  5]]\n",
      "\n",
      "  [[ 6  7  8]\n",
      "   [ 9 10 11]]]\n",
      "\n",
      "\n",
      " [[[ 0  1  2]\n",
      "   [ 3  4  5]]\n",
      "\n",
      "  [[ 6  7  8]\n",
      "   [ 9 10 11]]]], shape=(2, 2, 2, 3), dtype=int32)\n",
      "===\n"
     ]
    },
    {
     "name": "stderr",
     "output_type": "stream",
     "text": [
      "2023-07-23 16:39:46.111890: I tensorflow/core/common_runtime/executor.cc:1197] [/device:CPU:0] (DEBUG INFO) Executor start aborting (this does not indicate an error and you can ignore this message): INVALID_ARGUMENT: You must feed a value for placeholder tensor 'Placeholder/_0' with dtype int32 and shape [2,2,3]\n",
      "\t [[{{node Placeholder/_0}}]]\n"
     ]
    }
   ],
   "source": [
    "for item in dataset.repeat(2).batch(3): #since all the tensors are treaded as a single tensor, batching does not work\n",
    "    print(item)\n",
    "    print(\"===\")"
   ]
  },
  {
   "cell_type": "markdown",
   "id": "bafb7ac3",
   "metadata": {},
   "source": [
    "Here, you can see list a tensors are converted into a single element dataset"
   ]
  },
  {
   "cell_type": "markdown",
   "id": "f05140d8",
   "metadata": {},
   "source": [
    "### From TensorSlices\n",
    "\n",
    "- The Dataset object is a Python iterable. This makes it possible to consume its elements using a for loop\n",
    "- The simplest way to create a dataset is to create it from a python list\n",
    "- This method creates a dataset by slicing the input tensor along the first dimension (axis=0) and forms elements from the slices.\n",
    "- It is particularly useful when you have a larger dataset consisting of multiple examples or samples, and you want to treat each element separately during training or inference.\n",
    "- The resulting dataset will have as many elements as there are slices along the first dimension of the input tensor."
   ]
  },
  {
   "cell_type": "code",
   "execution_count": 20,
   "id": "b1f0afcc",
   "metadata": {},
   "outputs": [
    {
     "name": "stdout",
     "output_type": "stream",
     "text": [
      "tf.Tensor(0, shape=(), dtype=int32)\n",
      "tf.Tensor(1, shape=(), dtype=int32)\n",
      "tf.Tensor(2, shape=(), dtype=int32)\n",
      "tf.Tensor(3, shape=(), dtype=int32)\n",
      "tf.Tensor(4, shape=(), dtype=int32)\n",
      "tf.Tensor(5, shape=(), dtype=int32)\n"
     ]
    },
    {
     "name": "stderr",
     "output_type": "stream",
     "text": [
      "2023-07-23 15:53:48.124104: I tensorflow/core/common_runtime/executor.cc:1197] [/device:CPU:0] (DEBUG INFO) Executor start aborting (this does not indicate an error and you can ignore this message): INVALID_ARGUMENT: You must feed a value for placeholder tensor 'Placeholder/_0' with dtype int32 and shape [6]\n",
      "\t [[{{node Placeholder/_0}}]]\n"
     ]
    }
   ],
   "source": [
    "dataset = tf.data.Dataset.from_tensor_slices([0, 1, 2, 3, 4, 5])\n",
    "for element in dataset:\n",
    "    print(element)"
   ]
  },
  {
   "cell_type": "code",
   "execution_count": 58,
   "id": "f3c810d8",
   "metadata": {},
   "outputs": [
    {
     "name": "stdout",
     "output_type": "stream",
     "text": [
      "tf.Tensor(\n",
      "[[0 1 2]\n",
      " [3 4 5]\n",
      " [0 1 2]], shape=(3, 3), dtype=int32)\n",
      "========\n",
      "tf.Tensor(\n",
      "[[3 4 5]\n",
      " [0 1 2]\n",
      " [3 4 5]], shape=(3, 3), dtype=int32)\n",
      "========\n",
      "tf.Tensor(\n",
      "[[0 1 2]\n",
      " [3 4 5]], shape=(2, 3), dtype=int32)\n",
      "========\n"
     ]
    },
    {
     "name": "stderr",
     "output_type": "stream",
     "text": [
      "2023-07-23 16:39:29.515953: I tensorflow/core/common_runtime/executor.cc:1197] [/device:CPU:0] (DEBUG INFO) Executor start aborting (this does not indicate an error and you can ignore this message): INVALID_ARGUMENT: You must feed a value for placeholder tensor 'Placeholder/_0' with dtype int32 and shape [2,3]\n",
      "\t [[{{node Placeholder/_0}}]]\n"
     ]
    }
   ],
   "source": [
    "dataset = tf.data.Dataset.from_tensor_slices(tensor_1)\n",
    "for item in dataset.repeat(4).batch(3):\n",
    "    print(item)\n",
    "    print(\"========\")"
   ]
  },
  {
   "cell_type": "markdown",
   "id": "14ed0094",
   "metadata": {},
   "source": [
    "Unlike Dataset.From_tensors(), from_tensor_slides() created dataset with multi-elements by slicing the input tensort along the first dimension axis=0."
   ]
  },
  {
   "cell_type": "markdown",
   "id": "8cc93572",
   "metadata": {},
   "source": [
    "In summary, use **from_tensors()** when you have a single large tensor or a small number of tensors to be treated as one element, and use **from_tensor_slices()** when you have a larger dataset with multiple elements and you want to process them individually."
   ]
  },
  {
   "cell_type": "markdown",
   "id": "5d6e77fa",
   "metadata": {},
   "source": [
    "### Tips: If all of your input data fits into the memory \n",
    "- If all of your input data fits in memory, the simplest way to create a **Dataset** from them is to convert them to **tf.Tensor** objects and use **Dataset.from_tensor_slices**.\n",
    "- Note that we don't have to explictly convert the python list or numpy array into tf.Tensor using tf.constant()/tf.Variable() function, we can directly pass them into from_tensor_slices."
   ]
  },
  {
   "cell_type": "code",
   "execution_count": 25,
   "id": "4fa888d8",
   "metadata": {},
   "outputs": [],
   "source": [
    "train, test = tf.keras.datasets.fashion_mnist.load_data()"
   ]
  },
  {
   "cell_type": "code",
   "execution_count": 26,
   "id": "e8e38942",
   "metadata": {},
   "outputs": [
    {
     "data": {
      "text/plain": [
       "((60000, 28, 28), (60000,))"
      ]
     },
     "execution_count": 26,
     "metadata": {},
     "output_type": "execute_result"
    }
   ],
   "source": [
    "images, labels = train\n",
    "images.shape, labels.shape"
   ]
  },
  {
   "cell_type": "code",
   "execution_count": 28,
   "id": "ae60387f",
   "metadata": {},
   "outputs": [
    {
     "data": {
      "text/plain": [
       "(numpy.ndarray, numpy.ndarray)"
      ]
     },
     "execution_count": 28,
     "metadata": {},
     "output_type": "execute_result"
    }
   ],
   "source": [
    "type(images), type(labels)"
   ]
  },
  {
   "cell_type": "code",
   "execution_count": 29,
   "id": "00c81298",
   "metadata": {},
   "outputs": [],
   "source": [
    "dataset = tf.data.Dataset.from_tensor_slices((images, labels))"
   ]
  },
  {
   "cell_type": "code",
   "execution_count": 35,
   "id": "02dbbf91",
   "metadata": {},
   "outputs": [
    {
     "name": "stdout",
     "output_type": "stream",
     "text": [
      "Image shape:  (28, 28)\n",
      "label:  tf.Tensor(9, shape=(), dtype=uint8)\n",
      "Type of the image:  <class 'tensorflow.python.framework.ops.EagerTensor'>\n",
      "Type of the label:  <class 'tensorflow.python.framework.ops.EagerTensor'>\n"
     ]
    }
   ],
   "source": [
    "for item in dataset:\n",
    "    img, label = item\n",
    "    print(\"Image shape: \", img.shape)\n",
    "    print(\"label: \", label)\n",
    "    print(\"Type of the image: \", type(img))\n",
    "    print(\"Type of the label: \", type(label))\n",
    "    break"
   ]
  },
  {
   "cell_type": "markdown",
   "id": "a31b0cdd",
   "metadata": {},
   "source": [
    "***Note: The above code snippet will embed the features and labels arrays in your TensorFlow graph as tf.constant() operations. This works well for a small dataset, but wastes memory---because the contents of the array will be copied multiple times---and can run into the 2GB limit for the tf.GraphDef protocol buffer.***"
   ]
  },
  {
   "cell_type": "markdown",
   "id": "8438363a",
   "metadata": {},
   "source": [
    "Dataset Object allows to itterate over batch also"
   ]
  },
  {
   "cell_type": "code",
   "execution_count": 39,
   "id": "a50f6b78",
   "metadata": {},
   "outputs": [
    {
     "name": "stdout",
     "output_type": "stream",
     "text": [
      "Images shape:  (10, 28, 28)\n",
      "Labels shape:  (10,)\n"
     ]
    },
    {
     "name": "stderr",
     "output_type": "stream",
     "text": [
      "2023-07-23 16:30:52.679317: I tensorflow/core/common_runtime/executor.cc:1197] [/device:CPU:0] (DEBUG INFO) Executor start aborting (this does not indicate an error and you can ignore this message): INVALID_ARGUMENT: You must feed a value for placeholder tensor 'Placeholder/_1' with dtype uint8 and shape [60000]\n",
      "\t [[{{node Placeholder/_1}}]]\n"
     ]
    }
   ],
   "source": [
    "for batch in dataset.batch(10, drop_remainder=True):\n",
    "    imgs, labels = batch\n",
    "    print(\"Images shape: \", imgs.shape)\n",
    "    print(\"Labels shape: \", labels.shape)\n",
    "    break"
   ]
  },
  {
   "cell_type": "markdown",
   "id": "935abfe9",
   "metadata": {},
   "source": [
    "# TextLineDataset\n"
   ]
  },
  {
   "cell_type": "code",
   "execution_count": null,
   "id": "b4444438",
   "metadata": {},
   "outputs": [],
   "source": []
  }
 ],
 "metadata": {
  "kernelspec": {
   "display_name": "Python 3 (ipykernel)",
   "language": "python",
   "name": "python3"
  },
  "language_info": {
   "codemirror_mode": {
    "name": "ipython",
    "version": 3
   },
   "file_extension": ".py",
   "mimetype": "text/x-python",
   "name": "python",
   "nbconvert_exporter": "python",
   "pygments_lexer": "ipython3",
   "version": "3.10.0"
  }
 },
 "nbformat": 4,
 "nbformat_minor": 5
}
