{
 "cells": [
  {
   "cell_type": "markdown",
   "id": "7f328d9a",
   "metadata": {},
   "source": [
    "# Tensorflow Operations"
   ]
  },
  {
   "cell_type": "markdown",
   "id": "a2370588",
   "metadata": {},
   "source": [
    "## TF maths"
   ]
  },
  {
   "cell_type": "code",
   "execution_count": 1,
   "id": "81cbb0b9",
   "metadata": {},
   "outputs": [
    {
     "name": "stderr",
     "output_type": "stream",
     "text": [
      "2023-07-14 19:01:39.803843: I tensorflow/tsl/cuda/cudart_stub.cc:28] Could not find cuda drivers on your machine, GPU will not be used.\n",
      "2023-07-14 19:01:39.937467: I tensorflow/tsl/cuda/cudart_stub.cc:28] Could not find cuda drivers on your machine, GPU will not be used.\n",
      "2023-07-14 19:01:39.939318: I tensorflow/core/platform/cpu_feature_guard.cc:182] This TensorFlow binary is optimized to use available CPU instructions in performance-critical operations.\n",
      "To enable the following instructions: AVX2 FMA, in other operations, rebuild TensorFlow with the appropriate compiler flags.\n",
      "2023-07-14 19:01:41.293634: W tensorflow/compiler/tf2tensorrt/utils/py_utils.cc:38] TF-TRT Warning: Could not find TensorRT\n"
     ]
    }
   ],
   "source": [
    "import tensorflow as tf"
   ]
  },
  {
   "cell_type": "markdown",
   "id": "b584c6e3",
   "metadata": {},
   "source": [
    "### abs"
   ]
  },
  {
   "cell_type": "code",
   "execution_count": 2,
   "id": "ce49d472",
   "metadata": {},
   "outputs": [
    {
     "data": {
      "text/plain": [
       "<tf.Tensor: shape=(3,), dtype=float32, numpy=array([1. , 0.5, 2. ], dtype=float32)>"
      ]
     },
     "execution_count": 2,
     "metadata": {},
     "output_type": "execute_result"
    }
   ],
   "source": [
    "x = tf.constant([-1, -0.5, 2])\n",
    "tf.math.abs(x)"
   ]
  },
  {
   "cell_type": "markdown",
   "id": "901b0d09",
   "metadata": {},
   "source": [
    "### acos"
   ]
  },
  {
   "cell_type": "code",
   "execution_count": 3,
   "id": "bbb6d183",
   "metadata": {},
   "outputs": [
    {
     "data": {
      "text/plain": [
       "<tf.Tensor: shape=(3,), dtype=float32, numpy=array([3.1415927, 2.0943952,       nan], dtype=float32)>"
      ]
     },
     "execution_count": 3,
     "metadata": {},
     "output_type": "execute_result"
    }
   ],
   "source": [
    "# acos --> inverse of cos\n",
    "# y = tf.math.cost(x)\n",
    "# x = tf.math.acos(y) \n",
    "tf.math.acos(x)"
   ]
  },
  {
   "cell_type": "markdown",
   "id": "adbda673",
   "metadata": {},
   "source": [
    "### add\n",
    " returns element wise addition"
   ]
  },
  {
   "cell_type": "code",
   "execution_count": 4,
   "id": "09c51b31",
   "metadata": {},
   "outputs": [
    {
     "data": {
      "text/plain": [
       "(<tf.Tensor: shape=(3,), dtype=float32, numpy=array([0., 0., 1.], dtype=float32)>,\n",
       " <tf.Tensor: shape=(3,), dtype=float32, numpy=array([0. , 0.5, 3. ], dtype=float32)>)"
      ]
     },
     "execution_count": 4,
     "metadata": {},
     "output_type": "execute_result"
    }
   ],
   "source": [
    "y =tf.add(x, [1, 0.5, -1])\n",
    "z = tf.add(x, 1) # performs broadcasting\n",
    "y, z"
   ]
  },
  {
   "cell_type": "code",
   "execution_count": 5,
   "id": "f5566176",
   "metadata": {},
   "outputs": [
    {
     "data": {
      "text/plain": [
       "(<tf.Tensor: shape=(3,), dtype=float32, numpy=array([0., 0., 1.], dtype=float32)>,\n",
       " <tf.Tensor: shape=(3,), dtype=float32, numpy=array([0. , 0.5, 3. ], dtype=float32)>)"
      ]
     },
     "execution_count": 5,
     "metadata": {},
     "output_type": "execute_result"
    }
   ],
   "source": [
    "# alternatively you can use + operator\n",
    "y = x + [1, 0.5, -1]\n",
    "z = x + 1\n",
    "y, z"
   ]
  },
  {
   "cell_type": "markdown",
   "id": "242808e0",
   "metadata": {},
   "source": [
    "**Warning:** If one of the inputs (x or y) is a tensor and the other is a non-tensor, the non-tensor input will adopt (or get casted to) the data type of the tensor input. This can potentially cause unwanted overflow or underflow conversion."
   ]
  },
  {
   "cell_type": "markdown",
   "id": "f74475fd",
   "metadata": {},
   "source": [
    "### add_n\n",
    "- Returns the element-wise sum of a list of tensors.\n",
    "- All inputs in the list must have the same shape. This op does not broadcast its inputs. If you need broadcasting, use tf.math.add (or the + operator) instead."
   ]
  },
  {
   "cell_type": "code",
   "execution_count": 6,
   "id": "c07fabcb",
   "metadata": {},
   "outputs": [
    {
     "data": {
      "text/plain": [
       "<tf.Tensor: shape=(3,), dtype=int32, numpy=array([5, 7, 9], dtype=int32)>"
      ]
     },
     "execution_count": 6,
     "metadata": {},
     "output_type": "execute_result"
    }
   ],
   "source": [
    "tensors = [tf.constant([1,2,3]), tf.constant([4,5,6])]\n",
    "tf.math.add_n(tensors)"
   ]
  },
  {
   "cell_type": "code",
   "execution_count": 7,
   "id": "29daa20a",
   "metadata": {},
   "outputs": [
    {
     "name": "stdout",
     "output_type": "stream",
     "text": [
      "{{function_node __wrapped__AddN_N_2_device_/job:localhost/replica:0/task:0/device:CPU:0}} Inputs to operation AddN of type AddN must have the same size and shape.  Input 0: [3] != input 1: [1] [Op:AddN]\n",
      "doesnot broadcast\n"
     ]
    }
   ],
   "source": [
    "try:\n",
    "    tensors = [tf.constant([1,2,3]), tf.constant([4])]\n",
    "    tf.math.add_n(tensors)\n",
    "except Exception as e:\n",
    "    print(e)\n",
    "    print(\"doesnot broadcast\")"
   ]
  },
  {
   "cell_type": "code",
   "execution_count": 8,
   "id": "57e02822",
   "metadata": {},
   "outputs": [
    {
     "data": {
      "text/plain": [
       "<tf.Tensor: shape=(3,), dtype=int32, numpy=array([5, 7, 9], dtype=int32)>"
      ]
     },
     "execution_count": 8,
     "metadata": {},
     "output_type": "execute_result"
    }
   ],
   "source": [
    "tensors = tf.constant([[1,2,3], [4,5,6]])\n",
    "tf.math.add_n(tensors)"
   ]
  },
  {
   "cell_type": "code",
   "execution_count": 9,
   "id": "06c9a600",
   "metadata": {},
   "outputs": [
    {
     "data": {
      "text/plain": [
       "<tf.Tensor: shape=(2, 3), dtype=int32, numpy=\n",
       "array([[ 3,  6,  9],\n",
       "       [12, 15, 18]], dtype=int32)>"
      ]
     },
     "execution_count": 9,
     "metadata": {},
     "output_type": "execute_result"
    }
   ],
   "source": [
    "a = tf.constant([[1,2,3],\n",
    "                 [4,5,6]])\n",
    "\n",
    "b = tf.constant([[1,2,3],\n",
    "                 [4,5,6]])\n",
    "\n",
    "c = tf.constant([[1,2,3],\n",
    "                 [4,5,6]])\n",
    "\n",
    "tf.math.add_n([a, b, c])"
   ]
  },
  {
   "cell_type": "markdown",
   "id": "56be04e8",
   "metadata": {},
   "source": [
    "### approx_max_k\n",
    "\n",
    "Returns max k values and their indices of the input operand in an approximate manner.  This op is only optimized on TPU currently."
   ]
  },
  {
   "cell_type": "markdown",
   "id": "1cd76e3a",
   "metadata": {},
   "source": [
    "### argmax\n",
    "Returns the index with the largest value across axes of a tensor."
   ]
  },
  {
   "cell_type": "code",
   "execution_count": 10,
   "id": "795014fc",
   "metadata": {},
   "outputs": [
    {
     "data": {
      "text/plain": [
       "2"
      ]
     },
     "execution_count": 10,
     "metadata": {},
     "output_type": "execute_result"
    }
   ],
   "source": [
    "a = tf.constant([1, 2, 5, 3, 4])\n",
    "tf.math.argmax(a).numpy()"
   ]
  },
  {
   "cell_type": "code",
   "execution_count": 11,
   "id": "843933bf",
   "metadata": {},
   "outputs": [
    {
     "name": "stdout",
     "output_type": "stream",
     "text": [
      "(2, 3)\n"
     ]
    },
    {
     "data": {
      "text/plain": [
       "array([1, 1, 0])"
      ]
     },
     "execution_count": 11,
     "metadata": {},
     "output_type": "execute_result"
    }
   ],
   "source": [
    "a = tf.constant([[1, 2, 3],\n",
    "                 [4, 5, 1]])\n",
    "print(a.shape)\n",
    "tf.math.argmax(a, axis=0).numpy() # axis = 0, num of columns will be preserved, argmax along rows"
   ]
  },
  {
   "cell_type": "markdown",
   "id": "9c390f3a",
   "metadata": {},
   "source": [
    "- 1 -> row 1, column 0\n",
    "\n",
    "- 1 -> row 1, column 1\n",
    "\n",
    "- 0 -> row 0, column 2 "
   ]
  },
  {
   "cell_type": "code",
   "execution_count": 12,
   "id": "8a71f849",
   "metadata": {},
   "outputs": [
    {
     "data": {
      "text/plain": [
       "array([2, 1])"
      ]
     },
     "execution_count": 12,
     "metadata": {},
     "output_type": "execute_result"
    }
   ],
   "source": [
    "tf.math.argmax(a, axis=1).numpy() # axis = 1, num of rows will be preserved, argmax along columns"
   ]
  },
  {
   "cell_type": "markdown",
   "id": "d3b05d32",
   "metadata": {},
   "source": [
    "- 2 -> column 2, row 0\n",
    "- 1 -> column 1, row 1"
   ]
  },
  {
   "cell_type": "markdown",
   "id": "9b09d270",
   "metadata": {},
   "source": [
    "### argmin\n",
    "\n",
    "Returns the index with the largest value across axes of a tensor."
   ]
  },
  {
   "cell_type": "code",
   "execution_count": 13,
   "id": "6127daf4",
   "metadata": {},
   "outputs": [
    {
     "data": {
      "text/plain": [
       "0"
      ]
     },
     "execution_count": 13,
     "metadata": {},
     "output_type": "execute_result"
    }
   ],
   "source": [
    "a = tf.constant([1, 2, 5, 3, 4])\n",
    "tf.math.argmin(a).numpy()"
   ]
  },
  {
   "cell_type": "code",
   "execution_count": 14,
   "id": "aca803a5",
   "metadata": {},
   "outputs": [
    {
     "data": {
      "text/plain": [
       "array([0, 0, 1])"
      ]
     },
     "execution_count": 14,
     "metadata": {},
     "output_type": "execute_result"
    }
   ],
   "source": [
    "a = tf.constant([[1, 2, 3],\n",
    "                 [4, 5, 1]])\n",
    "tf.math.argmin(a, axis=0).numpy()"
   ]
  },
  {
   "cell_type": "code",
   "execution_count": 15,
   "id": "856f6632",
   "metadata": {},
   "outputs": [
    {
     "data": {
      "text/plain": [
       "array([0, 2])"
      ]
     },
     "execution_count": 15,
     "metadata": {},
     "output_type": "execute_result"
    }
   ],
   "source": [
    "tf.math.argmin(a, axis=1).numpy()"
   ]
  },
  {
   "cell_type": "markdown",
   "id": "885ac6e8",
   "metadata": {},
   "source": [
    "### bincount\n",
    "Counts the number of occurrences of each value in an integer array."
   ]
  },
  {
   "cell_type": "code",
   "execution_count": 16,
   "id": "667381b6",
   "metadata": {},
   "outputs": [
    {
     "data": {
      "text/plain": [
       "array([1, 4, 3, 2], dtype=int32)"
      ]
     },
     "execution_count": 16,
     "metadata": {},
     "output_type": "execute_result"
    }
   ],
   "source": [
    "a = tf.constant([1,1,1,1,2,2,2,3,3,0])\n",
    "tf.math.bincount(a).numpy()"
   ]
  },
  {
   "cell_type": "markdown",
   "id": "dd403ec3",
   "metadata": {},
   "source": [
    "- 0 --> 1\n",
    "- 1 --> 4\n",
    "- 2 --> 3\n",
    "- 3 --> 2"
   ]
  },
  {
   "cell_type": "code",
   "execution_count": 17,
   "id": "d415bd5b",
   "metadata": {},
   "outputs": [
    {
     "data": {
      "text/plain": [
       "array([0, 0, 3, 0, 0, 0, 0, 0, 0, 0, 3], dtype=int32)"
      ]
     },
     "execution_count": 17,
     "metadata": {},
     "output_type": "execute_result"
    }
   ],
   "source": [
    "a = tf.constant([10, 10, 10, 2, 2, 2])\n",
    "tf.math.bincount(a).numpy()"
   ]
  },
  {
   "cell_type": "markdown",
   "id": "44454d9c",
   "metadata": {},
   "source": [
    "By default bin spacing will be 1 starting from 0 to the max_value of the array"
   ]
  },
  {
   "cell_type": "code",
   "execution_count": 18,
   "id": "eee189df",
   "metadata": {},
   "outputs": [
    {
     "data": {
      "text/plain": [
       "array([0, 0, 3, 0, 0], dtype=int32)"
      ]
     },
     "execution_count": 18,
     "metadata": {},
     "output_type": "execute_result"
    }
   ],
   "source": [
    "tf.math.bincount(a, minlength=0, maxlength=5).numpy()"
   ]
  },
  {
   "cell_type": "markdown",
   "id": "69ad5088",
   "metadata": {},
   "source": [
    "- Note that tf.math.bincount() assumes the input tensor contains only non-negative integer values. Negative values or non-integer values will result in an error.\n",
    "\n",
    "- The tf.math.bincount() function is commonly used for tasks such as computing the frequency of classes in classification problems or analyzing distribution patterns of integer values."
   ]
  },
  {
   "cell_type": "markdown",
   "id": "f508cdbb",
   "metadata": {},
   "source": [
    "### confusion_matrix\n",
    "\n",
    "Computes the confusion matrix from predictions and labels."
   ]
  },
  {
   "cell_type": "code",
   "execution_count": 19,
   "id": "fc445080",
   "metadata": {},
   "outputs": [],
   "source": [
    "y_pred = tf.constant([1,1,1,0,0,0])\n",
    "y_true = tf.constant([0,0,1,0,0,1])"
   ]
  },
  {
   "cell_type": "code",
   "execution_count": 20,
   "id": "215ff34c",
   "metadata": {},
   "outputs": [
    {
     "data": {
      "text/plain": [
       "<tf.Tensor: shape=(2, 2), dtype=int32, numpy=\n",
       "array([[2, 2],\n",
       "       [1, 1]], dtype=int32)>"
      ]
     },
     "execution_count": 20,
     "metadata": {},
     "output_type": "execute_result"
    }
   ],
   "source": [
    "tf.math.confusion_matrix(labels=y_true,\n",
    "                         predictions=y_pred,\n",
    "                         num_classes=2)"
   ]
  },
  {
   "cell_type": "code",
   "execution_count": 21,
   "id": "f4bd150e",
   "metadata": {},
   "outputs": [
    {
     "data": {
      "text/plain": [
       "<tf.Tensor: shape=(7, 7), dtype=int32, numpy=\n",
       "array([[1, 0, 0, 0, 0, 0, 0],\n",
       "       [1, 1, 0, 0, 0, 0, 1],\n",
       "       [0, 0, 1, 0, 0, 0, 0],\n",
       "       [0, 0, 0, 1, 0, 0, 0],\n",
       "       [0, 0, 0, 0, 0, 0, 0],\n",
       "       [0, 0, 0, 0, 0, 0, 0],\n",
       "       [0, 0, 0, 0, 0, 0, 0]], dtype=int32)>"
      ]
     },
     "execution_count": 21,
     "metadata": {},
     "output_type": "execute_result"
    }
   ],
   "source": [
    "y_pred = tf.constant([1,2,3,6,0,0])\n",
    "y_true = tf.constant([1,2,3,1,0,1])\n",
    "\n",
    "tf.math.confusion_matrix(y_true, y_pred)"
   ]
  },
  {
   "cell_type": "markdown",
   "id": "53fee573",
   "metadata": {},
   "source": [
    "Note that the possible labels are assumed to be [0, 1, 2, 3, 4, 5, 6], resulting in a 5x5 confusion matrix."
   ]
  },
  {
   "cell_type": "markdown",
   "id": "6e5cf886",
   "metadata": {},
   "source": [
    "**To do:**\n",
    "- find out about weight parameter in confuision metrix"
   ]
  },
  {
   "cell_type": "markdown",
   "id": "ba9fabad",
   "metadata": {},
   "source": [
    "### count_nonzero\n",
    "Computes number of nonzero elements across dimensions of a tensor."
   ]
  },
  {
   "cell_type": "code",
   "execution_count": 25,
   "id": "37420556",
   "metadata": {},
   "outputs": [
    {
     "data": {
      "text/plain": [
       "<tf.Tensor: shape=(3,), dtype=int64, numpy=array([1, 1, 2])>"
      ]
     },
     "execution_count": 25,
     "metadata": {},
     "output_type": "execute_result"
    }
   ],
   "source": [
    "x = tf.constant([[0, 0, 1],\n",
    "                 [1, 2, 4]])\n",
    "tf.math.count_nonzero(x, axis=0)"
   ]
  },
  {
   "cell_type": "code",
   "execution_count": 26,
   "id": "907cde29",
   "metadata": {},
   "outputs": [
    {
     "data": {
      "text/plain": [
       "<tf.Tensor: shape=(2,), dtype=int64, numpy=array([1, 3])>"
      ]
     },
     "execution_count": 26,
     "metadata": {},
     "output_type": "execute_result"
    }
   ],
   "source": [
    "tf.math.count_nonzero(x, axis=1)"
   ]
  },
  {
   "cell_type": "code",
   "execution_count": 31,
   "id": "3d27ec0b",
   "metadata": {},
   "outputs": [
    {
     "data": {
      "text/plain": [
       "<tf.Tensor: shape=(2, 1), dtype=int64, numpy=\n",
       "array([[1],\n",
       "       [3]])>"
      ]
     },
     "execution_count": 31,
     "metadata": {},
     "output_type": "execute_result"
    }
   ],
   "source": [
    "tf.math.count_nonzero(x, axis=1, keepdims=True)"
   ]
  },
  {
   "cell_type": "code",
   "execution_count": 32,
   "id": "91302055",
   "metadata": {},
   "outputs": [
    {
     "data": {
      "text/plain": [
       "<tf.Tensor: shape=(1, 1), dtype=int64, numpy=array([[4]])>"
      ]
     },
     "execution_count": 32,
     "metadata": {},
     "output_type": "execute_result"
    }
   ],
   "source": [
    "tf.math.count_nonzero(x, axis=[0, 1], keepdims=True)"
   ]
  },
  {
   "cell_type": "markdown",
   "id": "96eb108c",
   "metadata": {},
   "source": [
    "### cumprod\n",
    "Compute the cumulative product of the tensor x along axis.\n",
    "[a, b, c] --> [a, a * b, a * b * c]\n"
   ]
  },
  {
   "cell_type": "code",
   "execution_count": 34,
   "id": "a7990a80",
   "metadata": {},
   "outputs": [
    {
     "data": {
      "text/plain": [
       "<tf.Tensor: shape=(2, 3), dtype=int32, numpy=\n",
       "array([[0, 0, 1],\n",
       "       [0, 0, 4]], dtype=int32)>"
      ]
     },
     "execution_count": 34,
     "metadata": {},
     "output_type": "execute_result"
    }
   ],
   "source": [
    "x = tf.constant([[0, 0, 1],\n",
    "                 [1, 2, 4]])\n",
    "\n",
    "tf.math.cumprod(x, axis=0)"
   ]
  },
  {
   "cell_type": "code",
   "execution_count": 37,
   "id": "545a8b89",
   "metadata": {},
   "outputs": [
    {
     "data": {
      "text/plain": [
       "<tf.Tensor: shape=(2, 3), dtype=int32, numpy=\n",
       "array([[0, 0, 0],\n",
       "       [1, 2, 8]], dtype=int32)>"
      ]
     },
     "execution_count": 37,
     "metadata": {},
     "output_type": "execute_result"
    }
   ],
   "source": [
    "tf.math.cumprod(x, axis=1)"
   ]
  },
  {
   "cell_type": "code",
   "execution_count": 39,
   "id": "651d5218",
   "metadata": {},
   "outputs": [
    {
     "data": {
      "text/plain": [
       "<tf.Tensor: shape=(4,), dtype=int32, numpy=array([1, 1, 2, 6], dtype=int32)>"
      ]
     },
     "execution_count": 39,
     "metadata": {},
     "output_type": "execute_result"
    }
   ],
   "source": [
    "# if exclusive is true the\n",
    "# item[i] = item[1] * item[2]...*item[i-1]\n",
    "x = tf.constant([1,2,3,4])\n",
    "tf.math.cumprod(x, exclusive=True)"
   ]
  },
  {
   "cell_type": "markdown",
   "id": "500e7ac8",
   "metadata": {},
   "source": [
    "cum_x[0] = 1\n",
    "\n",
    "cum_x[1] = x[0] = 1\n",
    "\n",
    "cum_x[2] = x[0] * x[1] = 1 * 2 = 2\n",
    "\n",
    "cum_x[3] = x[0] * x[1] * x[2] = 1 * 2 * 3 = 6"
   ]
  },
  {
   "cell_type": "markdown",
   "id": "41fcf8a1",
   "metadata": {},
   "source": [
    "### cumsum\n",
    "- Similar to cumprod, instead of produce, summation will be performed.\n",
    "- Compute the cumulative sum of the tensor x along axis.\n"
   ]
  },
  {
   "cell_type": "markdown",
   "id": "3c434239",
   "metadata": {},
   "source": [
    "### divide\n",
    "element-wise divide"
   ]
  },
  {
   "cell_type": "code",
   "execution_count": 45,
   "id": "69d2f016",
   "metadata": {},
   "outputs": [
    {
     "data": {
      "text/plain": [
       "<tf.Tensor: shape=(2,), dtype=float32, numpy=array([5., 4.], dtype=float32)>"
      ]
     },
     "execution_count": 45,
     "metadata": {},
     "output_type": "execute_result"
    }
   ],
   "source": [
    "x = [10.,20.]\n",
    "y = [2, 5]\n",
    "tf.math.divide(x, y)"
   ]
  },
  {
   "cell_type": "markdown",
   "id": "114a0ab7",
   "metadata": {},
   "source": [
    "### divide_no_nan\n",
    "- save divide, return zero in case of zero divisible case"
   ]
  },
  {
   "cell_type": "code",
   "execution_count": 46,
   "id": "b59d01a3",
   "metadata": {},
   "outputs": [
    {
     "data": {
      "text/plain": [
       "<tf.Tensor: shape=(2,), dtype=float32, numpy=array([ 0., 10.], dtype=float32)>"
      ]
     },
     "execution_count": 46,
     "metadata": {},
     "output_type": "execute_result"
    }
   ],
   "source": [
    "y = [0., 2.]\n",
    "tf.math.divide_no_nan(x, y)"
   ]
  },
  {
   "cell_type": "markdown",
   "id": "227555e8",
   "metadata": {},
   "source": [
    "### equal\n",
    "- Returns the truth value of (x == y) element-wise."
   ]
  },
  {
   "cell_type": "code",
   "execution_count": 47,
   "id": "4a7d6b08",
   "metadata": {},
   "outputs": [
    {
     "data": {
      "text/plain": [
       "<tf.Tensor: shape=(2,), dtype=bool, numpy=array([ True, False])>"
      ]
     },
     "execution_count": 47,
     "metadata": {},
     "output_type": "execute_result"
    }
   ],
   "source": [
    "x = [2. , 3.]\n",
    "y = [2. , 4.]\n",
    "tf.math.equal(x, y)"
   ]
  },
  {
   "cell_type": "code",
   "execution_count": null,
   "id": "1a6e8845",
   "metadata": {},
   "outputs": [],
   "source": []
  }
 ],
 "metadata": {
  "kernelspec": {
   "display_name": "Python 3 (ipykernel)",
   "language": "python",
   "name": "python3"
  },
  "language_info": {
   "codemirror_mode": {
    "name": "ipython",
    "version": 3
   },
   "file_extension": ".py",
   "mimetype": "text/x-python",
   "name": "python",
   "nbconvert_exporter": "python",
   "pygments_lexer": "ipython3",
   "version": "3.10.0"
  }
 },
 "nbformat": 4,
 "nbformat_minor": 5
}
