{
 "cells": [
  {
   "cell_type": "markdown",
   "id": "57cddbf2",
   "metadata": {},
   "source": [
    "# Tensorflow basic\n",
    "\n",
    "This notebook is designed to provide a comprehensive introduction to the basics of TensorFlow, a popular open-source library for machine learning and deep learning. Whether you're new to TensorFlow or looking to refresh your understanding, this notebook will guide you through the fundamental concepts and syntax of TensorFlow."
   ]
  },
  {
   "cell_type": "markdown",
   "id": "78173db0",
   "metadata": {},
   "source": [
    "## Table of content\n",
    "- [Installation](#installation)\n",
    "- [Components of tensorflow](#components)\n",
    "    - [Tensor](#tensor)\n",
    "    - [Variable](#variable)\n",
    "    - [Graph](#graph)"
   ]
  },
  {
   "cell_type": "markdown",
   "id": "f1ffd02b",
   "metadata": {},
   "source": [
    "## <a name=\"installation\"></a>  Installation\n",
    "\n",
    "```bash\n",
    "#using pip\n",
    "\n",
    "!pip install tensorflow==2.12.*\n",
    "```\n",
    "You can install tensorflow using conda also, but I would recommend you to use pip because I have encountered some dependencies issues while using conda. Note that You can use pip inside conda environment. \n",
    "\n",
    "we are going to install tensorflow v2.12"
   ]
  },
  {
   "cell_type": "code",
   "execution_count": 1,
   "id": "22ddf1b2",
   "metadata": {},
   "outputs": [],
   "source": [
    "# using pip \n",
    "\n",
    "# ! pip install tensorflow==2.12 -q"
   ]
  },
  {
   "cell_type": "code",
   "execution_count": 1,
   "id": "30826a9b",
   "metadata": {},
   "outputs": [
    {
     "name": "stderr",
     "output_type": "stream",
     "text": [
      "2023-07-12 09:42:16.582050: I tensorflow/tsl/cuda/cudart_stub.cc:28] Could not find cuda drivers on your machine, GPU will not be used.\n",
      "2023-07-12 09:42:16.624234: I tensorflow/tsl/cuda/cudart_stub.cc:28] Could not find cuda drivers on your machine, GPU will not be used.\n",
      "2023-07-12 09:42:16.625197: I tensorflow/core/platform/cpu_feature_guard.cc:182] This TensorFlow binary is optimized to use available CPU instructions in performance-critical operations.\n",
      "To enable the following instructions: AVX2 FMA, in other operations, rebuild TensorFlow with the appropriate compiler flags.\n",
      "2023-07-12 09:42:17.415809: W tensorflow/compiler/tf2tensorrt/utils/py_utils.cc:38] TF-TRT Warning: Could not find TensorRT\n"
     ]
    },
    {
     "data": {
      "text/plain": [
       "'2.12.0'"
      ]
     },
     "execution_count": 1,
     "metadata": {},
     "output_type": "execute_result"
    }
   ],
   "source": [
    "# importing and checking version\n",
    "import tensorflow as tf\n",
    "\n",
    "\n",
    "tf.__version__"
   ]
  },
  {
   "cell_type": "code",
   "execution_count": 2,
   "id": "7ebaaed8",
   "metadata": {},
   "outputs": [
    {
     "data": {
      "text/plain": [
       "'2.12.0'"
      ]
     },
     "execution_count": 2,
     "metadata": {},
     "output_type": "execute_result"
    }
   ],
   "source": [
    "# to hide the waring or debugging info run this cell \n",
    "import os\n",
    "os.environ['TF_CPP_MIN_LOG_LEVEL'] = '3' \n",
    "\n",
    "tf.__version__"
   ]
  },
  {
   "cell_type": "markdown",
   "id": "6b90e776",
   "metadata": {},
   "source": [
    "# <a name=\"components\"></a>  Components of tensorflow 2\n",
    "Here are some of the major components of tensorflow"
   ]
  },
  {
   "cell_type": "markdown",
   "id": "f24dcc96",
   "metadata": {},
   "source": [
    "## <a name=\"tensor\"></a> 1. Tensor\n",
    "\n",
    "- A tensor is a generalization of vectors and matrices to potentially higher dimensions. \n",
    "- Internally, TensorFlow represents tensors as n-dimensional arrays of base datatypes. \n",
    "- Each element in the Tensor has the same data type, and the data type is always known.\n",
    "- The shape (that is, the number of dimensions it has and the size of each dimension) might be only partially known. Most operations produce tensors of fully-known shapes if the shapes of their inputs are also fully known, but in some cases it’s only possible to find the shape of a tensor at graph execution time.\n",
    "- *if you're familiar with NumPy, tensors are (kind of) like np.arrays*\n",
    "\n",
    "**References**\n",
    "- https://www.geeksforgeeks.org/introduction-tensor-tensorflow/\n",
    "- https://www.tensorflow.org/guide/tensor"
   ]
  },
  {
   "cell_type": "code",
   "execution_count": 28,
   "id": "34e5ac38",
   "metadata": {},
   "outputs": [
    {
     "data": {
      "text/plain": [
       "['as_datatype_enum',\n",
       " 'as_numpy_dtype',\n",
       " 'base_dtype',\n",
       " 'experimental_as_proto',\n",
       " 'experimental_from_proto',\n",
       " 'experimental_type_proto',\n",
       " 'is_bool',\n",
       " 'is_compatible_with',\n",
       " 'is_complex',\n",
       " 'is_floating',\n",
       " 'is_integer',\n",
       " 'is_numpy_compatible',\n",
       " 'is_quantized',\n",
       " 'is_subtype_of',\n",
       " 'is_unsigned',\n",
       " 'limits',\n",
       " 'max',\n",
       " 'min',\n",
       " 'most_specific_common_supertype',\n",
       " 'name',\n",
       " 'placeholder_value',\n",
       " 'real_dtype',\n",
       " 'size']"
      ]
     },
     "execution_count": 28,
     "metadata": {},
     "output_type": "execute_result"
    }
   ],
   "source": [
    "# supported datatypes\n",
    "\n",
    "[item for item in dir(tf.dtypes.DType) if not item.startswith(\"_\")]"
   ]
  },
  {
   "cell_type": "markdown",
   "id": "33d4ea4d",
   "metadata": {},
   "source": [
    "### Basic tensors\n",
    "\n",
    "**Here is a \"scalar\" or \"rank-0\" tensor . A scalar contains a single value, and no \"axes\"**"
   ]
  },
  {
   "cell_type": "code",
   "execution_count": 46,
   "id": "9c659ca5",
   "metadata": {},
   "outputs": [
    {
     "data": {
      "text/plain": [
       "<tf.Tensor: shape=(), dtype=int32, numpy=4>"
      ]
     },
     "execution_count": 46,
     "metadata": {},
     "output_type": "execute_result"
    }
   ],
   "source": [
    "r0 = tf.constant(4)\n",
    "r0"
   ]
  },
  {
   "cell_type": "code",
   "execution_count": 47,
   "id": "31ff1ac9",
   "metadata": {},
   "outputs": [
    {
     "data": {
      "text/plain": [
       "TensorShape([])"
      ]
     },
     "execution_count": 47,
     "metadata": {},
     "output_type": "execute_result"
    }
   ],
   "source": [
    "r0.shape"
   ]
  },
  {
   "cell_type": "markdown",
   "id": "5d36547b",
   "metadata": {},
   "source": [
    "**A \"vector\" or \"rank-1\" tensor is like a list of values. A vector has one axis**"
   ]
  },
  {
   "cell_type": "code",
   "execution_count": 51,
   "id": "280b6ac8",
   "metadata": {},
   "outputs": [
    {
     "data": {
      "text/plain": [
       "<tf.Tensor: shape=(3,), dtype=int32, numpy=array([0, 1, 2], dtype=int32)>"
      ]
     },
     "execution_count": 51,
     "metadata": {},
     "output_type": "execute_result"
    }
   ],
   "source": [
    "r1 = tf.constant([0, 1, 2])\n",
    "r1"
   ]
  },
  {
   "cell_type": "code",
   "execution_count": 52,
   "id": "cb369263",
   "metadata": {},
   "outputs": [
    {
     "data": {
      "text/plain": [
       "TensorShape([3])"
      ]
     },
     "execution_count": 52,
     "metadata": {},
     "output_type": "execute_result"
    }
   ],
   "source": [
    "r1.shape"
   ]
  },
  {
   "cell_type": "markdown",
   "id": "9f8fccdf",
   "metadata": {},
   "source": [
    "- All tensors are immutable like Python numbers and strings: you can never update the contents of a tensor, only create a new one."
   ]
  },
  {
   "cell_type": "code",
   "execution_count": 155,
   "id": "c8c79861",
   "metadata": {},
   "outputs": [
    {
     "name": "stdout",
     "output_type": "stream",
     "text": [
      "'tensorflow.python.framework.ops.EagerTensor' object does not support item assignment\n"
     ]
    },
    {
     "data": {
      "text/plain": [
       "<tf.Tensor: shape=(3,), dtype=int32, numpy=array([2, 3, 4], dtype=int32)>"
      ]
     },
     "execution_count": 155,
     "metadata": {},
     "output_type": "execute_result"
    }
   ],
   "source": [
    "# we cannot assign values in the tensor like in a numpy array\n",
    "try:\n",
    "    r1[0] = 5\n",
    "except Exception as e:\n",
    "    print(e)\n",
    "r1"
   ]
  },
  {
   "cell_type": "code",
   "execution_count": 156,
   "id": "cf3f36b2",
   "metadata": {},
   "outputs": [
    {
     "data": {
      "text/plain": [
       "array([5, 2, 3])"
      ]
     },
     "execution_count": 156,
     "metadata": {},
     "output_type": "execute_result"
    }
   ],
   "source": [
    "x = np.array([1,2,3])\n",
    "x[0] = 5\n",
    "x"
   ]
  },
  {
   "cell_type": "markdown",
   "id": "a11cf39e",
   "metadata": {},
   "source": [
    "**A \"matrix\" or \"rank-2\" tensor has two axes**"
   ]
  },
  {
   "cell_type": "code",
   "execution_count": 53,
   "id": "b766e00d",
   "metadata": {},
   "outputs": [
    {
     "data": {
      "text/plain": [
       "<tf.Tensor: shape=(2, 3), dtype=int32, numpy=\n",
       "array([[0, 1, 2],\n",
       "       [3, 4, 5]], dtype=int32)>"
      ]
     },
     "execution_count": 53,
     "metadata": {},
     "output_type": "execute_result"
    }
   ],
   "source": [
    "r2 = tf.constant([[0,1,2],\n",
    "                  [3,4,5]])\n",
    "r2"
   ]
  },
  {
   "cell_type": "code",
   "execution_count": 60,
   "id": "25d0c70c",
   "metadata": {},
   "outputs": [
    {
     "data": {
      "text/plain": [
       "TensorShape([2, 3])"
      ]
     },
     "execution_count": 60,
     "metadata": {},
     "output_type": "execute_result"
    }
   ],
   "source": [
    "r2.shape"
   ]
  },
  {
   "cell_type": "markdown",
   "id": "fdb08924",
   "metadata": {},
   "source": [
    "**Tensor with 3 axis**"
   ]
  },
  {
   "cell_type": "code",
   "execution_count": 65,
   "id": "a25eea08",
   "metadata": {},
   "outputs": [
    {
     "data": {
      "text/plain": [
       "<tf.Tensor: shape=(2, 2, 3), dtype=int32, numpy=\n",
       "array([[[0, 1, 2],\n",
       "        [3, 4, 5]],\n",
       "\n",
       "       [[0, 1, 2],\n",
       "        [3, 4, 5]]], dtype=int32)>"
      ]
     },
     "execution_count": 65,
     "metadata": {},
     "output_type": "execute_result"
    }
   ],
   "source": [
    "r3 = tf.constant([\n",
    "                  [\n",
    "                    [0,1,2],\n",
    "                    [3,4,5]\n",
    "                  ],\n",
    "                  \n",
    "                  [\n",
    "                    [0,1,2],\n",
    "                    [3,4,5]\n",
    "                  ]\n",
    "                 ])\n",
    "r3"
   ]
  },
  {
   "cell_type": "code",
   "execution_count": 66,
   "id": "5f715a96",
   "metadata": {},
   "outputs": [
    {
     "data": {
      "text/plain": [
       "TensorShape([2, 2, 3])"
      ]
     },
     "execution_count": 66,
     "metadata": {},
     "output_type": "execute_result"
    }
   ],
   "source": [
    "r3.shape"
   ]
  },
  {
   "attachments": {
    "image-2.png": {
     "image/png": "[encoded data removed]"
    },
    "image-3.png": {
     "image/png": "[encoded data removed]"
    },
    "image.png": {
     "image/png": "[encoded data removed]"
    }
   },
   "cell_type": "markdown",
   "id": "fc230261",
   "metadata": {},
   "source": [
    "**Rank 3 tensor visualization**\n",
    "![image-2.png](attachment:image-2.png)![image.png](attachment:image.png)![image-3.png](attachment:image-3.png)"
   ]
  },
  {
   "cell_type": "markdown",
   "id": "9110f13c",
   "metadata": {},
   "source": [
    "### Convert tensor to numpy array"
   ]
  },
  {
   "cell_type": "code",
   "execution_count": 67,
   "id": "d49dbdb3",
   "metadata": {},
   "outputs": [],
   "source": [
    "import numpy as np"
   ]
  },
  {
   "cell_type": "code",
   "execution_count": 74,
   "id": "1577b2b2",
   "metadata": {},
   "outputs": [],
   "source": [
    "# method 1\n",
    "r3_np = np.array(r3)\n",
    "\n",
    "# method 2\n",
    "r3_tf = r3.numpy()"
   ]
  },
  {
   "cell_type": "code",
   "execution_count": 75,
   "id": "5fdee845",
   "metadata": {},
   "outputs": [
    {
     "data": {
      "text/plain": [
       "(array([[[0, 1, 2],\n",
       "         [3, 4, 5]],\n",
       " \n",
       "        [[0, 1, 2],\n",
       "         [3, 4, 5]]], dtype=int32),\n",
       " array([[[0, 1, 2],\n",
       "         [3, 4, 5]],\n",
       " \n",
       "        [[0, 1, 2],\n",
       "         [3, 4, 5]]], dtype=int32))"
      ]
     },
     "execution_count": 75,
     "metadata": {},
     "output_type": "execute_result"
    }
   ],
   "source": [
    "r3_np, r3_tf"
   ]
  },
  {
   "cell_type": "code",
   "execution_count": 77,
   "id": "f8938718",
   "metadata": {},
   "outputs": [
    {
     "data": {
      "text/plain": [
       "(numpy.ndarray, numpy.ndarray)"
      ]
     },
     "execution_count": 77,
     "metadata": {},
     "output_type": "execute_result"
    }
   ],
   "source": [
    "type(r3_np), type(r3_tf)"
   ]
  },
  {
   "cell_type": "markdown",
   "id": "900d8b1a",
   "metadata": {},
   "source": [
    "### Other tensor type \n",
    "The base tf.Tensor class requires tensors to be \"rectangular\"---that is, along each axis, every element is the same size. However, there are specialized types of tensors that can handle different shapes:\n",
    "\n",
    "- [Ragged tensors](https://www.tensorflow.org/guide/tensor#ragged_tensors)\n",
    "- [Sparse tensors](https://www.tensorflow.org/guide/tensor#sparse_tensors)\n",
    "- String tensor (will cover this saperately)\n"
   ]
  },
  {
   "cell_type": "markdown",
   "id": "0f1be5b3",
   "metadata": {},
   "source": [
    "#### Ragged tensor\n",
    "- A tensor with variable numbers of elements along some axis is called \"ragged\"."
   ]
  },
  {
   "cell_type": "code",
   "execution_count": 81,
   "id": "f9415a0c",
   "metadata": {},
   "outputs": [
    {
     "name": "stdout",
     "output_type": "stream",
     "text": [
      "Can't convert non-rectangular Python sequence to Tensor.\n"
     ]
    }
   ],
   "source": [
    "ragged_list =[\n",
    "    [0,1,2,3,4],\n",
    "    [0,1],\n",
    "    [0,1,2]\n",
    "]\n",
    "\n",
    "try:\n",
    "    ragged_tensor = tf.constant(ragged_list)\n",
    "except Exception as e:\n",
    "    print(e)"
   ]
  },
  {
   "cell_type": "code",
   "execution_count": 83,
   "id": "81df4e4c",
   "metadata": {},
   "outputs": [
    {
     "data": {
      "text/plain": [
       "<tf.RaggedTensor [[0, 1, 2, 3, 4], [0, 1], [0, 1, 2]]>"
      ]
     },
     "execution_count": 83,
     "metadata": {},
     "output_type": "execute_result"
    }
   ],
   "source": [
    "ragged_tensor = tf.ragged.constant(ragged_list)\n",
    "ragged_tensor"
   ]
  },
  {
   "cell_type": "code",
   "execution_count": 84,
   "id": "a2ab3145",
   "metadata": {},
   "outputs": [
    {
     "data": {
      "text/plain": [
       "TensorShape([3, None])"
      ]
     },
     "execution_count": 84,
     "metadata": {},
     "output_type": "execute_result"
    }
   ],
   "source": [
    "ragged_tensor.shape"
   ]
  },
  {
   "cell_type": "markdown",
   "id": "23fc662e",
   "metadata": {},
   "source": [
    "### Sparse tensor [more](https://www.tensorflow.org/guide/sparse_tensor)\n",
    "Sometimes, your data is sparse, like a very wide embedding space. TensorFlow supports tf.sparse.SparseTensor and related operations to store sparse data efficiently.\n",
    "\n",
    "The (Coordinate list)COO format encoding for sparse tensors is comprised of\n",
    "- values: A 1D tensor with shape [N] containing all nonzero values.\n",
    "- indices: A 2D tensor with shape [N, rank], containing the indices of the nonzero values.\n",
    "- dense_shape: A 1D tensor with shape [rank], specifying the shape of the tensor.\n"
   ]
  },
  {
   "cell_type": "code",
   "execution_count": 112,
   "id": "5990848d",
   "metadata": {},
   "outputs": [],
   "source": [
    "sparse_list = [\n",
    "    [0, 0, 1, 0, 0],\n",
    "    [0, 0, 0, 0, 3],\n",
    "    [0, 0, 0, 0, 0]\n",
    "]\n",
    "\n",
    "# represent sparse list in a sparse format\n",
    "# define 2d indices (similar to the coordinates) where the value other than 0 is available\n",
    "indices = [[0, 2],[1, 4]]\n",
    "# specify the values corresponding to the given indices\n",
    "values = [1, 3]\n",
    "# dense shape\n",
    "shape = [3, 5]"
   ]
  },
  {
   "cell_type": "code",
   "execution_count": 113,
   "id": "f9420dd4",
   "metadata": {},
   "outputs": [],
   "source": [
    "sparse_tensor = tf.sparse.SparseTensor(indices=indices, values=values, dense_shape=shape)"
   ]
  },
  {
   "cell_type": "code",
   "execution_count": 114,
   "id": "5c575da9",
   "metadata": {},
   "outputs": [
    {
     "data": {
      "text/plain": [
       "SparseTensor(indices=tf.Tensor(\n",
       "[[0 2]\n",
       " [1 4]], shape=(2, 2), dtype=int64), values=tf.Tensor([1 3], shape=(2,), dtype=int32), dense_shape=tf.Tensor([3 5], shape=(2,), dtype=int64))"
      ]
     },
     "execution_count": 114,
     "metadata": {},
     "output_type": "execute_result"
    }
   ],
   "source": [
    "sparse_tensor"
   ]
  },
  {
   "cell_type": "code",
   "execution_count": 115,
   "id": "d3cab00c",
   "metadata": {},
   "outputs": [
    {
     "data": {
      "text/plain": [
       "<tf.Tensor: shape=(3, 5), dtype=int32, numpy=\n",
       "array([[0, 0, 1, 0, 0],\n",
       "       [0, 0, 0, 0, 3],\n",
       "       [0, 0, 0, 0, 0]], dtype=int32)>"
      ]
     },
     "execution_count": 115,
     "metadata": {},
     "output_type": "execute_result"
    }
   ],
   "source": [
    "# convert sparse tensor to dense\n",
    "tf.sparse.to_dense(sparse_tensor)"
   ]
  },
  {
   "cell_type": "markdown",
   "id": "28e3b8d6",
   "metadata": {},
   "source": [
    "### About shape\n",
    "Tensors have shapes. Some vocabulary:\n",
    "- **Shape**: The length (number of elements) of each of the axes of a tensor.\n",
    "- **Rank**: Number of tensor axes. A scalar has rank 0, a vector has rank 1, a matrix is rank 2.\n",
    "- **Axis or Dimension**: A particular dimension of a tensor.\n",
    "- **Size**: The total number of items in the tensor, the product of the shape vector's elements"
   ]
  },
  {
   "cell_type": "code",
   "execution_count": 133,
   "id": "4f94972a",
   "metadata": {},
   "outputs": [
    {
     "name": "stdout",
     "output_type": "stream",
     "text": [
      "Tensor: tf.Tensor(\n",
      "[[[0 1 2]\n",
      "  [3 4 5]]\n",
      "\n",
      " [[0 1 2]\n",
      "  [3 4 5]]], shape=(2, 2, 3), dtype=int32)\n",
      "========\n",
      "Tensor type:  <dtype: 'int32'>\n",
      "Tensor type:  int32\n",
      "Tensor Shape: [2 2 3]\n",
      "Rank:  3\n",
      "element along axis 1:  2\n",
      "size:  12\n"
     ]
    }
   ],
   "source": [
    "print(\"Tensor:\", r3)\n",
    "print(\"========\")\n",
    "print(\"Tensor type: \", r3.dtype)\n",
    "print(\"Tensor type: \", r3.dtype.name)\n",
    "# print(\"Tensor Shape:\", r3.shape)\n",
    "print(\"Tensor Shape:\", tf.shape(r3).numpy())\n",
    "print(\"Rank: \",r3.ndim)\n",
    "print(\"element along axis 1: \", r3.shape[1])\n",
    "print(\"size: \", tf.size(r3).numpy())\n",
    "\n"
   ]
  },
  {
   "cell_type": "markdown",
   "id": "ec57f827",
   "metadata": {},
   "source": [
    "# <a name=\"variable\"></a>  2. Variable\n",
    "\n",
    "- A TensorFlow variable is the recommended way to represent shared, persistent state your program manipulates.\n",
    "- Variables are created and tracked via the tf.Variable class. \n",
    "- A tf.Variable represents a tensor whose value can be changed by running ops on it. \n",
    "- Specific ops allow you to read and modify the values of this tensor. \n",
    "- Higher level libraries like tf.keras use tf.Variable to store model parameters. "
   ]
  },
  {
   "cell_type": "code",
   "execution_count": 184,
   "id": "0bc97d27",
   "metadata": {},
   "outputs": [],
   "source": [
    "# Uncomment to see where your variables get placed (see below)\n",
    "# tf.debugging.set_log_device_placement(True)"
   ]
  },
  {
   "cell_type": "code",
   "execution_count": 178,
   "id": "7016563d",
   "metadata": {},
   "outputs": [
    {
     "data": {
      "text/plain": [
       "<tf.Variable 'Variable:0' shape=(4,) dtype=int32, numpy=array([0, 1, 2, 3], dtype=int32)>"
      ]
     },
     "execution_count": 178,
     "metadata": {},
     "output_type": "execute_result"
    }
   ],
   "source": [
    "tf_var = tf.Variable([0, 1, 2, 3])\n",
    "tf_var"
   ]
  },
  {
   "cell_type": "markdown",
   "id": "51fd7d1a",
   "metadata": {},
   "source": [
    "A variable looks and acts like a tensor, and, in fact, is a data structure backed by a tf.Tensor. Like tensors, they have a dtype and a shape, and can be exported to NumPy."
   ]
  },
  {
   "cell_type": "code",
   "execution_count": 160,
   "id": "71a8f11b",
   "metadata": {},
   "outputs": [
    {
     "name": "stdout",
     "output_type": "stream",
     "text": [
      "Shape:  (4,)\n",
      "Dtype:  <dtype: 'int32'>\n",
      "To numpy:  [0 1 2 3]\n"
     ]
    }
   ],
   "source": [
    "print(\"Shape: \", tf_var.shape)\n",
    "print(\"Dtype: \", tf_var.dtype)\n",
    "print(\"To numpy: \", tf_var.numpy())"
   ]
  },
  {
   "cell_type": "markdown",
   "id": "dd780233",
   "metadata": {},
   "source": [
    "Most tensor operations work on variables as expected, although variables cannot be reshaped."
   ]
  },
  {
   "cell_type": "code",
   "execution_count": 162,
   "id": "619441e3",
   "metadata": {},
   "outputs": [
    {
     "data": {
      "text/plain": [
       "<tf.Tensor: shape=(4,), dtype=int32, numpy=array([0, 1, 2, 3], dtype=int32)>"
      ]
     },
     "execution_count": 162,
     "metadata": {},
     "output_type": "execute_result"
    }
   ],
   "source": [
    "tf.convert_to_tensor(tf_var)"
   ]
  },
  {
   "cell_type": "code",
   "execution_count": 165,
   "id": "b339f762",
   "metadata": {},
   "outputs": [
    {
     "data": {
      "text/plain": [
       "<tf.Tensor: shape=(2, 2), dtype=int32, numpy=\n",
       "array([[0, 1],\n",
       "       [2, 3]], dtype=int32)>"
      ]
     },
     "execution_count": 165,
     "metadata": {},
     "output_type": "execute_result"
    }
   ],
   "source": [
    "# This creates a new tensor; it does not reshape the variable.\n",
    "tf.reshape(tf_var, [2,2])"
   ]
  },
  {
   "cell_type": "markdown",
   "id": "5861a6f8",
   "metadata": {},
   "source": [
    "As noted above, variables are backed by tensors. You can reassign the tensor using tf.Variable.assign. Calling assign does not (usually) allocate a new tensor; instead, the existing tensor's memory is reused."
   ]
  },
  {
   "cell_type": "code",
   "execution_count": 168,
   "id": "5517fc34",
   "metadata": {},
   "outputs": [
    {
     "name": "stdout",
     "output_type": "stream",
     "text": [
      "Cannot assign value to variable ' Variable:0': Shape mismatch.The variable shape (4,), and the assigned value shape (3,) are incompatible.\n"
     ]
    }
   ],
   "source": [
    "try:\n",
    "    tf_var.assign([1, 2, 3])\n",
    "except Exception as e:\n",
    "    print(e)"
   ]
  },
  {
   "cell_type": "code",
   "execution_count": 169,
   "id": "7d261a22",
   "metadata": {},
   "outputs": [
    {
     "data": {
      "text/plain": [
       "<tf.Variable 'UnreadVariable' shape=(4,) dtype=int32, numpy=array([1, 2, 3, 4], dtype=int32)>"
      ]
     },
     "execution_count": 169,
     "metadata": {},
     "output_type": "execute_result"
    }
   ],
   "source": [
    "tf_var.assign([1, 2, 3, 4])"
   ]
  },
  {
   "cell_type": "code",
   "execution_count": 173,
   "id": "1bd3a779",
   "metadata": {},
   "outputs": [
    {
     "data": {
      "text/plain": [
       "(array([0, 0, 0, 0], dtype=int32), array([0, 0, 0, 0], dtype=int32))"
      ]
     },
     "execution_count": 173,
     "metadata": {},
     "output_type": "execute_result"
    }
   ],
   "source": [
    "# Creating new variables from existing variables duplicates the backing tensors. \n",
    "# Two variables will not share the same memory.\n",
    "\n",
    "tf_var1 = tf.Variable(tf_var)\n",
    "tf_var1.assign([0,0,0,0])\n",
    "\n",
    "tf_var.numpy(), tf_var1.numpy()"
   ]
  },
  {
   "cell_type": "markdown",
   "id": "d64e5179",
   "metadata": {},
   "source": [
    "- In Python-based TensorFlow, tf.Variable instance have the same lifecycle as other Python objects. When there are no references to a variable it is automatically deallocated.\n",
    "- Variables can also be named which can help you track and debug them. You can give two variables the same name.\n",
    "- Although variables are important for differentiation, some variables will not need to be differentiated. You can turn off gradients for a variable by setting trainable to false at creation."
   ]
  },
  {
   "cell_type": "code",
   "execution_count": 179,
   "id": "45a8aa65",
   "metadata": {},
   "outputs": [
    {
     "data": {
      "text/plain": [
       "<tf.Variable 'variable 1:0' shape=(3,) dtype=int32, numpy=array([1, 2, 3], dtype=int32)>"
      ]
     },
     "execution_count": 179,
     "metadata": {},
     "output_type": "execute_result"
    }
   ],
   "source": [
    "tf_var = tf.Variable([1,2,3], trainable=False, name=\"variable 1\")\n",
    "tf_var"
   ]
  },
  {
   "cell_type": "code",
   "execution_count": 185,
   "id": "09de6672",
   "metadata": {},
   "outputs": [
    {
     "data": {
      "text/plain": [
       "'/job:localhost/replica:0/task:0/device:CPU:0'"
      ]
     },
     "execution_count": 185,
     "metadata": {},
     "output_type": "execute_result"
    }
   ],
   "source": [
    "tf_var.device"
   ]
  },
  {
   "cell_type": "markdown",
   "id": "f15c7e64",
   "metadata": {},
   "source": [
    "#### Placing variable and tensors\n",
    "- For better performance, TensorFlow will attempt to place tensors and variables on the fastest device compatible with its dtype. This means most variables are placed on a GPU if one is available.\n",
    "\n",
    "- However, you can override this. In this snippet, place a float tensor and a variable on the CPU, even if a GPU is available. By turning on device placement logging (see Setup), you can see where the variable is placed. "
   ]
  },
  {
   "cell_type": "code",
   "execution_count": 187,
   "id": "a4e5eabf",
   "metadata": {},
   "outputs": [
    {
     "name": "stdout",
     "output_type": "stream",
     "text": [
      "tf.Tensor(\n",
      "[[22. 28.]\n",
      " [49. 64.]], shape=(2, 2), dtype=float32)\n"
     ]
    }
   ],
   "source": [
    "with tf.device('CPU:0'):\n",
    "  # Create some tensors\n",
    "  a = tf.Variable([[1.0, 2.0, 3.0], [4.0, 5.0, 6.0]])\n",
    "  b = tf.constant([[1.0, 2.0], [3.0, 4.0], [5.0, 6.0]])\n",
    "  c = tf.matmul(a, b)\n",
    "print(c)"
   ]
  },
  {
   "cell_type": "markdown",
   "id": "7d93cfe1",
   "metadata": {},
   "source": [
    "- It's possible to set the location of a variable or tensor on one device and do the computation on another device. \n",
    "\n",
    "- This will introduce delay, as data needs to be copied between the devices.\n",
    "- You might do this, however, if you had multiple GPU workers but only want one copy of the variables."
   ]
  },
  {
   "cell_type": "code",
   "execution_count": 196,
   "id": "86f58a28",
   "metadata": {},
   "outputs": [
    {
     "name": "stdout",
     "output_type": "stream",
     "text": [
      "Could not satisfy device specification '/job:localhost/replica:0/task:0/device:GPU:0'. enable_soft_placement=0. Supported device types [CPU]. All available devices [/job:localhost/replica:0/task:0/device:CPU:0]. [Op:Mul] \n",
      "GPU not available\n"
     ]
    }
   ],
   "source": [
    "with tf.device('CPU:0'):\n",
    "    a = tf.Variable([[1.0, 2.0, 3.0], [4.0, 5.0, 6.0]])\n",
    "    b = tf.Variable([[1.0, 2.0, 3.0]])\n",
    "\n",
    "try:\n",
    "    with tf.device('GPU:0'): \n",
    "        # Element-wise multiply\n",
    "        k = a * b\n",
    "\n",
    "    print(k)\n",
    "except Exception as e:\n",
    "    print(e, \"\\nGPU not available\")"
   ]
  },
  {
   "cell_type": "markdown",
   "id": "06789212",
   "metadata": {},
   "source": [
    "Because tf.config.set_soft_device_placement is turned on by default, even if you run this code on a device without a GPU, it will still run. The multiplication step will happen on the CPU."
   ]
  },
  {
   "cell_type": "code",
   "execution_count": 197,
   "id": "324a78ad",
   "metadata": {},
   "outputs": [
    {
     "name": "stdout",
     "output_type": "stream",
     "text": [
      "tf.Tensor(\n",
      "[[ 1.  4.  9.]\n",
      " [ 4. 10. 18.]], shape=(2, 3), dtype=float32)\n"
     ]
    }
   ],
   "source": [
    "tf.config.set_soft_device_placement(True)\n",
    "\n",
    "with tf.device('CPU:0'):\n",
    "    a = tf.Variable([[1.0, 2.0, 3.0], [4.0, 5.0, 6.0]])\n",
    "    b = tf.Variable([[1.0, 2.0, 3.0]])\n",
    "\n",
    "with tf.device('GPU:0'): \n",
    "    # Element-wise multiply\n",
    "    k = a * b\n",
    "\n",
    "print(k)"
   ]
  },
  {
   "cell_type": "markdown",
   "id": "17a12842",
   "metadata": {},
   "source": [
    "# <a name=\"graph\"></a>  3. Graph\n",
    "\n",
    "- In the previous three guides, you ran TensorFlow **eagerly**. This means TensorFlow operations are executed by Python, operation by operation, and returning results back to Python.\n",
    "\n",
    "- While eager execution has several unique advantages, graph execution enables portability outside Python and tends to offer better performance.\n",
    "\n",
    "- Graph execution means that tensor computations are executed as a TensorFlow graph, sometimes referred to as a tf.Graph or simply a \"graph.\""
   ]
  },
  {
   "cell_type": "markdown",
   "id": "84d61fa4",
   "metadata": {},
   "source": [
    "- Graphs are data structures that contain a set of **tf.Operation** objects, which represent units of computation; and **tf.Tensor** objects, which represent the units of data that flow between operations. \n",
    "- They are defined in a **tf.Graph** context. \n",
    "- *Since these graphs are data structures, they can be saved, run, and restored all without the original Python code.*"
   ]
  },
  {
   "attachments": {
    "image.png": {
     "image/png": "[encoded data removed]"
    }
   },
   "cell_type": "markdown",
   "id": "dbc77003",
   "metadata": {},
   "source": [
    "This is what a TensorFlow graph representing a two-layer neural network looks like when visualized in TensorBoard:\n",
    "![image.png](attachment:image.png)"
   ]
  },
  {
   "cell_type": "markdown",
   "id": "c66a56b6",
   "metadata": {},
   "source": [
    "**[Grappler](https://www.tensorflow.org/guide/graph_optimization)** is the default graph optimization system in the TensorFlow runtime. Grappler applies optimizations in graph mode (within tf.function) to improve the performance of your TensorFlow computations through graph simplifications and other high-level optimizations such as inlining function bodies to enable inter-procedural optimizations. \n",
    "- In short, graphs are extremely useful and let your TensorFlow run fast, run in parallel, and run efficiently on multiple devices."
   ]
  },
  {
   "cell_type": "markdown",
   "id": "66abecef",
   "metadata": {},
   "source": [
    "## Create and run graph in tensorflow\n",
    "\n",
    "- You create and run a graph in TensorFlow by using **tf.function**, either as a direct call or as a decorator. \n",
    "- **tf.function** takes a regular function as input and returns a Function.\n"
   ]
  },
  {
   "cell_type": "code",
   "execution_count": 199,
   "id": "b4b09021",
   "metadata": {},
   "outputs": [],
   "source": [
    "# define a python function\n",
    "def regular_python_func(x, y, b):\n",
    "    z = tf.matmul(x, y)\n",
    "    z = z + b\n",
    "    return z"
   ]
  },
  {
   "cell_type": "code",
   "execution_count": 200,
   "id": "05b37e8d",
   "metadata": {},
   "outputs": [],
   "source": [
    "func_that_uses_graph = tf.function(regular_python_func)"
   ]
  },
  {
   "cell_type": "code",
   "execution_count": 201,
   "id": "4a6bc9df",
   "metadata": {},
   "outputs": [
    {
     "data": {
      "text/plain": [
       "<tensorflow.python.eager.polymorphic_function.polymorphic_function.Function at 0x7f2624579270>"
      ]
     },
     "execution_count": 201,
     "metadata": {},
     "output_type": "execute_result"
    }
   ],
   "source": [
    "func_that_uses_graph"
   ]
  },
  {
   "cell_type": "code",
   "execution_count": 202,
   "id": "c103a400",
   "metadata": {},
   "outputs": [],
   "source": [
    "# Make some tensors.\n",
    "x1 = tf.constant([[1.0, 2.0]])\n",
    "y1 = tf.constant([[2.0], [3.0]])\n",
    "b1 = tf.constant(4.0)"
   ]
  },
  {
   "cell_type": "code",
   "execution_count": 206,
   "id": "bb167300",
   "metadata": {},
   "outputs": [
    {
     "data": {
      "text/plain": [
       "(array([[12.]], dtype=float32), array([[12.]], dtype=float32))"
      ]
     },
     "execution_count": 206,
     "metadata": {},
     "output_type": "execute_result"
    }
   ],
   "source": [
    "reg_value = regular_python_func(x1, y1, b1).numpy()\n",
    "graph_value = func_that_uses_graph(x1, y1, b1).numpy()\n",
    "reg_value, graph_value"
   ]
  },
  {
   "cell_type": "markdown",
   "id": "80e78d39",
   "metadata": {},
   "source": [
    "A Function encapsulates several tf.Graphs behind one API (learn more in the Polymorphism section). That is how a Function is able to give you the benefits of graph execution, like speed and deployability (refer to The benefits of graphs above)."
   ]
  },
  {
   "cell_type": "code",
   "execution_count": 213,
   "id": "7907cc1f",
   "metadata": {},
   "outputs": [],
   "source": [
    "def reg_func_2(x, y, b):\n",
    "    z = tf.matmul(x, y)\n",
    "    z = z + b\n",
    "    return b\n",
    "\n",
    "graph_func = tf.function(reg_func_2)"
   ]
  },
  {
   "cell_type": "code",
   "execution_count": 210,
   "id": "199b3e96",
   "metadata": {},
   "outputs": [
    {
     "name": "stderr",
     "output_type": "stream",
     "text": [
      "2023-07-12 16:14:12.152008: W tensorflow/tsl/framework/cpu_allocator_impl.cc:83] Allocation of 400000000 exceeds 10% of free system memory.\n",
      "2023-07-12 16:14:12.392156: W tensorflow/tsl/framework/cpu_allocator_impl.cc:83] Allocation of 400000000 exceeds 10% of free system memory.\n"
     ]
    }
   ],
   "source": [
    "x  = tf.random.normal([10000,10000])\n",
    "y = tf.random.normal([10000, 10000])"
   ]
  },
  {
   "cell_type": "code",
   "execution_count": 214,
   "id": "8956acf5",
   "metadata": {},
   "outputs": [
    {
     "name": "stdout",
     "output_type": "stream",
     "text": [
      "10.4 s ± 1.42 s per loop (mean ± std. dev. of 7 runs, 1 loop each)\n"
     ]
    }
   ],
   "source": [
    "%%timeit\n",
    "reg_func_2(x,y, b1)"
   ]
  },
  {
   "cell_type": "code",
   "execution_count": 215,
   "id": "febd18eb",
   "metadata": {},
   "outputs": [
    {
     "name": "stdout",
     "output_type": "stream",
     "text": [
      "256 µs ± 15.5 µs per loop (mean ± std. dev. of 7 runs, 1,000 loops each)\n"
     ]
    }
   ],
   "source": [
    "%%timeit\n",
    "graph_func(x, y, b1)"
   ]
  },
  {
   "cell_type": "markdown",
   "id": "4dc3d429",
   "metadata": {},
   "source": [
    "Any function you write with TensorFlow will contain a mixture of built-in TF operations and Python logic, such as if-then clauses, loops, break, return, continue, and more. While TensorFlow operations are easily captured by a tf.Graph, Python-specific logic needs to undergo an extra step in order to become part of the graph. \n",
    "- tf.function uses a library called **AutoGraph (tf.autograph)** to convert Python code into graph-generating code."
   ]
  },
  {
   "cell_type": "code",
   "execution_count": 217,
   "id": "fcda385e",
   "metadata": {},
   "outputs": [],
   "source": [
    "def simple_relu(x):\n",
    "    if tf.greater(x, 0):\n",
    "        return x\n",
    "    else:\n",
    "        return 0"
   ]
  },
  {
   "cell_type": "code",
   "execution_count": 218,
   "id": "1b1a3fcb",
   "metadata": {},
   "outputs": [],
   "source": [
    "tf_simple_relu = tf.function(simple_relu)"
   ]
  },
  {
   "cell_type": "code",
   "execution_count": 219,
   "id": "cd50d98b",
   "metadata": {},
   "outputs": [
    {
     "name": "stdout",
     "output_type": "stream",
     "text": [
      "First branch, with graph: 1\n",
      "Second branch, with graph: 0\n"
     ]
    }
   ],
   "source": [
    "print(\"First branch, with graph:\", tf_simple_relu(tf.constant(1)).numpy())\n",
    "print(\"Second branch, with graph:\", tf_simple_relu(tf.constant(-1)).numpy())"
   ]
  },
  {
   "cell_type": "code",
   "execution_count": 220,
   "id": "5a4edbdd",
   "metadata": {},
   "outputs": [
    {
     "name": "stdout",
     "output_type": "stream",
     "text": [
      "def tf__simple_relu(x):\n",
      "    with ag__.FunctionScope('simple_relu', 'fscope', ag__.ConversionOptions(recursive=True, user_requested=True, optional_features=(), internal_convert_user_code=True)) as fscope:\n",
      "        do_return = False\n",
      "        retval_ = ag__.UndefinedReturnValue()\n",
      "\n",
      "        def get_state():\n",
      "            return (do_return, retval_)\n",
      "\n",
      "        def set_state(vars_):\n",
      "            nonlocal do_return, retval_\n",
      "            (do_return, retval_) = vars_\n",
      "\n",
      "        def if_body():\n",
      "            nonlocal do_return, retval_\n",
      "            try:\n",
      "                do_return = True\n",
      "                retval_ = ag__.ld(x)\n",
      "            except:\n",
      "                do_return = False\n",
      "                raise\n",
      "\n",
      "        def else_body():\n",
      "            nonlocal do_return, retval_\n",
      "            try:\n",
      "                do_return = True\n",
      "                retval_ = 0\n",
      "            except:\n",
      "                do_return = False\n",
      "                raise\n",
      "        ag__.if_stmt(ag__.converted_call(ag__.ld(tf).greater, (ag__.ld(x), 0), None, fscope), if_body, else_body, get_state, set_state, ('do_return', 'retval_'), 2)\n",
      "        return fscope.ret(retval_, do_return)\n",
      "\n"
     ]
    }
   ],
   "source": [
    "# This is the graph-generating output of AutoGraph.\n",
    "print(tf.autograph.to_code(simple_relu))"
   ]
  },
  {
   "cell_type": "code",
   "execution_count": 221,
   "id": "971dd103",
   "metadata": {},
   "outputs": [
    {
     "name": "stdout",
     "output_type": "stream",
     "text": [
      "node {\n",
      "  name: \"x\"\n",
      "  op: \"Placeholder\"\n",
      "  attr {\n",
      "    key: \"shape\"\n",
      "    value {\n",
      "      shape {\n",
      "      }\n",
      "    }\n",
      "  }\n",
      "  attr {\n",
      "    key: \"dtype\"\n",
      "    value {\n",
      "      type: DT_INT32\n",
      "    }\n",
      "  }\n",
      "  attr {\n",
      "    key: \"_user_specified_name\"\n",
      "    value {\n",
      "      s: \"x\"\n",
      "    }\n",
      "  }\n",
      "}\n",
      "node {\n",
      "  name: \"Greater/y\"\n",
      "  op: \"Const\"\n",
      "  attr {\n",
      "    key: \"value\"\n",
      "    value {\n",
      "      tensor {\n",
      "        dtype: DT_INT32\n",
      "        tensor_shape {\n",
      "        }\n",
      "        int_val: 0\n",
      "      }\n",
      "    }\n",
      "  }\n",
      "  attr {\n",
      "    key: \"dtype\"\n",
      "    value {\n",
      "      type: DT_INT32\n",
      "    }\n",
      "  }\n",
      "}\n",
      "node {\n",
      "  name: \"Greater\"\n",
      "  op: \"Greater\"\n",
      "  input: \"x\"\n",
      "  input: \"Greater/y\"\n",
      "  attr {\n",
      "    key: \"T\"\n",
      "    value {\n",
      "      type: DT_INT32\n",
      "    }\n",
      "  }\n",
      "}\n",
      "node {\n",
      "  name: \"cond\"\n",
      "  op: \"StatelessIf\"\n",
      "  input: \"Greater\"\n",
      "  input: \"x\"\n",
      "  attr {\n",
      "    key: \"then_branch\"\n",
      "    value {\n",
      "      func {\n",
      "        name: \"cond_true_8502\"\n",
      "      }\n",
      "    }\n",
      "  }\n",
      "  attr {\n",
      "    key: \"output_shapes\"\n",
      "    value {\n",
      "      list {\n",
      "        shape {\n",
      "        }\n",
      "        shape {\n",
      "        }\n",
      "      }\n",
      "    }\n",
      "  }\n",
      "  attr {\n",
      "    key: \"else_branch\"\n",
      "    value {\n",
      "      func {\n",
      "        name: \"cond_false_8503\"\n",
      "      }\n",
      "    }\n",
      "  }\n",
      "  attr {\n",
      "    key: \"_read_only_resource_inputs\"\n",
      "    value {\n",
      "      list {\n",
      "      }\n",
      "    }\n",
      "  }\n",
      "  attr {\n",
      "    key: \"_lower_using_switch_merge\"\n",
      "    value {\n",
      "      b: true\n",
      "    }\n",
      "  }\n",
      "  attr {\n",
      "    key: \"Tout\"\n",
      "    value {\n",
      "      list {\n",
      "        type: DT_BOOL\n",
      "        type: DT_INT32\n",
      "      }\n",
      "    }\n",
      "  }\n",
      "  attr {\n",
      "    key: \"Tin\"\n",
      "    value {\n",
      "      list {\n",
      "        type: DT_INT32\n",
      "      }\n",
      "    }\n",
      "  }\n",
      "  attr {\n",
      "    key: \"Tcond\"\n",
      "    value {\n",
      "      type: DT_BOOL\n",
      "    }\n",
      "  }\n",
      "}\n",
      "node {\n",
      "  name: \"cond/Identity\"\n",
      "  op: \"Identity\"\n",
      "  input: \"cond\"\n",
      "  attr {\n",
      "    key: \"T\"\n",
      "    value {\n",
      "      type: DT_BOOL\n",
      "    }\n",
      "  }\n",
      "}\n",
      "node {\n",
      "  name: \"cond/Identity_1\"\n",
      "  op: \"Identity\"\n",
      "  input: \"cond:1\"\n",
      "  attr {\n",
      "    key: \"T\"\n",
      "    value {\n",
      "      type: DT_INT32\n",
      "    }\n",
      "  }\n",
      "}\n",
      "node {\n",
      "  name: \"Identity\"\n",
      "  op: \"Identity\"\n",
      "  input: \"cond/Identity_1\"\n",
      "  attr {\n",
      "    key: \"T\"\n",
      "    value {\n",
      "      type: DT_INT32\n",
      "    }\n",
      "  }\n",
      "}\n",
      "versions {\n",
      "  producer: 1395\n",
      "  min_consumer: 12\n",
      "}\n",
      "library {\n",
      "  function {\n",
      "    signature {\n",
      "      name: \"cond_false_8503\"\n",
      "      input_arg {\n",
      "        name: \"cond_placeholder\"\n",
      "        type: DT_INT32\n",
      "      }\n",
      "      output_arg {\n",
      "        name: \"cond_identity\"\n",
      "        type: DT_BOOL\n",
      "      }\n",
      "      output_arg {\n",
      "        name: \"cond_identity_1\"\n",
      "        type: DT_INT32\n",
      "      }\n",
      "    }\n",
      "    attr {\n",
      "      key: \"_construction_context\"\n",
      "      value {\n",
      "        s: \"kEagerRuntime\"\n",
      "      }\n",
      "    }\n",
      "    arg_attr {\n",
      "      key: 0\n",
      "      value {\n",
      "        attr {\n",
      "          key: \"_output_shapes\"\n",
      "          value {\n",
      "            list {\n",
      "              shape {\n",
      "              }\n",
      "            }\n",
      "          }\n",
      "        }\n",
      "      }\n",
      "    }\n",
      "    node_def {\n",
      "      name: \"cond/Const\"\n",
      "      op: \"Const\"\n",
      "      attr {\n",
      "        key: \"value\"\n",
      "        value {\n",
      "          tensor {\n",
      "            dtype: DT_BOOL\n",
      "            tensor_shape {\n",
      "            }\n",
      "            bool_val: true\n",
      "          }\n",
      "        }\n",
      "      }\n",
      "      attr {\n",
      "        key: \"dtype\"\n",
      "        value {\n",
      "          type: DT_BOOL\n",
      "        }\n",
      "      }\n",
      "    }\n",
      "    node_def {\n",
      "      name: \"cond/Const_1\"\n",
      "      op: \"Const\"\n",
      "      attr {\n",
      "        key: \"value\"\n",
      "        value {\n",
      "          tensor {\n",
      "            dtype: DT_BOOL\n",
      "            tensor_shape {\n",
      "            }\n",
      "            bool_val: true\n",
      "          }\n",
      "        }\n",
      "      }\n",
      "      attr {\n",
      "        key: \"dtype\"\n",
      "        value {\n",
      "          type: DT_BOOL\n",
      "        }\n",
      "      }\n",
      "    }\n",
      "    node_def {\n",
      "      name: \"cond/Const_2\"\n",
      "      op: \"Const\"\n",
      "      attr {\n",
      "        key: \"value\"\n",
      "        value {\n",
      "          tensor {\n",
      "            dtype: DT_INT32\n",
      "            tensor_shape {\n",
      "            }\n",
      "            int_val: 0\n",
      "          }\n",
      "        }\n",
      "      }\n",
      "      attr {\n",
      "        key: \"dtype\"\n",
      "        value {\n",
      "          type: DT_INT32\n",
      "        }\n",
      "      }\n",
      "    }\n",
      "    node_def {\n",
      "      name: \"cond/Const_3\"\n",
      "      op: \"Const\"\n",
      "      attr {\n",
      "        key: \"value\"\n",
      "        value {\n",
      "          tensor {\n",
      "            dtype: DT_BOOL\n",
      "            tensor_shape {\n",
      "            }\n",
      "            bool_val: true\n",
      "          }\n",
      "        }\n",
      "      }\n",
      "      attr {\n",
      "        key: \"dtype\"\n",
      "        value {\n",
      "          type: DT_BOOL\n",
      "        }\n",
      "      }\n",
      "    }\n",
      "    node_def {\n",
      "      name: \"cond/Identity\"\n",
      "      op: \"Identity\"\n",
      "      input: \"cond/Const_3:output:0\"\n",
      "      attr {\n",
      "        key: \"T\"\n",
      "        value {\n",
      "          type: DT_BOOL\n",
      "        }\n",
      "      }\n",
      "    }\n",
      "    node_def {\n",
      "      name: \"cond/Const_4\"\n",
      "      op: \"Const\"\n",
      "      attr {\n",
      "        key: \"value\"\n",
      "        value {\n",
      "          tensor {\n",
      "            dtype: DT_INT32\n",
      "            tensor_shape {\n",
      "            }\n",
      "            int_val: 0\n",
      "          }\n",
      "        }\n",
      "      }\n",
      "      attr {\n",
      "        key: \"dtype\"\n",
      "        value {\n",
      "          type: DT_INT32\n",
      "        }\n",
      "      }\n",
      "    }\n",
      "    node_def {\n",
      "      name: \"cond/Identity_1\"\n",
      "      op: \"Identity\"\n",
      "      input: \"cond/Const_4:output:0\"\n",
      "      attr {\n",
      "        key: \"T\"\n",
      "        value {\n",
      "          type: DT_INT32\n",
      "        }\n",
      "      }\n",
      "    }\n",
      "    ret {\n",
      "      key: \"cond_identity\"\n",
      "      value: \"cond/Identity:output:0\"\n",
      "    }\n",
      "    ret {\n",
      "      key: \"cond_identity_1\"\n",
      "      value: \"cond/Identity_1:output:0\"\n",
      "    }\n",
      "  }\n",
      "  function {\n",
      "    signature {\n",
      "      name: \"cond_true_8502\"\n",
      "      input_arg {\n",
      "        name: \"cond_identity_1_x\"\n",
      "        type: DT_INT32\n",
      "      }\n",
      "      output_arg {\n",
      "        name: \"cond_identity\"\n",
      "        type: DT_BOOL\n",
      "      }\n",
      "      output_arg {\n",
      "        name: \"cond_identity_1\"\n",
      "        type: DT_INT32\n",
      "      }\n",
      "    }\n",
      "    attr {\n",
      "      key: \"_construction_context\"\n",
      "      value {\n",
      "        s: \"kEagerRuntime\"\n",
      "      }\n",
      "    }\n",
      "    arg_attr {\n",
      "      key: 0\n",
      "      value {\n",
      "        attr {\n",
      "          key: \"_output_shapes\"\n",
      "          value {\n",
      "            list {\n",
      "              shape {\n",
      "              }\n",
      "            }\n",
      "          }\n",
      "        }\n",
      "      }\n",
      "    }\n",
      "    node_def {\n",
      "      name: \"cond/Const\"\n",
      "      op: \"Const\"\n",
      "      attr {\n",
      "        key: \"value\"\n",
      "        value {\n",
      "          tensor {\n",
      "            dtype: DT_BOOL\n",
      "            tensor_shape {\n",
      "            }\n",
      "            bool_val: true\n",
      "          }\n",
      "        }\n",
      "      }\n",
      "      attr {\n",
      "        key: \"dtype\"\n",
      "        value {\n",
      "          type: DT_BOOL\n",
      "        }\n",
      "      }\n",
      "    }\n",
      "    node_def {\n",
      "      name: \"cond/Identity\"\n",
      "      op: \"Identity\"\n",
      "      input: \"cond/Const:output:0\"\n",
      "      attr {\n",
      "        key: \"T\"\n",
      "        value {\n",
      "          type: DT_BOOL\n",
      "        }\n",
      "      }\n",
      "    }\n",
      "    node_def {\n",
      "      name: \"cond/Identity_1\"\n",
      "      op: \"Identity\"\n",
      "      input: \"cond_identity_1_x\"\n",
      "      attr {\n",
      "        key: \"T\"\n",
      "        value {\n",
      "          type: DT_INT32\n",
      "        }\n",
      "      }\n",
      "    }\n",
      "    ret {\n",
      "      key: \"cond_identity\"\n",
      "      value: \"cond/Identity:output:0\"\n",
      "    }\n",
      "    ret {\n",
      "      key: \"cond_identity_1\"\n",
      "      value: \"cond/Identity_1:output:0\"\n",
      "    }\n",
      "  }\n",
      "}\n",
      "\n"
     ]
    }
   ],
   "source": [
    "# This is the graph itself.\n",
    "print(tf_simple_relu.get_concrete_function(tf.constant(1)).graph.as_graph_def())"
   ]
  },
  {
   "cell_type": "markdown",
   "id": "7518ea20",
   "metadata": {},
   "source": [
    "### Polymorphism: One function many graphs\n",
    "- A tf.Graph is specialized to a specific type of inputs (for example, tensors with a specific dtype or objects with the same id()).\n",
    "- Each time you invoke a Function with a set of arguments that can't be handled by any of its existing graphs (such as arguments with new dtypes or incompatible shapes), Function creates a new tf.Graph specialized to those new arguments.\n",
    "- If the Function has already been called with that signature, Function does not create a new tf.Graph."
   ]
  },
  {
   "cell_type": "markdown",
   "id": "4c342134",
   "metadata": {},
   "source": [
    "## Graph Execution vs Eger Execution\n",
    "\n",
    "The code in a Function can be executed both eagerly and as a graph. By default, Function executes its code as a graph."
   ]
  },
  {
   "cell_type": "code",
   "execution_count": 247,
   "id": "2e52b33d",
   "metadata": {},
   "outputs": [],
   "source": [
    "@tf.function\n",
    "def get_MSE(y_true, y_pred):\n",
    "    print(\"computing sq difference\")\n",
    "    sq_diff = tf.pow(y_true - y_pred, 2)\n",
    "    print(\"sq_diff value: \", sq_diff)\n",
    "    return tf.reduce_mean(sq_diff)"
   ]
  },
  {
   "cell_type": "code",
   "execution_count": 248,
   "id": "bfb6e687",
   "metadata": {},
   "outputs": [
    {
     "name": "stdout",
     "output_type": "stream",
     "text": [
      "tf.Tensor([0 3 3 4 7], shape=(5,), dtype=int32)\n",
      "tf.Tensor([8 4 2 6 0], shape=(5,), dtype=int32)\n"
     ]
    }
   ],
   "source": [
    "y_true = tf.random.uniform([5], maxval=10, dtype=tf.int32)\n",
    "y_pred = tf.random.uniform([5], maxval=10, dtype=tf.int32)\n",
    "print(y_true)\n",
    "print(y_pred)"
   ]
  },
  {
   "cell_type": "code",
   "execution_count": 249,
   "id": "74698ab7",
   "metadata": {},
   "outputs": [
    {
     "name": "stdout",
     "output_type": "stream",
     "text": [
      "computing sq difference\n",
      "sq_diff value:  Tensor(\"Pow:0\", shape=(5,), dtype=int32)\n"
     ]
    }
   ],
   "source": [
    "first_call = get_MSE(y_true, y_pred)\n",
    "second_call = get_MSE(y_true, y_pred)"
   ]
  },
  {
   "cell_type": "markdown",
   "id": "d6ce8743",
   "metadata": {},
   "source": [
    "- To verify that your Function's graph is doing the same computation as its equivalent Python function, you can make it execute eagerly with **tf.config.run_functions_eagerly(True)**. \n",
    "- This is a switch that turns off Function's ability to create and run graphs, instead of executing the code normally."
   ]
  },
  {
   "cell_type": "code",
   "execution_count": 250,
   "id": "16f9c859",
   "metadata": {},
   "outputs": [],
   "source": [
    "tf.config.run_functions_eagerly(True)"
   ]
  },
  {
   "cell_type": "code",
   "execution_count": 251,
   "id": "617f3864",
   "metadata": {},
   "outputs": [
    {
     "name": "stdout",
     "output_type": "stream",
     "text": [
      "computing sq difference\n",
      "sq_diff value:  tf.Tensor([64  1  1  4 49], shape=(5,), dtype=int32)\n",
      "computing sq difference\n",
      "sq_diff value:  tf.Tensor([64  1  1  4 49], shape=(5,), dtype=int32)\n"
     ]
    }
   ],
   "source": [
    "first_call = get_MSE(y_true, y_pred)\n",
    "second_call = get_MSE(y_true, y_pred)"
   ]
  },
  {
   "cell_type": "code",
   "execution_count": 260,
   "id": "a977ffe7",
   "metadata": {},
   "outputs": [],
   "source": [
    "tf.config.run_functions_eagerly(False)"
   ]
  },
  {
   "cell_type": "markdown",
   "id": "e206a460",
   "metadata": {},
   "source": [
    "#### Note: when executing function using graph, the intermediate value is not available you can see the sq_diff value, but when we execute the function in an eager mode then the intermediate value is available.\n",
    "- get_MSE only printed once even though it was called two times while executing in graph mode\n",
    "    - **Explaination :** To explain, the print statement is executed when Function runs the original code in order to create the graph in a process known as \"tracing\" (refer to the Tracing section of the tf.function guide. Tracing captures the TensorFlow operations into a graph, and print is not captured in the graph. That graph is then executed for all two calls without ever running the Python code again."
   ]
  },
  {
   "cell_type": "markdown",
   "id": "ade434e9",
   "metadata": {},
   "source": [
    "#### [Non-strict execution](https://www.tensorflow.org/guide/intro_to_graphs#non-strict_execution)\n",
    "Graph execution only executes the operations necessary to produce the observable effects, which includes:\n",
    "   - The return value of the function\n",
    "   - Documented well-known side-effects such as:\n",
    "      - Input/output operations, like tf.print\n",
    "      - Debugging operations, such as the assert functions in tf.debugging\n",
    "      - Mutations of tf.Variable\n",
    "      \n",
    "This behavior is usually known as \"Non-strict execution\", and differs from eager execution, which steps through all of the program operations, needed or not.\n",
    "\n",
    "In particular, runtime error checking does not count as an observable effect. If an operation is skipped because it is unnecessary, it cannot raise any runtime errors."
   ]
  },
  {
   "cell_type": "markdown",
   "id": "b4f0f36c",
   "metadata": {},
   "source": [
    "### [tf.function best practice](https://www.tensorflow.org/guide/intro_to_graphs#tffunction_best_practices)"
   ]
  },
  {
   "cell_type": "markdown",
   "id": "3ba7538d",
   "metadata": {},
   "source": [
    "###  What is function tracking?\n",
    "To figure out when your Function is tracing, add a print statement to its code. As a rule of thumb, Function will execute the print statement every time it traces."
   ]
  },
  {
   "cell_type": "code",
   "execution_count": 268,
   "id": "c391f019",
   "metadata": {},
   "outputs": [
    {
     "name": "stdout",
     "output_type": "stream",
     "text": [
      "Tracing!\n",
      "tf.Tensor(6, shape=(), dtype=int32)\n",
      "tf.Tensor(11, shape=(), dtype=int32)\n"
     ]
    }
   ],
   "source": [
    "@tf.function\n",
    "def a_function_with_python_side_effect(x):\n",
    "  print(\"Tracing!\") # An eager-only side effect.\n",
    "  return x * x + tf.constant(2)\n",
    "\n",
    "# This is traced the first time.\n",
    "print(a_function_with_python_side_effect(tf.constant(2)))\n",
    "# The second time through, you won't see the side effect.\n",
    "print(a_function_with_python_side_effect(tf.constant(3)))"
   ]
  },
  {
   "cell_type": "code",
   "execution_count": 269,
   "id": "b839f14c",
   "metadata": {},
   "outputs": [
    {
     "name": "stdout",
     "output_type": "stream",
     "text": [
      "Tracing!\n",
      "tf.Tensor(6, shape=(), dtype=int32)\n",
      "Tracing!\n",
      "tf.Tensor(11, shape=(), dtype=int32)\n"
     ]
    }
   ],
   "source": [
    "# This retraces each time the Python argument changes,\n",
    "# as a Python argument could be an epoch count or other\n",
    "# hyperparameter.\n",
    "print(a_function_with_python_side_effect(2))\n",
    "print(a_function_with_python_side_effect(3))"
   ]
  },
  {
   "cell_type": "markdown",
   "id": "6ea61829",
   "metadata": {},
   "source": [
    "New Python arguments always trigger the creation of a new graph, hence the extra tracing."
   ]
  },
  {
   "cell_type": "code",
   "execution_count": 272,
   "id": "b942e809",
   "metadata": {},
   "outputs": [
    {
     "name": "stdout",
     "output_type": "stream",
     "text": [
      "Tracing!\n",
      "tf.Tensor(6, shape=(), dtype=int32)\n",
      "tf.Tensor(11, shape=(), dtype=int32)\n"
     ]
    }
   ],
   "source": [
    "@tf.function\n",
    "def a_function_with_python_side_effect(x):\n",
    "  print(\"Tracing!\") # An eager-only side effect.\n",
    "  return x * x + tf.constant(2)\n",
    "\n",
    "# This is traced the first time.\n",
    "print(a_function_with_python_side_effect(tf.constant(2)))\n",
    "# The second time through, you won't see the side effect.\n",
    "print(a_function_with_python_side_effect(tf.constant(3)))"
   ]
  },
  {
   "cell_type": "code",
   "execution_count": 273,
   "id": "f8fba284",
   "metadata": {},
   "outputs": [
    {
     "name": "stdout",
     "output_type": "stream",
     "text": [
      "tf.Tensor(18, shape=(), dtype=int32)\n",
      "tf.Tensor(27, shape=(), dtype=int32)\n"
     ]
    }
   ],
   "source": [
    "print(a_function_with_python_side_effect(tf.constant(4)))\n",
    "print(a_function_with_python_side_effect(tf.constant(5)))"
   ]
  },
  {
   "cell_type": "markdown",
   "id": "b438e4a6",
   "metadata": {},
   "source": [
    "Here you can there is no tracing since the argument is of type tensor."
   ]
  },
  {
   "cell_type": "code",
   "execution_count": null,
   "id": "db09bed4",
   "metadata": {},
   "outputs": [],
   "source": []
  },
  {
   "cell_type": "code",
   "execution_count": null,
   "id": "db73ea3b",
   "metadata": {},
   "outputs": [],
   "source": []
  }
 ],
 "metadata": {
  "kernelspec": {
   "display_name": "Python 3 (ipykernel)",
   "language": "python",
   "name": "python3"
  },
  "language_info": {
   "codemirror_mode": {
    "name": "ipython",
    "version": 3
   },
   "file_extension": ".py",
   "mimetype": "text/x-python",
   "name": "python",
   "nbconvert_exporter": "python",
   "pygments_lexer": "ipython3",
   "version": "3.10.0"
  }
 },
 "nbformat": 4,
 "nbformat_minor": 5
}
