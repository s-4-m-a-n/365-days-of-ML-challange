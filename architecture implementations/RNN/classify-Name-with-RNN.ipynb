{
 "cells": [
  {
   "cell_type": "markdown",
   "id": "bfc11389-90e1-4012-a006-5b62f0b13543",
   "metadata": {},
   "source": [
    "# Classify Name With RNN using Pytorch"
   ]
  },
  {
   "cell_type": "markdown",
   "id": "86ec7820-72a8-49e5-b0e5-c7ff43fd5c93",
   "metadata": {},
   "source": [
    "In this notebook we will make a classify that classify the language of the given text using Recurrent Neural Network (RNN)"
   ]
  },
  {
   "cell_type": "markdown",
   "id": "80eef40a-3443-4bf6-aec1-705efd44b668",
   "metadata": {},
   "source": [
    "## Setup Device"
   ]
  },
  {
   "cell_type": "code",
   "execution_count": 1,
   "id": "2ed222fa-b181-4382-addc-6cadbd01b011",
   "metadata": {},
   "outputs": [],
   "source": [
    "import torch"
   ]
  },
  {
   "cell_type": "code",
   "execution_count": 2,
   "id": "aea07868-d535-4622-8a57-41025969fd5c",
   "metadata": {},
   "outputs": [],
   "source": [
    "device = torch.device(\"cpu\")\n",
    "if torch.cuda.is_available():\n",
    "    device = torch.device(\"cuda\")"
   ]
  },
  {
   "cell_type": "code",
   "execution_count": 3,
   "id": "1f3f9341-b2d3-4068-b40c-c6047ea971f9",
   "metadata": {},
   "outputs": [
    {
     "name": "stdout",
     "output_type": "stream",
     "text": [
      "Using device:  cpu\n"
     ]
    }
   ],
   "source": [
    "torch.set_default_device(device)\n",
    "print(\"Using device: \", torch.get_default_device())"
   ]
  },
  {
   "cell_type": "markdown",
   "id": "af7369a1-cd61-4995-9f95-2477f28697fe",
   "metadata": {},
   "source": [
    "# Data Loading"
   ]
  },
  {
   "cell_type": "code",
   "execution_count": 4,
   "id": "343612b4-b1cd-4fb2-9fe2-4a032cff22b1",
   "metadata": {},
   "outputs": [],
   "source": [
    "import pandas as pd"
   ]
  },
  {
   "cell_type": "code",
   "execution_count": 5,
   "id": "3f7005c3-ee0e-4999-b8f1-dc0e59b9ab24",
   "metadata": {},
   "outputs": [],
   "source": [
    "data_path = \"language-classified-romanized_sentences.csv\""
   ]
  },
  {
   "cell_type": "code",
   "execution_count": 6,
   "id": "6a9c8708-11c7-42db-a475-519c159f58da",
   "metadata": {},
   "outputs": [],
   "source": [
    "df = pd.read_csv(data_path)"
   ]
  },
  {
   "cell_type": "code",
   "execution_count": 7,
   "id": "a767cabf-bbbf-4837-8d73-bced0bea7722",
   "metadata": {},
   "outputs": [
    {
     "data": {
      "text/html": [
       "<div>\n",
       "<style scoped>\n",
       "    .dataframe tbody tr th:only-of-type {\n",
       "        vertical-align: middle;\n",
       "    }\n",
       "\n",
       "    .dataframe tbody tr th {\n",
       "        vertical-align: top;\n",
       "    }\n",
       "\n",
       "    .dataframe thead th {\n",
       "        text-align: right;\n",
       "    }\n",
       "</style>\n",
       "<table border=\"1\" class=\"dataframe\">\n",
       "  <thead>\n",
       "    <tr style=\"text-align: right;\">\n",
       "      <th></th>\n",
       "      <th>Unnamed: 0</th>\n",
       "      <th>text</th>\n",
       "      <th>language</th>\n",
       "    </tr>\n",
       "  </thead>\n",
       "  <tbody>\n",
       "    <tr>\n",
       "      <th>0</th>\n",
       "      <td>0</td>\n",
       "      <td>\"Five newly appointed ministers of the Bagmati...</td>\n",
       "      <td>eng</td>\n",
       "    </tr>\n",
       "    <tr>\n",
       "      <th>1</th>\n",
       "      <td>1</td>\n",
       "      <td>Province Chief Dipak Prasad Devkota administe...</td>\n",
       "      <td>eng</td>\n",
       "    </tr>\n",
       "    <tr>\n",
       "      <th>2</th>\n",
       "      <td>2</td>\n",
       "      <td>Chief Minister Indra Bahadur Baniya appointed...</td>\n",
       "      <td>eng</td>\n",
       "    </tr>\n",
       "    <tr>\n",
       "      <th>3</th>\n",
       "      <td>3</td>\n",
       "      <td>Bade from Kavre has been assigned to the Mini...</td>\n",
       "      <td>eng</td>\n",
       "    </tr>\n",
       "    <tr>\n",
       "      <th>4</th>\n",
       "      <td>4</td>\n",
       "      <td>On August 5, Chief Minister Baniya had appoin...</td>\n",
       "      <td>eng</td>\n",
       "    </tr>\n",
       "  </tbody>\n",
       "</table>\n",
       "</div>"
      ],
      "text/plain": [
       "   Unnamed: 0                                               text language\n",
       "0           0  \"Five newly appointed ministers of the Bagmati...      eng\n",
       "1           1   Province Chief Dipak Prasad Devkota administe...      eng\n",
       "2           2   Chief Minister Indra Bahadur Baniya appointed...      eng\n",
       "3           3   Bade from Kavre has been assigned to the Mini...      eng\n",
       "4           4   On August 5, Chief Minister Baniya had appoin...      eng"
      ]
     },
     "execution_count": 7,
     "metadata": {},
     "output_type": "execute_result"
    }
   ],
   "source": [
    "df.head()"
   ]
  },
  {
   "cell_type": "code",
   "execution_count": 8,
   "id": "bb67ae89-fb21-419b-a92d-aacc8f98f1f0",
   "metadata": {},
   "outputs": [
    {
     "data": {
      "text/plain": [
       "language\n",
       "eng              3584\n",
       "nep              1478\n",
       "romanized_nep    1478\n",
       "Name: count, dtype: int64"
      ]
     },
     "execution_count": 8,
     "metadata": {},
     "output_type": "execute_result"
    }
   ],
   "source": [
    "df[\"language\"].value_counts()"
   ]
  },
  {
   "cell_type": "code",
   "execution_count": 9,
   "id": "59fc2d95-f040-4b0e-a774-ce4bef244b7c",
   "metadata": {},
   "outputs": [
    {
     "data": {
      "text/plain": [
       "['\"तुर्कमेनिस्तानको अवाजामा सम्पन्न भूपरिवेष्ठित विकासशील राष्ट्रहरूको तेस्रो संयुक्त राष्ट्रसङ्घीय सम्मेलनमा सहभागी भइ प्रधानमन्त्री केपी शर्मा ओली शुक्रबार स्वदेश फर्कँदै हुनुहुन्छ ',\n",
       " ' उहाँ भर्खरै तुर्कमनेबासी अन्तर्राष्ट्रिय विमानस्थलबाट दुबई प्रस्थान गर्नुभएको छ ',\n",
       " 'प्रधानमन्त्री ओलीलाई विमानस्थलमा स्थानीय समय अनुसार बिहान ८ः३० बजे तुर्कमेनिस्तान सरकारका उपप्रधानमन्त्री रहसित मेरेडोभले बिदाइ गर्नुभयो ',\n",
       " ' प्रधानमन्त्री ओली दुबई हुँदै आज राति ११ः५ बजे नेपाल आइपुग्नुहुने कार्यक्रम रहेको छ ',\n",
       " '\"मधेश प्रदेशका खेलकुद तथा समाजकल्याण मन्त्री प्रमोद जयसवालले मधेश प्रदेशको मानव सूचकाङ्कको अवस्था ठिक नरहेको भन्दै सुधारका लागि सबैको साझा प्रयास आवश्यक रहेको बताउनुभएको छ ',\n",
       " 'मधेश प्रदेशको राजधानी जनकपुरधाममा बिहीबार संयुक्त राष्ट्रसङ्घीय जनसङ्ख्याकोष (यूएनएफपिए)को अर्धवार्षिक समिक्षा कार्यक्रममा बोल्दै उहाँले यस्तो बताउनुभएको हो ',\n",
       " ' उहाँले भौगोलिक दृष्टिकोणले सुगम रहेको मधेश प्रदेशको मानव सूचकाङ्कको अवस्था हेर्दा नाक खुम्चियाएर बस्नु पर्ने अवस्था रहेको भन्दै यस अवस्थाको सुधार गर्नु हामी सबैको दायित्व रहेको बताउनुभयो ',\n",
       " 'उहाँले मधेश प्रदेशमा सामाजिक कुरितीको रुपमा रहेको दाइजो प्रथा र बालविवाह अन्त्यका लागि प्रदेश सरकारले ऐन कानुन निमार्ण गर्नुको साथ साथै विभिन्न कार्यक्रमहरु सञ्चालन गरेको भन्दै यस कार्यमा विकास साझेदार संस्थाहरुको योगदान पनि महत्त्वपूर्ण रहेको बताउनुभयो ',\n",
       " ' समाजिक विकासको क्षेत्रमा हामी सबैको योगदान हुनु जरुरी रहेको भन्दै मन्त्री जयसवालले अमानवीय जिवन जीउन बाध्य भएकाहरुका लागि प्रदेश सरकारले कार्यक्रमहरु सञ्चालन गर्ने बताउनुभयो ',\n",
       " 'उहाँले पूवाधारको क्षेत्रमा काम गरेर मात्रै समृद्धि हासिल नहुने भन्दै समाज रुपान्तरणका लागि समाजमा पिछडिएका, पिल्सिएका र विभेदमा परेका समुदायका लागि कामकाज गर्नुपर्ने बेला आएको बताउनुभयो ']"
      ]
     },
     "execution_count": 9,
     "metadata": {},
     "output_type": "execute_result"
    }
   ],
   "source": [
    "df[df[\"language\"] == \"nep\"][\"text\"].tolist()[:10]"
   ]
  },
  {
   "cell_type": "markdown",
   "id": "e53ef115-c129-43cd-914a-397a0fbc7c5c",
   "metadata": {},
   "source": [
    "# Data Cleaning"
   ]
  },
  {
   "cell_type": "code",
   "execution_count": 10,
   "id": "aa9daf3b-f490-4c6d-8daf-f12958e533f9",
   "metadata": {},
   "outputs": [],
   "source": [
    "import string\n",
    "import unicodedata"
   ]
  },
  {
   "cell_type": "code",
   "execution_count": 11,
   "id": "d12ca1b0-6192-4084-b219-a05d15c9837c",
   "metadata": {},
   "outputs": [
    {
     "data": {
      "text/plain": [
       "'abcdefghijklmnopqrstuvwxyzABCDEFGHIJKLMNOPQRSTUVWXYZ'"
      ]
     },
     "execution_count": 11,
     "metadata": {},
     "output_type": "execute_result"
    }
   ],
   "source": [
    "string.ascii_letters "
   ]
  },
  {
   "cell_type": "code",
   "execution_count": 12,
   "id": "69cde8b2-a529-435b-be56-f5fe2768298d",
   "metadata": {},
   "outputs": [],
   "source": [
    "def get_unique_letters(sentences_list):\n",
    "    chars = []\n",
    "    for sent in sentences_list:\n",
    "        chars.extend(list(sent))\n",
    "        chars = list(set(chars))\n",
    "    return sorted(chars)"
   ]
  },
  {
   "cell_type": "code",
   "execution_count": 13,
   "id": "03ca882a-d4aa-4be5-9606-86335d79fccf",
   "metadata": {},
   "outputs": [],
   "source": [
    "nep_sentences = df[df[\"language\"] == \"nep\"][\"text\"].tolist()\n",
    "eng_sentences = df[df[\"language\"] == \"eng\"][\"text\"].tolist()\n",
    "romanized_sentences = df[df[\"language\"] == \"romanized_nep\"][\"text\"].tolist()"
   ]
  },
  {
   "cell_type": "code",
   "execution_count": 14,
   "id": "854ec4a0-4d6b-4c2b-a40a-152fe39a2d43",
   "metadata": {},
   "outputs": [
    {
     "name": "stdout",
     "output_type": "stream",
     "text": [
      "[' ', '\"', '(', ')', ',', '-', '.', '/', ':', '\\xa0', '¥', '÷', 'ँ', 'ं', 'ः', 'अ', 'आ', 'इ', 'ई', 'उ', 'ऊ', 'ऋ', 'ए', 'ऐ', 'ओ', 'औ', 'क', 'ख', 'ग', 'घ', 'ङ', 'च', 'छ', 'ज', 'झ', 'ञ', 'ट', 'ठ', 'ड', 'ढ', 'ण', 'त', 'थ', 'द', 'ध', 'न', 'प', 'फ', 'ब', 'भ', 'म', 'य', 'र', 'ल', 'व', 'श', 'ष', 'स', 'ह', 'ा', 'ि', 'ी', 'ु', 'ू', 'ृ', 'े', 'ै', 'ो', 'ौ', '्', '०', '१', '२', '३', '४', '५', '६', '७', '८', '९', '\\u200d', '–', '‘', '’', '“', '”', '\\u2028', '\\u202f']\n"
     ]
    }
   ],
   "source": [
    "nep_vocab = get_unique_letters(nep_sentences)\n",
    "print(nep_vocab)"
   ]
  },
  {
   "cell_type": "code",
   "execution_count": 15,
   "id": "5058763a-6a16-4c71-be00-cf5157b9da30",
   "metadata": {},
   "outputs": [
    {
     "name": "stdout",
     "output_type": "stream",
     "text": [
      "[' ', '\"', '$', '%', '(', ')', '*', '+', ',', '-', '/', '0', '1', '2', '3', '4', '5', '6', '7', '8', '9', ':', ';', 'A', 'B', 'C', 'D', 'E', 'F', 'G', 'H', 'I', 'J', 'K', 'L', 'M', 'N', 'O', 'P', 'Q', 'R', 'S', 'T', 'U', 'V', 'W', 'X', 'Y', 'Z', '_', 'a', 'b', 'c', 'd', 'e', 'f', 'g', 'h', 'i', 'j', 'k', 'l', 'm', 'n', 'o', 'p', 'q', 'r', 's', 't', 'u', 'v', 'w', 'x', 'y', 'z', '\\xa0', '°', 'ó', '–', '—', '‘', '’', '“', '”', '…', '′']\n"
     ]
    }
   ],
   "source": [
    "eng_vocab = get_unique_letters(eng_sentences)\n",
    "print(eng_vocab)"
   ]
  },
  {
   "cell_type": "code",
   "execution_count": 16,
   "id": "40ccefe1-b12c-43c4-bdb1-e59b2d5bb7b1",
   "metadata": {},
   "outputs": [
    {
     "name": "stdout",
     "output_type": "stream",
     "text": [
      "[' ', '\"', '(', ')', ',', '-', '.', '/', '0', '1', '2', '3', '4', '5', '6', '7', '8', '9', ':', '^', '_', 'a', 'b', 'c', 'd', 'e', 'g', 'h', 'i', 'j', 'k', 'l', 'm', 'n', 'o', 'p', 'r', 's', 't', 'u', 'v', 'y', '~', '\\xa0', '¥', '÷', '–', '‘', '’', '“', '”', '\\u2028', '\\u202f']\n"
     ]
    }
   ],
   "source": [
    "romanized_vocab = get_unique_letters(romanized_sentences)\n",
    "print(romanized_vocab)"
   ]
  },
  {
   "cell_type": "code",
   "execution_count": 17,
   "id": "c9665912-fb4f-419a-a74f-e904d4bbd039",
   "metadata": {},
   "outputs": [
    {
     "name": "stdout",
     "output_type": "stream",
     "text": [
      "[' ', '\"', '$', '%', '(', ')', '*', '+', ',', '-', '.', '/', '0', '1', '2', '3', '4', '5', '6', '7', '8', '9', ':', ';', 'A', 'B', 'C', 'D', 'E', 'F', 'G', 'H', 'I', 'J', 'K', 'L', 'M', 'N', 'O', 'P', 'Q', 'R', 'S', 'T', 'U', 'V', 'W', 'X', 'Y', 'Z', '^', '_', 'a', 'b', 'c', 'd', 'e', 'f', 'g', 'h', 'i', 'j', 'k', 'l', 'm', 'n', 'o', 'p', 'q', 'r', 's', 't', 'u', 'v', 'w', 'x', 'y', 'z', '~', '\\xa0', '¥', '°', 'ó', '÷', 'ँ', 'ं', 'ः', 'अ', 'आ', 'इ', 'ई', 'उ', 'ऊ', 'ऋ', 'ए', 'ऐ', 'ओ', 'औ', 'क', 'ख', 'ग', 'घ', 'ङ', 'च', 'छ', 'ज', 'झ', 'ञ', 'ट', 'ठ', 'ड', 'ढ', 'ण', 'त', 'थ', 'द', 'ध', 'न', 'प', 'फ', 'ब', 'भ', 'म', 'य', 'र', 'ल', 'व', 'श', 'ष', 'स', 'ह', 'ा', 'ि', 'ी', 'ु', 'ू', 'ृ', 'े', 'ै', 'ो', 'ौ', '्', '०', '१', '२', '३', '४', '५', '६', '७', '८', '९', '\\u200d', '–', '—', '‘', '’', '“', '”', '…', '\\u2028', '\\u202f', '′']\n"
     ]
    }
   ],
   "source": [
    "VOCAB = sorted(list(set(nep_vocab + eng_vocab + romanized_vocab)))\n",
    "print(VOCAB)"
   ]
  },
  {
   "cell_type": "code",
   "execution_count": 18,
   "id": "7ba4d1bf-5f44-4a71-9bf5-0b9fdd33c033",
   "metadata": {},
   "outputs": [
    {
     "data": {
      "text/plain": [
       "125"
      ]
     },
     "execution_count": 18,
     "metadata": {},
     "output_type": "execute_result"
    }
   ],
   "source": [
    "VOCAB = [' ', '\"', '$', '%', '(', ')', '*', '+', ',', '-', '.', '/', \n",
    " '0', '1', '2', '3', '4', '5', '6', '7', '8', '9',\n",
    " 'a', 'b', 'c', 'd', 'e', 'f', 'g', 'h', 'i', 'j', 'k',\n",
    " 'l', 'm', 'n', 'o', 'p', 'q', 'r', 's', 't', 'u', 'v', 'w', 'x',\n",
    " 'y', 'z', '°', 'ó', '÷', 'ँ', 'ं', 'ः', 'अ', 'आ',\n",
    " 'इ', 'ई', 'उ', 'ऊ', 'ऋ', 'ए', 'ऐ', 'ओ', 'औ', 'क', 'ख', 'ग', 'घ',\n",
    " 'ङ', 'च', 'छ', 'ज', 'झ', 'ञ', 'ट', 'ठ', 'ड', 'ढ', 'ण', 'त', 'थ',\n",
    " 'द', 'ध', 'न', 'प', 'फ', 'ब', 'भ', 'म', 'य', 'र', 'ल', 'व', 'श',\n",
    " 'ष', 'स', 'ह', 'ा', 'ि', 'ी', 'ु', 'ू', 'ृ', 'े', 'ै', 'ो',\n",
    " 'ौ', '्', '०', '१', '२', '३', '४', '५', '६', '७', '८', '९',\n",
    " '—', '‘', '’', '“', '”', '′']\n",
    "len(VOCAB)"
   ]
  },
  {
   "cell_type": "code",
   "execution_count": 19,
   "id": "eb4af084-a766-4eeb-a61e-03b70cdee37d",
   "metadata": {},
   "outputs": [
    {
     "name": "stdout",
     "output_type": "stream",
     "text": [
      "[' ', '\"', '$', '%', '(', ')', '*', '+', ',', '-', '.', '/', '0', '1', '2', '3', '4', '5', '6', '7', '8', '9', 'a', 'b', 'c', 'd', 'e', 'f', 'g', 'h', 'i', 'j', 'k', 'l', 'm', 'n', 'o', 'p', 'q', 'r', 's', 't', 'u', 'v', 'w', 'x', 'y', 'z', '°', 'ó', '÷', 'ँ', 'ं', 'ः', 'अ', 'आ', 'इ', 'ई', 'उ', 'ऊ', 'ऋ', 'ए', 'ऐ', 'ओ', 'औ', 'क', 'ख', 'ग', 'घ', 'ङ', 'च', 'छ', 'ज', 'झ', 'ञ', 'ट', 'ठ', 'ड', 'ढ', 'ण', 'त', 'थ', 'द', 'ध', 'न', 'प', 'फ', 'ब', 'भ', 'म', 'य', 'र', 'ल', 'व', 'श', 'ष', 'स', 'ह', 'ा', 'ि', 'ी', 'ु', 'ू', 'ृ', 'े', 'ै', 'ो', 'ौ', '्', '०', '१', '२', '३', '४', '५', '६', '७', '८', '९', '—', '‘', '’', '“', '”', '′', '*']\n"
     ]
    }
   ],
   "source": [
    "OOV = \"*\"\n",
    "VOCAB += OOV\n",
    "print(VOCAB)"
   ]
  },
  {
   "cell_type": "markdown",
   "id": "42b7d630-ea6b-4462-bfa6-74eefbc20005",
   "metadata": {},
   "source": [
    "## Turn Words into Tensors"
   ]
  },
  {
   "cell_type": "code",
   "execution_count": 20,
   "id": "8e48de8a-2907-4e6d-a49b-c8b32b55fc0d",
   "metadata": {},
   "outputs": [],
   "source": [
    "def char_to_index(char):\n",
    "    if char in VOCAB:\n",
    "        return VOCAB.index(char)\n",
    "    return VOCAB.index(OOV)\n",
    "\n",
    "def sentence_to_tensor(sentence):\n",
    "    time_stamp = len(sentence)\n",
    "    batch_size = 1\n",
    "    vocab_size = len(VOCAB)\n",
    "    tensor = torch.zeros(time_stamp, batch_size, vocab_size)\n",
    "    for i, char in enumerate(sentence): #one-hot-encoding of the sentence\n",
    "        tensor[i][0][char_to_index(char)] = 1\n",
    "    return tensor"
   ]
  },
  {
   "cell_type": "code",
   "execution_count": 21,
   "id": "5c5216e7-b223-4011-a3f3-ff79a26f938c",
   "metadata": {},
   "outputs": [
    {
     "data": {
      "text/plain": [
       "22"
      ]
     },
     "execution_count": 21,
     "metadata": {},
     "output_type": "execute_result"
    }
   ],
   "source": [
    "char_to_index(\"a\")"
   ]
  },
  {
   "cell_type": "code",
   "execution_count": 22,
   "id": "3b748d3e-51e3-4562-9092-e54b72e54bfa",
   "metadata": {},
   "outputs": [
    {
     "data": {
      "text/plain": [
       "tensor([[[0., 0., 0., 0., 0., 0., 0., 0., 0., 0., 0., 0., 0., 0., 0., 0., 0.,\n",
       "          0., 0., 0., 0., 0., 1., 0., 0., 0., 0., 0., 0., 0., 0., 0., 0., 0.,\n",
       "          0., 0., 0., 0., 0., 0., 0., 0., 0., 0., 0., 0., 0., 0., 0., 0., 0.,\n",
       "          0., 0., 0., 0., 0., 0., 0., 0., 0., 0., 0., 0., 0., 0., 0., 0., 0.,\n",
       "          0., 0., 0., 0., 0., 0., 0., 0., 0., 0., 0., 0., 0., 0., 0., 0., 0.,\n",
       "          0., 0., 0., 0., 0., 0., 0., 0., 0., 0., 0., 0., 0., 0., 0., 0., 0.,\n",
       "          0., 0., 0., 0., 0., 0., 0., 0., 0., 0., 0., 0., 0., 0., 0., 0., 0.,\n",
       "          0., 0., 0., 0., 0., 0., 0.]],\n",
       "\n",
       "        [[0., 0., 0., 0., 0., 0., 0., 0., 0., 0., 0., 0., 0., 0., 0., 0., 0.,\n",
       "          0., 0., 0., 0., 0., 0., 0., 0., 0., 0., 0., 0., 0., 0., 0., 0., 0.,\n",
       "          0., 0., 0., 1., 0., 0., 0., 0., 0., 0., 0., 0., 0., 0., 0., 0., 0.,\n",
       "          0., 0., 0., 0., 0., 0., 0., 0., 0., 0., 0., 0., 0., 0., 0., 0., 0.,\n",
       "          0., 0., 0., 0., 0., 0., 0., 0., 0., 0., 0., 0., 0., 0., 0., 0., 0.,\n",
       "          0., 0., 0., 0., 0., 0., 0., 0., 0., 0., 0., 0., 0., 0., 0., 0., 0.,\n",
       "          0., 0., 0., 0., 0., 0., 0., 0., 0., 0., 0., 0., 0., 0., 0., 0., 0.,\n",
       "          0., 0., 0., 0., 0., 0., 0.]]])"
      ]
     },
     "execution_count": 22,
     "metadata": {},
     "output_type": "execute_result"
    }
   ],
   "source": [
    "sentence_to_tensor(\"ap\")"
   ]
  },
  {
   "cell_type": "markdown",
   "id": "62335fe7-3f57-4ac6-bb75-72ec44fbd27e",
   "metadata": {},
   "source": [
    "## Build DataLoader"
   ]
  },
  {
   "cell_type": "code",
   "execution_count": 23,
   "id": "b8d2b727-0c76-4fd1-8f62-7eaa2efd30ae",
   "metadata": {},
   "outputs": [],
   "source": [
    "from torch.utils.data import Dataset"
   ]
  },
  {
   "cell_type": "code",
   "execution_count": 24,
   "id": "1b31f529-98d7-4986-a24d-aba1635a965f",
   "metadata": {},
   "outputs": [
    {
     "data": {
      "text/plain": [
       "['eng', 'nep', 'romanized_nep']"
      ]
     },
     "execution_count": 24,
     "metadata": {},
     "output_type": "execute_result"
    }
   ],
   "source": [
    "df[\"language\"].unique().tolist()"
   ]
  },
  {
   "cell_type": "code",
   "execution_count": 86,
   "id": "4586e4fc-67f7-4bfd-88e0-3cc2723a2bc2",
   "metadata": {},
   "outputs": [],
   "source": [
    "class LanguageDataset(Dataset):\n",
    "    def __init__(self, data_path):\n",
    "        self.data = []\n",
    "        self.data_tensor = []\n",
    "        self.labels = []\n",
    "        self.labels_tensor = []\n",
    "        \n",
    "        df = pd.read_csv(data_path)\n",
    "\n",
    "        self.unique_labels = df[\"language\"].unique().tolist()\n",
    "        for label in self.unique_labels:\n",
    "            sentences = df[df[\"language\"] == \"nep\"][\"text\"].tolist()\n",
    "            for sent in nep_sentences:\n",
    "                self.data.append(sent.lower())\n",
    "                self.data_tensor.append(sentence_to_tensor(sent))\n",
    "                self.labels.append(label)\n",
    "\n",
    "        # convert labels into tensors\n",
    "        for idx, label in enumerate(self.labels):\n",
    "            tensor = torch.tensor([self.unique_labels.index(label)], dtype=torch.long)\n",
    "            self.labels_tensor.append(tensor)\n",
    "\n",
    "    def __len__(self):\n",
    "        return len(self.data)\n",
    "\n",
    "    def __getitem__(self, idx):\n",
    "        text = self.data[idx]\n",
    "        text_tensor = self.data_tensor[idx]\n",
    "        label = self.labels[idx]\n",
    "        label_tensor = self.labels_tensor[idx]\n",
    "\n",
    "        return text, text_tensor, label, label_tensor"
   ]
  },
  {
   "cell_type": "code",
   "execution_count": 87,
   "id": "3c602f48-b122-4a27-b572-746b122bdac8",
   "metadata": {},
   "outputs": [],
   "source": [
    "alldata = LanguageDataset(data_path)"
   ]
  },
  {
   "cell_type": "code",
   "execution_count": 88,
   "id": "d4b2b6b2-8cee-4498-85da-419801f21f4f",
   "metadata": {},
   "outputs": [
    {
     "name": "stdout",
     "output_type": "stream",
     "text": [
      "loaded 4434 items of data\n",
      "example = ('\"तुर्कमेनिस्तानको अवाजामा सम्पन्न भूपरिवेष्ठित विकासशील राष्ट्रहरूको तेस्रो संयुक्त राष्ट्रसङ्घीय सम्मेलनमा सहभागी भइ प्रधानमन्त्री केपी शर्मा ओली शुक्रबार स्वदेश फर्कँदै हुनुहुन्छ ', tensor([[[0., 1., 0.,  ..., 0., 0., 0.]],\n",
      "\n",
      "        [[0., 0., 0.,  ..., 0., 0., 0.]],\n",
      "\n",
      "        [[0., 0., 0.,  ..., 0., 0., 0.]],\n",
      "\n",
      "        ...,\n",
      "\n",
      "        [[0., 0., 0.,  ..., 0., 0., 0.]],\n",
      "\n",
      "        [[0., 0., 0.,  ..., 0., 0., 0.]],\n",
      "\n",
      "        [[1., 0., 0.,  ..., 0., 0., 0.]]]), 'eng', tensor([0]))\n"
     ]
    }
   ],
   "source": [
    "print(f\"loaded {len(alldata)} items of data\")\n",
    "print(f\"example = {alldata[0]}\")"
   ]
  },
  {
   "cell_type": "code",
   "execution_count": 106,
   "id": "fbd45f08-83a1-4835-b0f9-5abbca6e4a4b",
   "metadata": {},
   "outputs": [
    {
     "data": {
      "text/plain": [
       "torch.return_types.topk(\n",
       "values=tensor([1]),\n",
       "indices=tensor([0]))"
      ]
     },
     "execution_count": 106,
     "metadata": {},
     "output_type": "execute_result"
    }
   ],
   "source": [
    "alldata[2000][3].topk(1)"
   ]
  },
  {
   "cell_type": "markdown",
   "id": "ece67ee9-6da4-408d-b2b5-43c3fabb9d21",
   "metadata": {},
   "source": [
    "## Prepare train test split"
   ]
  },
  {
   "cell_type": "code",
   "execution_count": 89,
   "id": "c9e80ebb-15ee-468c-a565-a10f666a455f",
   "metadata": {},
   "outputs": [
    {
     "name": "stdout",
     "output_type": "stream",
     "text": [
      "train examples = 3769, validation examples = 665\n"
     ]
    }
   ],
   "source": [
    "train_set, test_set = torch.utils.data.random_split(alldata,\n",
    "                                                    [.85, .15],\n",
    "                                                    generator=torch.Generator(device=device).manual_seed(2024))\n",
    "\n",
    "print(f\"train examples = {len(train_set)}, validation examples = {len(test_set)}\")"
   ]
  },
  {
   "cell_type": "code",
   "execution_count": null,
   "id": "655642ac-ce33-410b-8165-94b5a0a775d4",
   "metadata": {},
   "outputs": [],
   "source": []
  },
  {
   "cell_type": "markdown",
   "id": "ee201bd4-8a61-4db9-96b0-3f7dc37d0322",
   "metadata": {},
   "source": [
    "# Build RNN model"
   ]
  },
  {
   "cell_type": "code",
   "execution_count": 90,
   "id": "c3a9276a-d4ae-45ac-8db8-402ae823a617",
   "metadata": {},
   "outputs": [],
   "source": [
    "import torch.nn as nn\n",
    "import torch.nn.functional as F\n",
    "from tqdm import tqdm"
   ]
  },
  {
   "cell_type": "code",
   "execution_count": 139,
   "id": "1776ddae-bde2-4e53-a6e5-df2c52cd1e4f",
   "metadata": {},
   "outputs": [],
   "source": [
    "class CharRNN(nn.Module):\n",
    "    def __init__(self, input_size, hidden_size, output_size):\n",
    "        super(CharRNN, self).__init__()\n",
    "        self.rnn = nn.RNN(input_size, hidden_size, num_layers=1)\n",
    "        self.h2o = nn.Linear(hidden_size, output_size)\n",
    "        self.softmax = nn.LogSoftmax(dim=1)\n",
    "\n",
    "    def forward(self, input_tensor): #input-tensor -> (seq_length, batch_size, input_size)\n",
    "        rnn_output, hidden = self.rnn(input_tensor)\n",
    "        # rnn_output: outputs for all timesteps → (seq_len, batch_size, hidden_size)\n",
    "        # hidden: the last hidden state → (num_layers, batch_size, hidden_size)\n",
    "        \n",
    "        output = self.h2o(hidden[-1]) #first layer hidden state\n",
    "        output = self.softmax(output)\n",
    "        return output\n",
    "\n",
    "    def training_step(self, batch, loss_fn):\n",
    "        batch_loss = 0\n",
    "        for output_tensor, label_tensor in batch:\n",
    "            loss = loss_fn(output_tensor, label_tensor)\n",
    "            batch_loss += loss\n",
    "        return batch_loss\n",
    "\n",
    "    def validation_step(self, model, batch, loss_fn):\n",
    "        batch_loss = 0\n",
    "        batch_accuracy = 0\n",
    "        for output_tensor, label_tensor in batch:\n",
    "            batch_loss += loss_fn(output_tensor, label_tensor)\n",
    "            \n",
    "            pred_label = output_tensor.topk(1)[1][0] # one-hot encoded output_tensor\n",
    "            true_label = label_tensor[0] #label encoded label_tensor\n",
    "            \n",
    "            batch_accuracy += int(pred_label == true_label)\n",
    "        batch_accuracy /= len(batch)\n",
    "        \n",
    "        return {\n",
    "            \"val_loss\": batch_loss.detach()/len(batch), \n",
    "            \"val_accuracy\": torch.tensor(batch_accuracy)}\n",
    "\n",
    "    def validation_epoch_end(self, outputs):\n",
    "        batch_losses = [x['val_loss'] for x in outputs]\n",
    "        epoch_loss = torch.stack(batch_losses).mean()   # Combine losses\n",
    "        batch_accs = [x['val_accuracy'] for x in outputs]\n",
    "        epoch_acc = torch.stack(batch_accs).mean()      # Combine accuracies\n",
    "        return {'val_loss': epoch_loss.item(), 'val_accuracy': epoch_acc.item()}\n",
    "\n",
    "    def training_epoch_end(self, epoch, result):\n",
    "        print(\"Epoch [{}],train_loss: {:.4f} ,val_loss: {:.4f}, val_acc: {:.4f}\".format(epoch,\n",
    "                                                                                        result[\"train_loss\"],\n",
    "                                                                                        result['val_loss'],\n",
    "                                                                                        result['val_accuracy']))\n",
    "        "
   ]
  },
  {
   "cell_type": "code",
   "execution_count": 140,
   "id": "5d437a47-1c3b-49c9-bfb3-9ba2471ee029",
   "metadata": {},
   "outputs": [
    {
     "name": "stdout",
     "output_type": "stream",
     "text": [
      "CharRNN(\n",
      "  (rnn): RNN(126, 128)\n",
      "  (h2o): Linear(in_features=128, out_features=3, bias=True)\n",
      "  (softmax): LogSoftmax(dim=1)\n",
      ")\n"
     ]
    }
   ],
   "source": [
    "n_hidden = 128\n",
    "rnn = CharRNN(len(VOCAB), n_hidden, len(alldata.unique_labels))\n",
    "print(rnn)"
   ]
  },
  {
   "cell_type": "code",
   "execution_count": 141,
   "id": "f85f4a09-da1b-404a-96d0-6ab951e8ec19",
   "metadata": {},
   "outputs": [
    {
     "data": {
      "text/plain": [
       "torch.return_types.topk(\n",
       "values=tensor([4.]),\n",
       "indices=tensor([2]))"
      ]
     },
     "execution_count": 141,
     "metadata": {},
     "output_type": "execute_result"
    }
   ],
   "source": [
    "torch.tensor([1,2,4.]).topk(1)"
   ]
  },
  {
   "cell_type": "code",
   "execution_count": 142,
   "id": "9e345573-224b-47bf-a032-21631ac9c76c",
   "metadata": {},
   "outputs": [],
   "source": [
    "def output_to_label(output_tensor, output_labels):\n",
    "    top_n_values, top_n_indices = output_tensor.topk(1)\n",
    "    label_index = top_n_indices[0].item()\n",
    "    return output_labels[label_index], label_index"
   ]
  },
  {
   "cell_type": "code",
   "execution_count": 143,
   "id": "70c420eb-3a46-41c4-8833-8007d93bdd79",
   "metadata": {},
   "outputs": [
    {
     "name": "stdout",
     "output_type": "stream",
     "text": [
      "tensor([[-1.1070, -1.1541, -1.0381]], grad_fn=<LogSoftmaxBackward0>)\n",
      "('romanized_nep', 2)\n"
     ]
    }
   ],
   "source": [
    "input_tensor = sentence_to_tensor('nepali')\n",
    "output_tensor = rnn(input_tensor) #this is equivalent to ``output = rnn.forward(input)``\n",
    "print(output_tensor)\n",
    "print(output_to_label(output_tensor, alldata.unique_labels))"
   ]
  },
  {
   "cell_type": "markdown",
   "id": "4c66c2ce-e7ee-4f33-b6d3-ca8b2cb07984",
   "metadata": {},
   "source": [
    "# Model Training"
   ]
  },
  {
   "cell_type": "code",
   "execution_count": 144,
   "id": "b3679468-be85-4e4e-869a-738a3bbe9bbb",
   "metadata": {},
   "outputs": [],
   "source": [
    "import random\n",
    "import numpy as np\n",
    "import time"
   ]
  },
  {
   "cell_type": "code",
   "execution_count": 145,
   "id": "fb484328-1abc-4bb3-b66f-7688ce4a4e40",
   "metadata": {},
   "outputs": [],
   "source": [
    "hyper_parameters = {\n",
    "    \"n_epochs\": 10,\n",
    "    \"train_batch_size\": 8,\n",
    "    \"val_batch_size\": 16,\n",
    "    \"lr\": 0.1,\n",
    "    \"report_every\": 1,\n",
    "    \"loss_fn\" : nn.NLLLoss(),\n",
    "    \"opt\": torch.optim.SGD\n",
    "}"
   ]
  },
  {
   "cell_type": "code",
   "execution_count": 146,
   "id": "b42b8af8-2806-431f-9341-8589cd7210cd",
   "metadata": {},
   "outputs": [],
   "source": [
    "def evaluate(model, val_dataset, loss_fn, val_batch_size):\n",
    "    results = []\n",
    "    val_batches_idx = list(range(len(val_dataset)))\n",
    "    val_batches_idx = np.array_split(val_batches_idx, len(val_batches_idx) //val_batch_size)\n",
    "\n",
    "    for batch in val_batches_idx:\n",
    "        val_batch = [(rnn.forward(val_dataset[idx][1]), \n",
    "                      val_dataset[idx][3]) for idx in batch]\n",
    "        results.append(model.validation_step(model, val_batch, loss_fn))\n",
    "    return model.validation_epoch_end(results)\n",
    "    "
   ]
  },
  {
   "cell_type": "code",
   "execution_count": 147,
   "id": "22151a3b-9fe6-48e6-9f60-0bd198d17503",
   "metadata": {},
   "outputs": [],
   "source": [
    "def train(model, training_dataset, val_dataset, **kwargs):\n",
    "    # keep track of losses\n",
    "    histories = []\n",
    "\n",
    "    lr = kwargs[\"lr\"]\n",
    "    n_epochs = kwargs[\"n_epochs\"]\n",
    "    train_batch_size = kwargs[\"train_batch_size\"]\n",
    "    val_batch_size = kwargs[\"val_batch_size\"]\n",
    "    loss_fn = kwargs[\"loss_fn\"]\n",
    "    report_every = kwargs[\"report_every\"]\n",
    "    optimizer = kwargs[\"opt\"](model.parameters(), lr=lr)\n",
    "\n",
    "    for iter in range(1, n_epochs + 1):\n",
    "        model.zero_grad()\n",
    "        # create mini-batch\n",
    "        train_batches_idx = list(range(len(training_dataset)))\n",
    "        random.shuffle(train_batches_idx)\n",
    "        train_batches_idx = np.array_split(train_batches_idx, len(train_batches_idx) //train_batch_size)\n",
    "\n",
    "        train_loss_sum = 0\n",
    "        with tqdm(enumerate(train_batches_idx), total=len(train_batches_idx), desc=f\"batch: {iter+1}/{n_epochs}\", unit=\"batch\") as pbar:\n",
    "            for idx, batch in pbar:\n",
    "                batch_loss = 0\n",
    "                train_batch = [(rnn.forward(training_dataset[idx][1]), training_dataset[idx][3])\n",
    "                               for idx in batch]\n",
    "                \n",
    "                train_loss = rnn.training_step(train_batch, loss_fn) \n",
    "                pbar.set_postfix(loss=f\"{train_loss.item()/len(train_batch):.4f}\")\n",
    "                \n",
    "                # optimize parameter\n",
    "                train_loss.backward()\n",
    "                nn.utils.clip_grad_norm_(rnn.parameters(), 3)\n",
    "                optimizer.step()\n",
    "                optimizer.zero_grad()\n",
    "                train_loss_sum += train_loss \n",
    "\n",
    "        \n",
    "        val_result = evaluate(model, val_dataset, loss_fn, val_batch_size)\n",
    "        \n",
    "        histories.append({\n",
    "            \"val_loss\": val_result[\"val_loss\"],\n",
    "            \"val_accuracy\": val_result[\"val_accuracy\"],\n",
    "            \"train_loss\": train_loss_sum / len(train_batches_idx)\n",
    "        })\n",
    "        model.training_epoch_end(iter, histories[-1])\n",
    "\n",
    "    return histories"
   ]
  },
  {
   "cell_type": "code",
   "execution_count": null,
   "id": "b1a113bd-1ed1-4467-8d52-105eb34962c5",
   "metadata": {},
   "outputs": [
    {
     "name": "stderr",
     "output_type": "stream",
     "text": [
      "batch: 2/10: 100%|████████████| 471/471 [00:35<00:00, 13.12batch/s, loss=1.2268]\n"
     ]
    },
    {
     "name": "stdout",
     "output_type": "stream",
     "text": [
      "Epoch [1],train_loss: 8.9502 ,val_loss: 1.0978, val_acc: 0.3601\n"
     ]
    },
    {
     "name": "stderr",
     "output_type": "stream",
     "text": [
      "batch: 3/10: 100%|████████████| 471/471 [00:40<00:00, 11.77batch/s, loss=1.1041]\n"
     ]
    },
    {
     "name": "stdout",
     "output_type": "stream",
     "text": [
      "Epoch [2],train_loss: 8.9570 ,val_loss: 1.1156, val_acc: 0.3284\n"
     ]
    },
    {
     "name": "stderr",
     "output_type": "stream",
     "text": [
      "batch: 4/10: 100%|████████████| 471/471 [00:53<00:00,  8.87batch/s, loss=1.0896]\n"
     ]
    },
    {
     "name": "stdout",
     "output_type": "stream",
     "text": [
      "Epoch [3],train_loss: 8.9433 ,val_loss: 1.1431, val_acc: 0.2953\n"
     ]
    },
    {
     "name": "stderr",
     "output_type": "stream",
     "text": [
      "batch: 5/10: 100%|████████████| 471/471 [01:10<00:00,  6.65batch/s, loss=1.1074]\n"
     ]
    },
    {
     "name": "stdout",
     "output_type": "stream",
     "text": [
      "Epoch [4],train_loss: 8.9575 ,val_loss: 1.1305, val_acc: 0.3220\n"
     ]
    },
    {
     "name": "stderr",
     "output_type": "stream",
     "text": [
      "batch: 6/10: 100%|████████████| 471/471 [01:14<00:00,  6.31batch/s, loss=1.1846]\n"
     ]
    },
    {
     "name": "stdout",
     "output_type": "stream",
     "text": [
      "Epoch [5],train_loss: 8.9691 ,val_loss: 1.1065, val_acc: 0.3284\n"
     ]
    },
    {
     "name": "stderr",
     "output_type": "stream",
     "text": [
      "batch: 7/10: 100%|████████████| 471/471 [01:15<00:00,  6.20batch/s, loss=1.6633]\n"
     ]
    },
    {
     "name": "stdout",
     "output_type": "stream",
     "text": [
      "Epoch [6],train_loss: 9.3473 ,val_loss: 1.2174, val_acc: 0.3569\n"
     ]
    },
    {
     "name": "stderr",
     "output_type": "stream",
     "text": [
      "batch: 8/10: 100%|████████████| 471/471 [01:15<00:00,  6.28batch/s, loss=1.0027]\n"
     ]
    },
    {
     "name": "stdout",
     "output_type": "stream",
     "text": [
      "Epoch [7],train_loss: 9.5946 ,val_loss: 1.1466, val_acc: 0.3284\n"
     ]
    },
    {
     "name": "stderr",
     "output_type": "stream",
     "text": [
      "batch: 9/10: 100%|████████████| 471/471 [01:03<00:00,  7.38batch/s, loss=1.0542]\n"
     ]
    }
   ],
   "source": [
    "start = time.time()\n",
    "all_losses = train(rnn, train_set, test_set, **hyper_parameters)\n",
    "end = time.time()\n",
    "print(f\"training took {end-start}s\")"
   ]
  },
  {
   "cell_type": "code",
   "execution_count": null,
   "id": "d235f9e9-9a61-442e-8512-45cbf23622f5",
   "metadata": {},
   "outputs": [],
   "source": []
  },
  {
   "cell_type": "markdown",
   "id": "3374b01a-c3f5-4715-9e0f-8dde2454b067",
   "metadata": {},
   "source": [
    "# Plot the result"
   ]
  },
  {
   "cell_type": "code",
   "execution_count": 164,
   "id": "8bd62e37-7fc8-450c-8d92-ed1af3d66e53",
   "metadata": {},
   "outputs": [],
   "source": [
    "import matplotlib.pyplot as plt\n",
    "import matplotlib.ticker as ticker\n",
    "\n",
    "def plot_accuracies(histories):\n",
    "    accuracies = [x['val_accuracy'] for x in histories]\n",
    "    plt.plot(accuracies, '-x')\n",
    "    plt.xlabel('epoch')\n",
    "    plt.ylabel('accuracy')\n",
    "    plt.title('Accuracy vs. No. of epochs');\n",
    "\n",
    "def plot_losses(histories):\n",
    "    val_losses = [x['val_loss'] for x in histories]\n",
    "    val_acc = [x['val_accuracy'] for x in histories]\n",
    "    \n",
    "    plt.plot(val_losses, '-x')\n",
    "    plt.plot(val_acc, '-x')\n",
    "    \n",
    "    plt.xlabel('epoch')\n",
    "    plt.ylabel('loss')\n",
    "    plt.title('Loss vs. No. of epochs');"
   ]
  },
  {
   "cell_type": "code",
   "execution_count": 165,
   "id": "0ea50407-4b3a-42b5-b045-a7bd29d9c6fe",
   "metadata": {},
   "outputs": [
    {
     "data": {
      "image/png": "[encoded data removed]",
      "text/plain": [
       "<Figure size 640x480 with 1 Axes>"
      ]
     },
     "metadata": {},
     "output_type": "display_data"
    }
   ],
   "source": [
    "plot_accuracies(all_losses)"
   ]
  },
  {
   "cell_type": "code",
   "execution_count": 166,
   "id": "0fa7fb8c-17e3-4132-8ace-050f610b2f98",
   "metadata": {},
   "outputs": [
    {
     "data": {
      "image/png": "[encoded data removed]",
      "text/plain": [
       "<Figure size 640x480 with 1 Axes>"
      ]
     },
     "metadata": {},
     "output_type": "display_data"
    }
   ],
   "source": [
    "plot_losses(all_losses)"
   ]
  },
  {
   "cell_type": "code",
   "execution_count": null,
   "id": "5d42cd45-9b78-47bd-bb22-310c20507b2a",
   "metadata": {},
   "outputs": [],
   "source": []
  },
  {
   "cell_type": "code",
   "execution_count": null,
   "id": "e62e8d96-878e-4200-9ca8-484f447e70da",
   "metadata": {},
   "outputs": [],
   "source": []
  },
  {
   "cell_type": "code",
   "execution_count": null,
   "id": "ad64869d-0f61-4bbb-8ad8-29a7c7947ecd",
   "metadata": {},
   "outputs": [],
   "source": []
  },
  {
   "cell_type": "code",
   "execution_count": null,
   "id": "40fd7dec-9fa8-494c-8b76-e5fa422f7465",
   "metadata": {},
   "outputs": [],
   "source": []
  },
  {
   "cell_type": "code",
   "execution_count": null,
   "id": "6ad1e7bd-8902-40d1-8e4e-0767798c3c68",
   "metadata": {},
   "outputs": [],
   "source": []
  },
  {
   "cell_type": "code",
   "execution_count": null,
   "id": "27133f4d-58ea-4556-bd3e-a188347b4baf",
   "metadata": {},
   "outputs": [],
   "source": []
  }
 ],
 "metadata": {
  "kernelspec": {
   "display_name": "Python 3 (ipykernel)",
   "language": "python",
   "name": "python3"
  },
  "language_info": {
   "codemirror_mode": {
    "name": "ipython",
    "version": 3
   },
   "file_extension": ".py",
   "mimetype": "text/x-python",
   "name": "python",
   "nbconvert_exporter": "python",
   "pygments_lexer": "ipython3",
   "version": "3.10.14"
  }
 },
 "nbformat": 4,
 "nbformat_minor": 5
}
