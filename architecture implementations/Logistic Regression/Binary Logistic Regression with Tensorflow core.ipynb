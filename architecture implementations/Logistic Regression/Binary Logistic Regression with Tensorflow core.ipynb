{
 "cells": [
  {
   "cell_type": "markdown",
   "id": "fe1e2a39",
   "metadata": {},
   "source": [
    "# Implementation of Binary Logistic Regression using Tensorflow core"
   ]
  },
  {
   "cell_type": "code",
   "execution_count": 1,
   "id": "a524cc1b",
   "metadata": {},
   "outputs": [
    {
     "name": "stderr",
     "output_type": "stream",
     "text": [
      "2023-07-19 20:38:15.734261: I tensorflow/tsl/cuda/cudart_stub.cc:28] Could not find cuda drivers on your machine, GPU will not be used.\n",
      "2023-07-19 20:38:15.937648: I tensorflow/tsl/cuda/cudart_stub.cc:28] Could not find cuda drivers on your machine, GPU will not be used.\n",
      "2023-07-19 20:38:15.938848: I tensorflow/core/platform/cpu_feature_guard.cc:182] This TensorFlow binary is optimized to use available CPU instructions in performance-critical operations.\n",
      "To enable the following instructions: AVX2 FMA, in other operations, rebuild TensorFlow with the appropriate compiler flags.\n",
      "2023-07-19 20:38:17.080039: W tensorflow/compiler/tf2tensorrt/utils/py_utils.cc:38] TF-TRT Warning: Could not find TensorRT\n"
     ]
    }
   ],
   "source": [
    "import tensorflow as tf\n",
    "import pandas as pd\n",
    "import numpy as np\n",
    "import matplotlib.pyplot as plt"
   ]
  },
  {
   "cell_type": "code",
   "execution_count": 2,
   "id": "4fafe907",
   "metadata": {},
   "outputs": [],
   "source": [
    "SEED = 58\n",
    "tf.random.set_seed(SEED)"
   ]
  },
  {
   "cell_type": "code",
   "execution_count": 3,
   "id": "e21ef311",
   "metadata": {},
   "outputs": [
    {
     "data": {
      "text/plain": [
       "<tf.Tensor: shape=(1, 2), dtype=float32, numpy=array([[0.5668071, 1.1792463]], dtype=float32)>"
      ]
     },
     "execution_count": 3,
     "metadata": {},
     "output_type": "execute_result"
    }
   ],
   "source": [
    "tf.random.normal((1,2))"
   ]
  },
  {
   "cell_type": "markdown",
   "id": "371844aa",
   "metadata": {},
   "source": [
    "# Load the Data"
   ]
  },
  {
   "cell_type": "code",
   "execution_count": 64,
   "id": "cb46b900",
   "metadata": {},
   "outputs": [],
   "source": [
    "(x_train, y_train), (x_test, y_test) = tf.keras.datasets.mnist.load_data()"
   ]
  },
  {
   "cell_type": "code",
   "execution_count": 65,
   "id": "de908605",
   "metadata": {},
   "outputs": [
    {
     "name": "stdout",
     "output_type": "stream",
     "text": [
      "x_train shape:  (60000, 28, 28)\n",
      "y_train shape:  (60000,)\n",
      "x_test shape:  (10000, 28, 28)\n",
      "y_test shape:  (10000,)\n"
     ]
    }
   ],
   "source": [
    "print(\"x_train shape: \",x_train.shape)\n",
    "print(\"y_train shape: \", y_train.shape)\n",
    "print(\"x_test shape: \", x_test.shape)\n",
    "print(\"y_test shape: \", y_test.shape)"
   ]
  },
  {
   "cell_type": "code",
   "execution_count": 66,
   "id": "d780dabb",
   "metadata": {},
   "outputs": [
    {
     "name": "stdout",
     "output_type": "stream",
     "text": [
      "There are 10 unique classes in this dataset\n"
     ]
    }
   ],
   "source": [
    "NUM_CLASSES = len(np.unique(y_train))\n",
    "print(f\"There are {NUM_CLASSES} unique classes in this dataset\")"
   ]
  },
  {
   "cell_type": "code",
   "execution_count": 67,
   "id": "636dfd76",
   "metadata": {},
   "outputs": [],
   "source": [
    "class_label1 = 0  # digit seven\n",
    "class_label2 = 1  # digit one\n",
    "\n",
    "x_train_binary = x_train[(y_train == class_label1) | (y_train == class_label2)]\n",
    "y_train_binary = y_train[(y_train == class_label1) | (y_train == class_label2)]"
   ]
  },
  {
   "cell_type": "code",
   "execution_count": 68,
   "id": "cbee48bb",
   "metadata": {},
   "outputs": [
    {
     "name": "stdout",
     "output_type": "stream",
     "text": [
      "x_train shape:  (12665, 28, 28)\n",
      "y_train shape:  (12665,)\n"
     ]
    }
   ],
   "source": [
    "print(\"x_train shape: \",x_train_binary.shape)\n",
    "print(\"y_train shape: \", y_train_binary.shape)"
   ]
  },
  {
   "cell_type": "code",
   "execution_count": 69,
   "id": "a4e10d43",
   "metadata": {},
   "outputs": [
    {
     "name": "stdout",
     "output_type": "stream",
     "text": [
      "There are 2 unique classes in this dataset and they are [0 1]\n"
     ]
    }
   ],
   "source": [
    "CLASSES = np.unique(y_train_binary)\n",
    "NUM_CLASSES = len(CLASSES)\n",
    "print(f\"There are {NUM_CLASSES} unique classes in this dataset and they are {CLASSES}\")"
   ]
  },
  {
   "cell_type": "code",
   "execution_count": 70,
   "id": "ff8b996f",
   "metadata": {},
   "outputs": [],
   "source": [
    "def show_data(index, x, y):\n",
    "    plt.figure(figsize=(20,4))\n",
    "    for i in range(index, index+5):\n",
    "        img = x[i]\n",
    "        label = y[i]\n",
    "        plt.subplot(1, 5, i + 1)\n",
    "        plt.imshow(img, cmap=\"gray\")\n",
    "        plt.title('Training: %i\\n' % label, fontsize = 15);"
   ]
  },
  {
   "cell_type": "code",
   "execution_count": 71,
   "id": "0504b52a",
   "metadata": {},
   "outputs": [
    {
     "data": {
      "image/png": "[encoded data removed]",
      "text/plain": [
       "<Figure size 2000x400 with 5 Axes>"
      ]
     },
     "metadata": {},
     "output_type": "display_data"
    }
   ],
   "source": [
    "show_data(0, x_train_binary, y_train_binary)"
   ]
  },
  {
   "cell_type": "code",
   "execution_count": 72,
   "id": "ee2652da",
   "metadata": {},
   "outputs": [],
   "source": [
    "x_train = x_train_binary\n",
    "y_train = y_train_binary"
   ]
  },
  {
   "cell_type": "markdown",
   "id": "ca707ec8",
   "metadata": {},
   "source": [
    "# Preprocess the data"
   ]
  },
  {
   "cell_type": "code",
   "execution_count": 73,
   "id": "267a1c3d",
   "metadata": {},
   "outputs": [],
   "source": [
    "x_train = tf.reshape(x_train, shape=(x_train.shape[0], -1))\n",
    "x_test = tf.reshape(x_test, shape=(x_test.shape[0], -1))"
   ]
  },
  {
   "cell_type": "code",
   "execution_count": 74,
   "id": "4427156a",
   "metadata": {},
   "outputs": [
    {
     "data": {
      "text/plain": [
       "(TensorShape([12665, 784]), TensorShape([10000, 784]))"
      ]
     },
     "execution_count": 74,
     "metadata": {},
     "output_type": "execute_result"
    }
   ],
   "source": [
    "x_train.shape, x_test.shape"
   ]
  },
  {
   "cell_type": "code",
   "execution_count": 75,
   "id": "9f5baaaa",
   "metadata": {},
   "outputs": [
    {
     "name": "stdout",
     "output_type": "stream",
     "text": [
      "New x_train shape:  (784, 12665)\n"
     ]
    }
   ],
   "source": [
    "x_train = tf.cast(tf.transpose(x_train), \"float32\")\n",
    "y_train = tf.constant(y_train)\n",
    "print(\"New x_train shape: \", x_train.shape)"
   ]
  },
  {
   "cell_type": "code",
   "execution_count": 76,
   "id": "5e95cf52",
   "metadata": {},
   "outputs": [],
   "source": [
    "# Normalization \n",
    "class Normalize(tf.Module):\n",
    "    def __init__(self, name=None):\n",
    "        super().__init__(name=name)\n",
    "    def norm(self, x):\n",
    "        # normalize the input image\n",
    "        return x / 255.\n",
    "    def denorm(self, x):\n",
    "        return x*255."
   ]
  },
  {
   "cell_type": "code",
   "execution_count": 77,
   "id": "d8df21d1",
   "metadata": {},
   "outputs": [],
   "source": [
    "norm_x = Normalize()"
   ]
  },
  {
   "cell_type": "code",
   "execution_count": 78,
   "id": "7002528d",
   "metadata": {},
   "outputs": [],
   "source": [
    "x_train = norm_x.norm(x_train)"
   ]
  },
  {
   "cell_type": "code",
   "execution_count": 79,
   "id": "03758222",
   "metadata": {},
   "outputs": [
    {
     "data": {
      "text/plain": [
       "(0.0, 1.0)"
      ]
     },
     "execution_count": 79,
     "metadata": {},
     "output_type": "execute_result"
    }
   ],
   "source": [
    "tf.reduce_min(x_train).numpy(), tf.reduce_max(x_train).numpy()"
   ]
  },
  {
   "cell_type": "markdown",
   "id": "2c0636a1",
   "metadata": {},
   "source": [
    "# Sigmoid Activation function"
   ]
  },
  {
   "cell_type": "code",
   "execution_count": 102,
   "id": "bcb46188",
   "metadata": {},
   "outputs": [],
   "source": [
    "def sigmoid(z):\n",
    "    exp_z = tf.math.exp(-z)\n",
    "    return 1 / (1 + exp_z)"
   ]
  },
  {
   "cell_type": "markdown",
   "id": "56a7d66a",
   "metadata": {},
   "source": [
    "# Binary Cross Entropy"
   ]
  },
  {
   "cell_type": "code",
   "execution_count": 96,
   "id": "f92c12e9",
   "metadata": {},
   "outputs": [],
   "source": [
    "binary_cross_entropy = tf.keras.losses.BinaryCrossentropy(from_logits=False)"
   ]
  },
  {
   "cell_type": "code",
   "execution_count": 97,
   "id": "082a5868",
   "metadata": {},
   "outputs": [
    {
     "data": {
      "text/plain": [
       "<tf.Tensor: shape=(), dtype=float32, numpy=0.988211>"
      ]
     },
     "execution_count": 97,
     "metadata": {},
     "output_type": "execute_result"
    }
   ],
   "source": [
    "y_true = [0, 1, 0, 0]\n",
    "y_pred = [0.6, 0.3, 0.2, 0.8] \n",
    "binary_cross_entropy(y_true, y_pred)"
   ]
  },
  {
   "cell_type": "markdown",
   "id": "c9444f29",
   "metadata": {},
   "source": [
    "# Model Building"
   ]
  },
  {
   "cell_type": "code",
   "execution_count": 167,
   "id": "cb2ddbb9",
   "metadata": {},
   "outputs": [
    {
     "data": {
      "text/plain": [
       "<tf.Tensor: shape=(1, 10), dtype=float32, numpy=\n",
       "array([[ 0.0415059 ,  0.7293062 , -1.0670805 , -0.14575548,  0.92748135,\n",
       "        -1.3405008 ,  0.6356525 ,  0.81411606,  0.22635087, -0.99689746]],\n",
       "      dtype=float32)>"
      ]
     },
     "execution_count": 167,
     "metadata": {},
     "output_type": "execute_result"
    }
   ],
   "source": [
    "tf.random.normal([1, 10], )"
   ]
  },
  {
   "cell_type": "code",
   "execution_count": 171,
   "id": "97a79319",
   "metadata": {},
   "outputs": [
    {
     "data": {
      "text/plain": [
       "<tf.Tensor: shape=(1, 10), dtype=float32, numpy=\n",
       "array([[0.90832615, 0.5792527 , 0.8658742 , 0.966949  , 0.3265425 ,\n",
       "        0.82195234, 0.76675725, 0.23753548, 0.6970676 , 0.3080865 ]],\n",
       "      dtype=float32)>"
      ]
     },
     "execution_count": 171,
     "metadata": {},
     "output_type": "execute_result"
    }
   ],
   "source": [
    "tf.random.uniform([1, 10])"
   ]
  },
  {
   "cell_type": "code",
   "execution_count": 184,
   "id": "9bdba34b",
   "metadata": {},
   "outputs": [],
   "source": [
    "class BinaryLogisticRegression(tf.Module):\n",
    "    def __init__(self, name=None, **kwargs):\n",
    "        super().__init__(name=name, **kwargs)\n",
    "        self.is_built = False\n",
    "    \n",
    "    def build(self, num_features):\n",
    "        # randomly generate bias and weights\n",
    "        self.weights = tf.Variable(tf.random.normal([1, num_features]), name=\"weights\")\n",
    "        self.bias = tf.Variable(tf.zeros([1]), name=\"bias\")\n",
    "        print(\"build successfully\")\n",
    "        \n",
    "    def predict(self, x):\n",
    "        #compute model output\n",
    "        # compute logits\n",
    "        logits = self.weights @ x + self.bias\n",
    "        z = sigmoid(logits)\n",
    "#         z = tf.keras.activations.sigmoid(logits)\n",
    "        return z\n",
    "    \n",
    "    def __call__(self, x):\n",
    "        if not self.is_built:\n",
    "            self.build(x.shape[0])\n",
    "            self.is_built = True\n",
    "        return self.predict(x)"
   ]
  },
  {
   "cell_type": "code",
   "execution_count": 185,
   "id": "0f052a4e",
   "metadata": {},
   "outputs": [
    {
     "data": {
      "text/plain": [
       "(TensorShape([784, 20]), TensorShape([20]))"
      ]
     },
     "execution_count": 185,
     "metadata": {},
     "output_type": "execute_result"
    }
   ],
   "source": [
    "x_train_sample = x_train[:, 100:120]\n",
    "y_train_sample = y_train[100:120]\n",
    "x_train_sample.shape, y_train_sample.shape"
   ]
  },
  {
   "cell_type": "code",
   "execution_count": 186,
   "id": "07216064",
   "metadata": {},
   "outputs": [],
   "source": [
    "model = BinaryLogisticRegression()"
   ]
  },
  {
   "cell_type": "code",
   "execution_count": 187,
   "id": "d95221cc",
   "metadata": {},
   "outputs": [
    {
     "name": "stdout",
     "output_type": "stream",
     "text": [
      "build successfully\n"
     ]
    },
    {
     "data": {
      "text/plain": [
       "<tf.Tensor: shape=(1, 20), dtype=float32, numpy=\n",
       "array([[0.9786402 , 0.8994124 , 0.9997044 , 0.44678774, 0.9989172 ,\n",
       "        0.9999995 , 1.        , 1.        , 0.99423945, 0.04136357,\n",
       "        0.00241864, 0.99944824, 0.2995294 , 0.6271704 , 0.99999905,\n",
       "        0.9984855 , 0.9993119 , 0.99999046, 0.9997744 , 0.92045987]],\n",
       "      dtype=float32)>"
      ]
     },
     "execution_count": 187,
     "metadata": {},
     "output_type": "execute_result"
    }
   ],
   "source": [
    "model(x_train_sample)"
   ]
  },
  {
   "cell_type": "markdown",
   "id": "61cb4b60",
   "metadata": {},
   "source": [
    "# Accuracy Metrics"
   ]
  },
  {
   "cell_type": "code",
   "execution_count": 188,
   "id": "4fd5bf80",
   "metadata": {},
   "outputs": [],
   "source": [
    "def calculate_accuracy(y_true, y_pred, threshold=0.5):\n",
    "    y_pred = tf.cast(y_pred >= 0.5, \"int16\")\n",
    "    y_true = tf.cast(y_true, \"int16\")\n",
    "    match = tf.cast(tf.equal(y_true, y_pred), \"float32\")\n",
    "    return tf.reduce_mean(match)"
   ]
  },
  {
   "cell_type": "code",
   "execution_count": 189,
   "id": "52dee88a",
   "metadata": {},
   "outputs": [
    {
     "data": {
      "text/plain": [
       "<tf.Tensor: shape=(), dtype=float32, numpy=0.25>"
      ]
     },
     "execution_count": 189,
     "metadata": {},
     "output_type": "execute_result"
    }
   ],
   "source": [
    "y_true = tf.constant([0, 1, 0, 0])\n",
    "y_pred = tf.constant([0.6, 0.3, 0.2, 0.8])\n",
    "\n",
    "calculate_accuracy(y_true, y_pred)"
   ]
  },
  {
   "cell_type": "markdown",
   "id": "c73c4338",
   "metadata": {},
   "source": [
    "# Train Function"
   ]
  },
  {
   "cell_type": "code",
   "execution_count": 190,
   "id": "20b62cd1",
   "metadata": {},
   "outputs": [],
   "source": [
    "# defining training function\n",
    "def train(model, x_train, y_train, learning_rate=0.01):\n",
    "    with tf.GradientTape() as tape:\n",
    "        y_pred = model(x_train)\n",
    "        acc = calculate_accuracy(y_train, y_pred)\n",
    "        loss = binary_cross_entropy(y_train, y_pred)\n",
    "\n",
    "    dw, db = tape.gradient(loss, [model.weights, model.bias])\n",
    "    print(tf.reduce_min(dw).numpy(), tf.reduce_max(dw).numpy())\n",
    "    model.weights.assign_sub(learning_rate * dw)\n",
    "    model.bias.assign_sub(learning_rate * db)\n",
    "    return loss, acc"
   ]
  },
  {
   "cell_type": "code",
   "execution_count": 191,
   "id": "6165d06b",
   "metadata": {},
   "outputs": [
    {
     "name": "stdout",
     "output_type": "stream",
     "text": [
      "-0.0868551 0.20470445\n"
     ]
    },
    {
     "data": {
      "text/plain": [
       "(<tf.Tensor: shape=(), dtype=float32, numpy=3.2101848>,\n",
       " <tf.Tensor: shape=(), dtype=float32, numpy=0.5>)"
      ]
     },
     "execution_count": 191,
     "metadata": {},
     "output_type": "execute_result"
    }
   ],
   "source": [
    "train(model, x_train_sample, y_train_sample, learning_rate=0.01)"
   ]
  },
  {
   "cell_type": "markdown",
   "id": "9cbbbeb5",
   "metadata": {},
   "source": [
    "# Training Loop"
   ]
  },
  {
   "cell_type": "code",
   "execution_count": 192,
   "id": "7fbf76b5",
   "metadata": {},
   "outputs": [],
   "source": [
    "def display_training_summary(loss, accuracy, epoch):\n",
    "    print(f\"EPOCH: {epoch} --- loss: {loss}---accuracy: {accuracy}\")"
   ]
  },
  {
   "cell_type": "code",
   "execution_count": 193,
   "id": "7b9bca8c",
   "metadata": {},
   "outputs": [
    {
     "data": {
      "text/plain": [
       "(TensorShape([784, 10000]), TensorShape([10000]))"
      ]
     },
     "execution_count": 193,
     "metadata": {},
     "output_type": "execute_result"
    }
   ],
   "source": [
    "# sample train data\n",
    "x_train_sample = x_train[:, :10_000]\n",
    "y_train_sample = y_train[:10_000]\n",
    "\n",
    "x_train_sample.shape, y_train_sample.shape"
   ]
  },
  {
   "cell_type": "code",
   "execution_count": 194,
   "id": "3f1de7c0",
   "metadata": {},
   "outputs": [],
   "source": [
    "#model initiate\n",
    "model = BinaryLogisticRegression()\n",
    "LOSS_HISTORY = []\n",
    "ACC_HISTORY = []"
   ]
  },
  {
   "cell_type": "code",
   "execution_count": 195,
   "id": "2aeb6d36",
   "metadata": {},
   "outputs": [
    {
     "name": "stdout",
     "output_type": "stream",
     "text": [
      "build successfully\n",
      "-0.013034324 0.24176362\n",
      "EPOCH: 1 --- loss: 1.7212613821029663---accuracy: 0.675000011920929\n",
      "-0.017493147 0.18818471\n",
      "EPOCH: 2 --- loss: 1.1721497774124146---accuracy: 0.7430999875068665\n",
      "-0.021327041 0.14534897\n",
      "EPOCH: 3 --- loss: 0.8541484475135803---accuracy: 0.7979999780654907\n",
      "-0.024337493 0.11589146\n",
      "EPOCH: 4 --- loss: 0.6700607538223267---accuracy: 0.8324000239372253\n",
      "-0.026643552 0.09559204\n",
      "EPOCH: 5 --- loss: 0.555742084980011---accuracy: 0.8532000184059143\n",
      "-0.028375065 0.08130844\n",
      "EPOCH: 6 --- loss: 0.47963857650756836---accuracy: 0.8708999752998352\n",
      "-0.029650008 0.07057373\n",
      "EPOCH: 7 --- loss: 0.4258582592010498---accuracy: 0.8841000199317932\n",
      "-0.030560618 0.06243335\n",
      "EPOCH: 8 --- loss: 0.3861510157585144---accuracy: 0.8928999900817871\n",
      "-0.031187655 0.056079596\n",
      "EPOCH: 9 --- loss: 0.355548620223999---accuracy: 0.9007999897003174\n",
      "-0.03159147 0.050957948\n",
      "EPOCH: 10 --- loss: 0.3310440480709076---accuracy: 0.9077000021934509\n",
      "-0.03181702 0.04679081\n",
      "EPOCH: 11 --- loss: 0.3109660744667053---accuracy: 0.9121000170707703\n",
      "-0.03190159 0.043299105\n",
      "EPOCH: 12 --- loss: 0.2940327227115631---accuracy: 0.9156000018119812\n",
      "-0.031872578 0.040359102\n",
      "EPOCH: 13 --- loss: 0.27951115369796753---accuracy: 0.91839998960495\n",
      "-0.03175291 0.03783776\n",
      "EPOCH: 14 --- loss: 0.26684293150901794---accuracy: 0.9212999939918518\n",
      "-0.031560637 0.035648618\n",
      "EPOCH: 15 --- loss: 0.25563833117485046---accuracy: 0.9243000149726868\n",
      "-0.031310275 0.033705465\n",
      "EPOCH: 16 --- loss: 0.24558125436306---accuracy: 0.9265000224113464\n",
      "-0.03101282 0.032003507\n",
      "EPOCH: 17 --- loss: 0.23653486371040344---accuracy: 0.929099977016449\n",
      "-0.03067898 0.030526334\n",
      "EPOCH: 18 --- loss: 0.22831596434116364---accuracy: 0.9311000108718872\n",
      "-0.030317146 0.029188637\n",
      "EPOCH: 19 --- loss: 0.22072908282279968---accuracy: 0.9330999851226807\n",
      "-0.029932588 0.028004713\n",
      "EPOCH: 20 --- loss: 0.21377621591091156---accuracy: 0.9358999729156494\n",
      "-0.029531967 0.026916364\n",
      "EPOCH: 21 --- loss: 0.20731620490550995---accuracy: 0.9376000165939331\n",
      "-0.029119566 0.025936281\n",
      "EPOCH: 22 --- loss: 0.20132672786712646---accuracy: 0.9399999976158142\n",
      "-0.028699612 0.025039881\n",
      "EPOCH: 23 --- loss: 0.19573503732681274---accuracy: 0.9417999982833862\n",
      "-0.028275374 0.02420946\n",
      "EPOCH: 24 --- loss: 0.1904885321855545---accuracy: 0.9434000253677368\n",
      "-0.027849203 0.023452926\n",
      "EPOCH: 25 --- loss: 0.18556912243366241---accuracy: 0.9441999793052673\n",
      "-0.02742358 0.022742525\n",
      "EPOCH: 26 --- loss: 0.18092282116413116---accuracy: 0.9455999732017517\n",
      "-0.02699994 0.022067383\n",
      "EPOCH: 27 --- loss: 0.17651724815368652---accuracy: 0.9472000002861023\n",
      "-0.026579324 0.021429643\n",
      "EPOCH: 28 --- loss: 0.17233677208423615---accuracy: 0.9480999708175659\n",
      "-0.026162554 0.02085574\n",
      "EPOCH: 29 --- loss: 0.1684035211801529---accuracy: 0.949999988079071\n",
      "-0.025751406 0.020318534\n",
      "EPOCH: 30 --- loss: 0.1646685004234314---accuracy: 0.9509000182151794\n",
      "-0.025346678 0.019811405\n",
      "EPOCH: 31 --- loss: 0.16111235320568085---accuracy: 0.9524000287055969\n",
      "-0.02494882 0.01931917\n",
      "EPOCH: 32 --- loss: 0.15770843625068665---accuracy: 0.9531999826431274\n",
      "-0.024557885 0.018867778\n",
      "EPOCH: 33 --- loss: 0.15447811782360077---accuracy: 0.954200029373169\n",
      "-0.024174627 0.018440481\n",
      "EPOCH: 34 --- loss: 0.15139301121234894---accuracy: 0.9549000263214111\n",
      "-0.023799267 0.018036274\n",
      "EPOCH: 35 --- loss: 0.14844448864459991---accuracy: 0.9557999968528748\n",
      "-0.023431981 0.017650569\n",
      "EPOCH: 36 --- loss: 0.14562012255191803---accuracy: 0.9563999772071838\n",
      "-0.023072783 0.017269617\n",
      "EPOCH: 37 --- loss: 0.1428995430469513---accuracy: 0.957099974155426\n",
      "-0.022721348 0.016921625\n",
      "EPOCH: 38 --- loss: 0.14030863344669342---accuracy: 0.9575999975204468\n",
      "-0.022378104 0.016567644\n",
      "EPOCH: 39 --- loss: 0.1377963423728943---accuracy: 0.958299994468689\n",
      "-0.02204233 0.016248845\n",
      "EPOCH: 40 --- loss: 0.13540776073932648---accuracy: 0.958899974822998\n",
      "-0.021714607 0.015930599\n",
      "EPOCH: 41 --- loss: 0.1330975890159607---accuracy: 0.9591000080108643\n",
      "-0.0213945 0.015636606\n",
      "EPOCH: 42 --- loss: 0.13088898360729218---accuracy: 0.9595999717712402\n",
      "-0.021082181 0.015355593\n",
      "EPOCH: 43 --- loss: 0.12876489758491516---accuracy: 0.9603000283241272\n",
      "-0.020777537 0.015083511\n",
      "EPOCH: 44 --- loss: 0.12671659886837006---accuracy: 0.9609000086784363\n",
      "-0.020480346 0.014823791\n",
      "EPOCH: 45 --- loss: 0.12474554777145386---accuracy: 0.9614999890327454\n",
      "-0.020190509 0.014560935\n",
      "EPOCH: 46 --- loss: 0.12283127754926682---accuracy: 0.9621000289916992\n",
      "-0.019907558 0.014318037\n",
      "EPOCH: 47 --- loss: 0.12099666893482208---accuracy: 0.9627000093460083\n",
      "-0.019631587 0.014083223\n",
      "EPOCH: 48 --- loss: 0.11922544240951538---accuracy: 0.9629999995231628\n",
      "-0.019362409 0.013856569\n",
      "EPOCH: 49 --- loss: 0.1175152063369751---accuracy: 0.9635999798774719\n",
      "-0.01909985 0.013637621\n",
      "EPOCH: 50 --- loss: 0.11586293578147888---accuracy: 0.9646999835968018\n"
     ]
    }
   ],
   "source": [
    "NUM_EPOCHS = 50\n",
    "LEARNING_RATE = 0.1\n",
    "\n",
    "#  Training Loop\n",
    "for epoch in range(NUM_EPOCHS):\n",
    "    loss, acc = train(model, x_train_sample, y_train_sample, LEARNING_RATE)\n",
    "    LOSS_HISTORY.append(loss)\n",
    "    ACC_HISTORY.append(acc)\n",
    "    display_training_summary(loss, acc, epoch+1)"
   ]
  },
  {
   "cell_type": "markdown",
   "id": "8d42ec91",
   "metadata": {},
   "source": [
    "# Testing"
   ]
  },
  {
   "cell_type": "code",
   "execution_count": 200,
   "id": "e21e7683",
   "metadata": {},
   "outputs": [
    {
     "data": {
      "text/plain": [
       "<matplotlib.image.AxesImage at 0x7f5f4016e350>"
      ]
     },
     "execution_count": 200,
     "metadata": {},
     "output_type": "execute_result"
    },
    {
     "data": {
      "image/png": "[encoded data removed]",
      "text/plain": [
       "<Figure size 640x480 with 1 Axes>"
      ]
     },
     "metadata": {},
     "output_type": "display_data"
    }
   ],
   "source": [
    "index = 50\n",
    "test_image = x_train[:, index]\n",
    "test_image = tf.reshape(test_image, shape=(-1, 1))\n",
    "test_label = y_train[index]\n",
    "y_pred = model(test_image)\n",
    "predicted_label = tf.cast(y_pred >= 0.5, \"int16\")[0][0]\n",
    "\n",
    "plt.title(f\"True label:  {test_label} predicted Lable: {predicted_label}\")\n",
    "img = tf.reshape(test_image, shape=(28, 28)).numpy()\n",
    "plt.imshow(img, cmap=\"gray\")"
   ]
  },
  {
   "cell_type": "code",
   "execution_count": null,
   "id": "fe1c5998",
   "metadata": {},
   "outputs": [],
   "source": []
  }
 ],
 "metadata": {
  "kernelspec": {
   "display_name": "Python 3 (ipykernel)",
   "language": "python",
   "name": "python3"
  },
  "language_info": {
   "codemirror_mode": {
    "name": "ipython",
    "version": 3
   },
   "file_extension": ".py",
   "mimetype": "text/x-python",
   "name": "python",
   "nbconvert_exporter": "python",
   "pygments_lexer": "ipython3",
   "version": "3.10.0"
  }
 },
 "nbformat": 4,
 "nbformat_minor": 5
}
