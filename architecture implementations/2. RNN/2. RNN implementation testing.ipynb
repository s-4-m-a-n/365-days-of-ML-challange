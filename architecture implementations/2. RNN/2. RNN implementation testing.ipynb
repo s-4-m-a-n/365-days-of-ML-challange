{
 "cells": [
  {
   "cell_type": "markdown",
   "id": "5b6261bc-8d04-4605-bd1d-7ac31fe3d93e",
   "metadata": {},
   "source": [
    "# RNN Implementation testing"
   ]
  },
  {
   "cell_type": "code",
   "execution_count": 39,
   "id": "48fd14f9-e623-468b-8449-76828be39de1",
   "metadata": {},
   "outputs": [],
   "source": [
    "import torch\n",
    "import torch.nn as nn\n",
    "import torch.nn.functional as F\n",
    "import torch.optim as optim"
   ]
  },
  {
   "cell_type": "code",
   "execution_count": 2,
   "id": "5fae179a-5dac-4fda-bf44-4975784a2106",
   "metadata": {},
   "outputs": [],
   "source": [
    "class BasicRNNCell(nn.Module):\n",
    "    def __init__(self, input_size, hidden_size):\n",
    "        super(BasicRNNCell, self).__init__()\n",
    "\n",
    "        self.input_size = input_size\n",
    "        self.hidden_size = hidden_size\n",
    "\n",
    "        # weight input -> hidden layer\n",
    "        self.W_ih = nn.Parameter(torch.randn(hidden_size, input_size)) #hidden_size X input_size\n",
    "        self.b_ih = nn.Parameter(torch.zeros(hidden_size)) # hidden_size \n",
    "\n",
    "        self.W_hh = nn.Parameter(torch.randn(hidden_size, hidden_size)) # hidden_size X hidden_size \n",
    "        self.b_hh = nn.Parameter(torch.zeros(hidden_size))\n",
    "\n",
    "    def forward(self, x, h_prev): # X -> (num_batch X input_size), h_prev -> hidden_size\n",
    "        hx = torch.matmul(x, self.W_ih.T) + self.b_ih # dim -> \n",
    "        hh = torch.matmul(h_prev, self.W_hh.T) + self.b_hh\n",
    "        opt_add = hx + hh\n",
    "        h_new = torch.tanh(opt_add)\n",
    "        return h_new"
   ]
  },
  {
   "cell_type": "markdown",
   "id": "1dfe391b-7b5d-43a6-8056-08e2150e3815",
   "metadata": {},
   "source": [
    "# Simple RNN"
   ]
  },
  {
   "cell_type": "code",
   "execution_count": 56,
   "id": "110ac651-40f2-40c7-9c56-02b8f2fe2656",
   "metadata": {},
   "outputs": [],
   "source": [
    "class SimpleRNN(nn.Module):\n",
    "    def __init__(self, input_size, hidden_size, output_size):\n",
    "        super(SimpleRNN, self).__init__()\n",
    "        self.input_size = input_size\n",
    "        self.hidden_size = hidden_size\n",
    "        self.output_size = output_size\n",
    "        \n",
    "        self.rnn_cell = BasicRNNCell(input_size, hidden_size)\n",
    "\n",
    "        # fcc\n",
    "        self.W_o = nn.Parameter(torch.randn(self.hidden_size, self.output_size))\n",
    "        self.b_o = nn.Parameter(torch.zeros(self.output_size))\n",
    "        \n",
    "    \n",
    "    def forward(self, input_seq): #input x -> (batch_size, seq_length, input_length)\n",
    "        outputs = [] #all intermediate outputs\n",
    "\n",
    "        self.batch_size = input_seq.size(0)\n",
    "        self.seq_length = input_seq.size(1)\n",
    "\n",
    "        # initialize hidden state for the first time step\n",
    "        h_prev = torch.zeros(self.batch_size, self.hidden_size).to(input_seq.device)\n",
    "\n",
    "        for t in range(0, self.seq_length):\n",
    "            x = input_seq[:, t, :]\n",
    "            h_prev = self.rnn_cell(x, h_prev)\n",
    "            y = h_prev @ self.W_o + self.b_o #batch X 1\n",
    "            outputs.append(y.unsqueeze(1))\n",
    "\n",
    "        return torch.cat(outputs, axis=1), y"
   ]
  },
  {
   "cell_type": "markdown",
   "id": "15372e74-63f1-4922-9020-9bcf14d599a4",
   "metadata": {},
   "source": [
    "## Train simple RNN to predict next number of the sequence"
   ]
  },
  {
   "cell_type": "markdown",
   "id": "11678c43-4dcb-4d0c-b398-09f7d155c305",
   "metadata": {},
   "source": [
    "We’ll train it on a toy task: predict the next number in a sequence.\n",
    "Example:\n",
    "\n",
    "Input sequence: [0, 1, 2, 3]\n",
    "\n",
    "Target sequence: [1, 2, 3, 4]"
   ]
  },
  {
   "cell_type": "code",
   "execution_count": 196,
   "id": "a79a13e4-b150-4308-98b3-8e3be95e3f1d",
   "metadata": {},
   "outputs": [],
   "source": [
    "seq_len = 5\n",
    "batch_size = 16\n",
    "input_size = 1\n",
    "hidden_size = 16\n",
    "epochs = 2000"
   ]
  },
  {
   "cell_type": "code",
   "execution_count": 197,
   "id": "6d98edcb-dea4-4f0c-84a3-2d9b5c2e15d7",
   "metadata": {},
   "outputs": [],
   "source": [
    "seq = torch.arange(0, seq_len + 1).float().unsqueeze(0).repeat(batch_size, 1)  # (batch, seq_len+1)\n",
    "x = seq[:, :-1].unsqueeze(-1) # input: (batch, seq_len, 1)\n",
    "y = seq[:, 1:].unsqueeze(-1)   # target: (batch, seq_len, 1)"
   ]
  },
  {
   "cell_type": "code",
   "execution_count": 180,
   "id": "e052893d-95c1-4867-97da-41a845e54024",
   "metadata": {},
   "outputs": [],
   "source": [
    "# seq = torch.randint(0, 9, (batch_size, seq_len, 1), dtype=torch.float)\n",
    "# x = seq\n",
    "# y = seq + 1"
   ]
  },
  {
   "cell_type": "code",
   "execution_count": 198,
   "id": "1802a9ec-915e-4fca-9694-5fdeb40fdedd",
   "metadata": {},
   "outputs": [],
   "source": [
    "# Pick random starting numbers for each batch (e.g. 0–99)\n",
    "starts = torch.randint(0, 20, (2, 1, 1), dtype=torch.float)\n",
    "# Create offset sequence [0, 1, 2, ..., seq_len-1]\n",
    "offsets = torch.arange(5, dtype=torch.float).view(1, 5, 1)\n",
    "# Add start + offsets to form sequences\n",
    "x = starts + offsets\n",
    "y = x + 1"
   ]
  },
  {
   "cell_type": "code",
   "execution_count": 199,
   "id": "7c85fe57-e260-46c1-bfbf-a847cc31531d",
   "metadata": {},
   "outputs": [
    {
     "data": {
      "text/plain": [
       "torch.Size([2, 5, 1])"
      ]
     },
     "execution_count": 199,
     "metadata": {},
     "output_type": "execute_result"
    }
   ],
   "source": [
    "x.shape"
   ]
  },
  {
   "cell_type": "code",
   "execution_count": 200,
   "id": "c12e9e6a-b9c0-4d90-a5f5-d64203945acc",
   "metadata": {},
   "outputs": [
    {
     "data": {
      "text/plain": [
       "torch.Size([2, 5, 1])"
      ]
     },
     "execution_count": 200,
     "metadata": {},
     "output_type": "execute_result"
    }
   ],
   "source": [
    "y.shape"
   ]
  },
  {
   "cell_type": "code",
   "execution_count": 201,
   "id": "9220cf35-7bc9-4295-a61e-e92eb2df6764",
   "metadata": {},
   "outputs": [
    {
     "name": "stdout",
     "output_type": "stream",
     "text": [
      " 5.0 -> 6.0\n",
      " 6.0 -> 7.0\n",
      " 7.0 -> 8.0\n",
      " 8.0 -> 9.0\n",
      " 9.0 -> 10.0\n",
      " 9.0 -> 10.0\n",
      " 10.0 -> 11.0\n",
      " 11.0 -> 12.0\n",
      " 12.0 -> 13.0\n",
      " 13.0 -> 14.0\n"
     ]
    }
   ],
   "source": [
    "for i, j in zip(x[:2].flatten(), y[:2].flatten()):\n",
    "    print(f\" {i} -> {j}\")"
   ]
  },
  {
   "cell_type": "code",
   "execution_count": 202,
   "id": "d1cdef20-3631-40bc-a6d6-ecdc34a095ad",
   "metadata": {},
   "outputs": [],
   "source": [
    "model = SimpleRNN(input_size, hidden_size, input_size)\n",
    "loss_fn = nn.MSELoss()\n",
    "optimizer = optim.Adam(model.parameters(), lr=0.01)"
   ]
  },
  {
   "cell_type": "code",
   "execution_count": 203,
   "id": "12b7c7dc-7740-44a9-a94c-60b6b9901324",
   "metadata": {},
   "outputs": [
    {
     "name": "stdout",
     "output_type": "stream",
     "text": [
      "epoch: 0 - loss: 45.25395202636719\n",
      "epoch: 100 - loss: 0.2904473543167114\n",
      "epoch: 200 - loss: 0.04665936529636383\n",
      "epoch: 300 - loss: 0.00824813824146986\n",
      "epoch: 400 - loss: 0.001177439116872847\n",
      "epoch: 500 - loss: 1.976728526642546e-06\n",
      "epoch: 600 - loss: 6.919663175786184e-10\n",
      "epoch: 700 - loss: 2.66845739949062e-10\n",
      "epoch: 800 - loss: 0.005539020989090204\n",
      "epoch: 900 - loss: 7.803711810083769e-07\n",
      "epoch: 1000 - loss: 0.0007560871308669448\n",
      "epoch: 1100 - loss: 0.0002188003418268636\n",
      "epoch: 1200 - loss: 0.00023929824237711728\n",
      "epoch: 1300 - loss: 0.00015861724386923015\n",
      "epoch: 1400 - loss: 0.0002590595977380872\n",
      "epoch: 1500 - loss: 0.0003784483706112951\n",
      "epoch: 1600 - loss: 1.1829299637611257e-06\n",
      "epoch: 1700 - loss: 0.0016277838731184602\n",
      "epoch: 1800 - loss: 2.8676597139565274e-05\n",
      "epoch: 1900 - loss: 0.001076626474969089\n"
     ]
    }
   ],
   "source": [
    "for epoch in range(epochs):\n",
    "    # forward pass\n",
    "    seq_out, _ = model(x)\n",
    "    \n",
    "    # calculate loss\n",
    "    loss = loss_fn(seq_out, y)\n",
    "    \n",
    "    if epoch % 100 == 0:\n",
    "        print(f\"epoch: {epoch} - loss: {loss.item()}\")\n",
    "    \n",
    "    # back propagation\n",
    "    optimizer.zero_grad()\n",
    "    loss.backward()\n",
    "    optimizer.step()\n",
    "    "
   ]
  },
  {
   "cell_type": "code",
   "execution_count": 204,
   "id": "c5b34ad8-6c48-4b65-80a6-a731825ce376",
   "metadata": {},
   "outputs": [
    {
     "data": {
      "text/plain": [
       "torch.Size([1, 5, 1])"
      ]
     },
     "execution_count": 204,
     "metadata": {},
     "output_type": "execute_result"
    }
   ],
   "source": [
    "test_x = torch.tensor([[[0.], [1], [2], [3], [4]]])\n",
    "test_x.shape"
   ]
  },
  {
   "cell_type": "code",
   "execution_count": 205,
   "id": "f022cc45-04b2-4da9-ba54-e57608a00d0d",
   "metadata": {},
   "outputs": [],
   "source": [
    "y_pred, _ = model(test_x)"
   ]
  },
  {
   "cell_type": "code",
   "execution_count": 206,
   "id": "433d387e-f9c6-4166-8c95-007abf09b634",
   "metadata": {},
   "outputs": [
    {
     "data": {
      "text/plain": [
       "(tensor([[[0.],\n",
       "          [1.],\n",
       "          [2.],\n",
       "          [3.],\n",
       "          [4.]]]),\n",
       " tensor([[[-5.4820],\n",
       "          [-3.7936],\n",
       "          [ 2.8525],\n",
       "          [ 0.9211],\n",
       "          [ 4.8890]]], grad_fn=<CatBackward0>))"
      ]
     },
     "execution_count": 206,
     "metadata": {},
     "output_type": "execute_result"
    }
   ],
   "source": [
    "test_x, y_pred"
   ]
  },
  {
   "cell_type": "code",
   "execution_count": null,
   "id": "1a17fa4c-4b66-4452-8c16-d1917f0ab201",
   "metadata": {},
   "outputs": [],
   "source": []
  }
 ],
 "metadata": {
  "kernelspec": {
   "display_name": "Python 3 (ipykernel)",
   "language": "python",
   "name": "python3"
  },
  "language_info": {
   "codemirror_mode": {
    "name": "ipython",
    "version": 3
   },
   "file_extension": ".py",
   "mimetype": "text/x-python",
   "name": "python",
   "nbconvert_exporter": "python",
   "pygments_lexer": "ipython3",
   "version": "3.10.14"
  }
 },
 "nbformat": 4,
 "nbformat_minor": 5
}
