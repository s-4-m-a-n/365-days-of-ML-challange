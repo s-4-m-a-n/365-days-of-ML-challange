{
 "cells": [
  {
   "cell_type": "markdown",
   "id": "5b6261bc-8d04-4605-bd1d-7ac31fe3d93e",
   "metadata": {},
   "source": [
    "# RNN Implementation testing"
   ]
  },
  {
   "cell_type": "code",
   "execution_count": 2,
   "id": "48fd14f9-e623-468b-8449-76828be39de1",
   "metadata": {},
   "outputs": [],
   "source": [
    "import torch\n",
    "import torch.nn as nn\n",
    "import torch.nn.functional as F\n",
    "import torch.optim as optim"
   ]
  },
  {
   "cell_type": "code",
   "execution_count": 3,
   "id": "5fae179a-5dac-4fda-bf44-4975784a2106",
   "metadata": {},
   "outputs": [],
   "source": [
    "class BasicRNNCell(nn.Module):\n",
    "    def __init__(self, input_size, hidden_size):\n",
    "        super(BasicRNNCell, self).__init__()\n",
    "\n",
    "        self.input_size = input_size\n",
    "        self.hidden_size = hidden_size\n",
    "\n",
    "        # weight input -> hidden layer\n",
    "        self.W_ih = nn.Parameter(torch.randn(hidden_size, input_size)) #hidden_size X input_size\n",
    "        self.b_ih = nn.Parameter(torch.zeros(hidden_size)) # hidden_size \n",
    "\n",
    "        self.W_hh = nn.Parameter(torch.randn(hidden_size, hidden_size)) # hidden_size X hidden_size \n",
    "        self.b_hh = nn.Parameter(torch.zeros(hidden_size))\n",
    "\n",
    "    def forward(self, x, h_prev): # X -> (num_batch X input_size), h_prev -> hidden_size\n",
    "        hx = torch.matmul(x, self.W_ih.T) + self.b_ih # dim -> \n",
    "        hh = torch.matmul(h_prev, self.W_hh.T) + self.b_hh\n",
    "        opt_add = hx + hh\n",
    "        h_new = torch.tanh(opt_add)\n",
    "        return h_new"
   ]
  },
  {
   "cell_type": "markdown",
   "id": "1dfe391b-7b5d-43a6-8056-08e2150e3815",
   "metadata": {},
   "source": [
    "# Simple RNN"
   ]
  },
  {
   "cell_type": "code",
   "execution_count": 36,
   "id": "110ac651-40f2-40c7-9c56-02b8f2fe2656",
   "metadata": {},
   "outputs": [],
   "source": [
    "class SimpleRNN(nn.Module):\n",
    "    def __init__(self, input_size, hidden_size, output_size):\n",
    "        super(SimpleRNN, self).__init__()\n",
    "        self.input_size = input_size\n",
    "        self.hidden_size = hidden_size\n",
    "        self.output_size = output_size\n",
    "        \n",
    "        self.rnn_cell = BasicRNNCell(input_size, hidden_size)\n",
    "\n",
    "        # fcc\n",
    "        self.W_o = nn.Parameter(torch.randn(self.hidden_size, self.output_size))\n",
    "        self.b_o = nn.Parameter(torch.zeros(self.output_size))\n",
    "        \n",
    "    \n",
    "    def forward(self, input_seq): #input x -> (batch_size, seq_length, input_length)\n",
    "        outputs = [] #all intermediate outputs\n",
    "\n",
    "        self.batch_size = input_seq.size(0)\n",
    "        self.seq_length = input_seq.size(1)\n",
    "\n",
    "        # initialize hidden state for the first time step\n",
    "        h_prev = torch.zeros(self.batch_size, self.hidden_size).to(input_seq.device)\n",
    "\n",
    "        for t in range(0, self.seq_length):\n",
    "            x = input_seq[:, t, :]\n",
    "            h_prev = self.rnn_cell(x, h_prev)\n",
    "            y = h_prev @ self.W_o + self.b_o #batch X 1\n",
    "            outputs.append(y.unsqueeze(1))\n",
    "\n",
    "        return torch.cat(outputs, axis=1), y"
   ]
  },
  {
   "cell_type": "markdown",
   "id": "15372e74-63f1-4922-9020-9bcf14d599a4",
   "metadata": {},
   "source": [
    "## Train simple RNN to predict next number of the sequence"
   ]
  },
  {
   "cell_type": "markdown",
   "id": "11678c43-4dcb-4d0c-b398-09f7d155c305",
   "metadata": {},
   "source": [
    "We’ll train it on a toy task: predict the next number in a sequence.\n",
    "Example:\n",
    "\n",
    "Input sequence: [0, 1, 2, 3]\n",
    "\n",
    "Target sequence: [1, 2, 3, 4]"
   ]
  },
  {
   "cell_type": "code",
   "execution_count": 37,
   "id": "a79a13e4-b150-4308-98b3-8e3be95e3f1d",
   "metadata": {},
   "outputs": [],
   "source": [
    "seq_len = 5\n",
    "batch_size = 16\n",
    "input_size = 1\n",
    "hidden_size = 16\n",
    "epochs = 2000"
   ]
  },
  {
   "cell_type": "code",
   "execution_count": 38,
   "id": "6d98edcb-dea4-4f0c-84a3-2d9b5c2e15d7",
   "metadata": {},
   "outputs": [],
   "source": [
    "# seq = torch.arange(0, seq_len + 1).float().unsqueeze(0).repeat(batch_size, 1)  # (batch, seq_len+1)\n",
    "# x = seq[:, :-1].unsqueeze(-1) # input: (batch, seq_len, 1)\n",
    "# y = seq[:, 1:].unsqueeze(-1)   # target: (batch, seq_len, 1)\n",
    "# x.shape"
   ]
  },
  {
   "cell_type": "code",
   "execution_count": 39,
   "id": "1fd47572-fac3-44de-981c-fe87244491a1",
   "metadata": {},
   "outputs": [
    {
     "data": {
      "text/plain": [
       "tensor([[[0.],\n",
       "         [1.],\n",
       "         [2.],\n",
       "         [3.],\n",
       "         [4.]]])"
      ]
     },
     "execution_count": 39,
     "metadata": {},
     "output_type": "execute_result"
    }
   ],
   "source": [
    "torch.arange(5, dtype=torch.float).view(1, 5, 1)"
   ]
  },
  {
   "cell_type": "code",
   "execution_count": 40,
   "id": "1802a9ec-915e-4fca-9694-5fdeb40fdedd",
   "metadata": {},
   "outputs": [],
   "source": [
    "# Pick random starting numbers for each batch (e.g. 0–99)\n",
    "starts = torch.randint(0, 10, (batch_size, 1, 1), dtype=torch.float)\n",
    "\n",
    "# Create offset sequence [0, 1, 2, ..., seq_len-1]\n",
    "offsets = torch.arange(5, dtype=torch.float).view(1, 5, 1)\n",
    "# Add start + offsets to form sequences\n",
    "\n",
    "x = starts + offsets\n",
    "y = x + 1"
   ]
  },
  {
   "cell_type": "code",
   "execution_count": 41,
   "id": "7c85fe57-e260-46c1-bfbf-a847cc31531d",
   "metadata": {},
   "outputs": [
    {
     "data": {
      "text/plain": [
       "torch.Size([16, 5, 1])"
      ]
     },
     "execution_count": 41,
     "metadata": {},
     "output_type": "execute_result"
    }
   ],
   "source": [
    "x.shape"
   ]
  },
  {
   "cell_type": "code",
   "execution_count": 42,
   "id": "c12e9e6a-b9c0-4d90-a5f5-d64203945acc",
   "metadata": {},
   "outputs": [
    {
     "data": {
      "text/plain": [
       "torch.Size([16, 5, 1])"
      ]
     },
     "execution_count": 42,
     "metadata": {},
     "output_type": "execute_result"
    }
   ],
   "source": [
    "y.shape"
   ]
  },
  {
   "cell_type": "code",
   "execution_count": 43,
   "id": "012ef060-902a-4edc-b12d-cf2acf64d519",
   "metadata": {},
   "outputs": [
    {
     "name": "stdout",
     "output_type": "stream",
     "text": [
      "tensor([[5.],\n",
      "        [6.],\n",
      "        [7.],\n",
      "        [8.],\n",
      "        [9.]])\n"
     ]
    }
   ],
   "source": [
    "print(x[0])"
   ]
  },
  {
   "cell_type": "code",
   "execution_count": 44,
   "id": "7902fadd-1743-4691-9d58-ca0fd34ef66b",
   "metadata": {},
   "outputs": [
    {
     "name": "stdout",
     "output_type": "stream",
     "text": [
      "tensor([[ 6.],\n",
      "        [ 7.],\n",
      "        [ 8.],\n",
      "        [ 9.],\n",
      "        [10.]])\n"
     ]
    }
   ],
   "source": [
    "print(y[0])"
   ]
  },
  {
   "cell_type": "code",
   "execution_count": 45,
   "id": "9220cf35-7bc9-4295-a61e-e92eb2df6764",
   "metadata": {},
   "outputs": [
    {
     "name": "stdout",
     "output_type": "stream",
     "text": [
      " 5.0 -> 6.0\n",
      " 6.0 -> 7.0\n",
      " 7.0 -> 8.0\n",
      " 8.0 -> 9.0\n",
      " 9.0 -> 10.0\n",
      " 8.0 -> 9.0\n",
      " 9.0 -> 10.0\n",
      " 10.0 -> 11.0\n",
      " 11.0 -> 12.0\n",
      " 12.0 -> 13.0\n"
     ]
    }
   ],
   "source": [
    "for i, j in zip(x[:2].flatten(), y[:2].flatten()):\n",
    "    print(f\" {i} -> {j}\")"
   ]
  },
  {
   "cell_type": "code",
   "execution_count": 46,
   "id": "d1cdef20-3631-40bc-a6d6-ecdc34a095ad",
   "metadata": {},
   "outputs": [],
   "source": [
    "model = SimpleRNN(input_size, hidden_size, input_size)\n",
    "loss_fn = nn.MSELoss()\n",
    "optimizer = optim.Adam(model.parameters(), lr=0.01)"
   ]
  },
  {
   "cell_type": "code",
   "execution_count": 47,
   "id": "12b7c7dc-7740-44a9-a94c-60b6b9901324",
   "metadata": {},
   "outputs": [
    {
     "name": "stdout",
     "output_type": "stream",
     "text": [
      "epoch: 0 - loss: 44.27752685546875\n",
      "epoch: 100 - loss: 0.6626996397972107\n",
      "epoch: 200 - loss: 0.11533312499523163\n",
      "epoch: 300 - loss: 0.04268794506788254\n",
      "epoch: 400 - loss: 0.01995529979467392\n",
      "epoch: 500 - loss: 0.009928187355399132\n",
      "epoch: 600 - loss: 0.005761100444942713\n",
      "epoch: 700 - loss: 0.003685793373733759\n",
      "epoch: 800 - loss: 0.002435525180771947\n",
      "epoch: 900 - loss: 0.0016005728393793106\n",
      "epoch: 1000 - loss: 0.0010358832078054547\n",
      "epoch: 1100 - loss: 0.0006946452776901424\n",
      "epoch: 1200 - loss: 0.0004893009318038821\n",
      "epoch: 1300 - loss: 0.00037968310061842203\n",
      "epoch: 1400 - loss: 0.0003187202091794461\n",
      "epoch: 1500 - loss: 0.0002757919719442725\n",
      "epoch: 1600 - loss: 0.0006003559101372957\n",
      "epoch: 1700 - loss: 0.00022667348093818873\n",
      "epoch: 1800 - loss: 0.0002157936105504632\n",
      "epoch: 1900 - loss: 0.004146499093621969\n"
     ]
    }
   ],
   "source": [
    "for epoch in range(epochs):\n",
    "    # forward pass\n",
    "    seq_out, _ = model(x)\n",
    "    \n",
    "    # calculate loss\n",
    "    loss = loss_fn(seq_out, y)\n",
    "    \n",
    "    if epoch % 100 == 0:\n",
    "        print(f\"epoch: {epoch} - loss: {loss.item()}\")\n",
    "    \n",
    "    # back propagation\n",
    "    optimizer.zero_grad()\n",
    "    loss.backward()\n",
    "    optimizer.step()\n",
    "    "
   ]
  },
  {
   "cell_type": "code",
   "execution_count": 48,
   "id": "c5b34ad8-6c48-4b65-80a6-a731825ce376",
   "metadata": {},
   "outputs": [
    {
     "data": {
      "text/plain": [
       "torch.Size([1, 5, 1])"
      ]
     },
     "execution_count": 48,
     "metadata": {},
     "output_type": "execute_result"
    }
   ],
   "source": [
    "test_x = torch.tensor([[[0.], [1], [2], [3], [4]]])\n",
    "test_x.shape"
   ]
  },
  {
   "cell_type": "code",
   "execution_count": 49,
   "id": "f022cc45-04b2-4da9-ba54-e57608a00d0d",
   "metadata": {},
   "outputs": [],
   "source": [
    "y_pred, _ = model(test_x)"
   ]
  },
  {
   "cell_type": "code",
   "execution_count": 50,
   "id": "433d387e-f9c6-4166-8c95-007abf09b634",
   "metadata": {},
   "outputs": [
    {
     "data": {
      "text/plain": [
       "(tensor([[[0.],\n",
       "          [1.],\n",
       "          [2.],\n",
       "          [3.],\n",
       "          [4.]]]),\n",
       " tensor([[[0.9955],\n",
       "          [2.0001],\n",
       "          [3.0002],\n",
       "          [4.0002],\n",
       "          [5.0001]]], grad_fn=<CatBackward0>))"
      ]
     },
     "execution_count": 50,
     "metadata": {},
     "output_type": "execute_result"
    }
   ],
   "source": [
    "test_x, y_pred"
   ]
  },
  {
   "cell_type": "code",
   "execution_count": null,
   "id": "afd89b2f-eeac-4445-8387-3c1a8a6cba97",
   "metadata": {},
   "outputs": [],
   "source": []
  }
 ],
 "metadata": {
  "kernelspec": {
   "display_name": "Python 3 (ipykernel)",
   "language": "python",
   "name": "python3"
  },
  "language_info": {
   "codemirror_mode": {
    "name": "ipython",
    "version": 3
   },
   "file_extension": ".py",
   "mimetype": "text/x-python",
   "name": "python",
   "nbconvert_exporter": "python",
   "pygments_lexer": "ipython3",
   "version": "3.10.14"
  }
 },
 "nbformat": 4,
 "nbformat_minor": 5
}
