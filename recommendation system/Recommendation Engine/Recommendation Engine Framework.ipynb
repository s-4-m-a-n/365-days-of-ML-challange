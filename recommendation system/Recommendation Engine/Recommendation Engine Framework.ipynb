{
 "cells": [
  {
   "cell_type": "markdown",
   "id": "bef24d76",
   "metadata": {},
   "source": [
    "# Recommendation Engine Framework\n",
    "\n",
    "Here, we are going to create a framework for our recommendation engine that allows easily experiment with new recommendation system algorithms, evaluate them, and compare them aginst eachother.\n",
    "\n",
    "We will be using AlgoBase class of the surprise library for this. https://surprise.readthedocs.io/en/stable/algobase.html#surprise.prediction_algorithms.algo_base.AlgoBase"
   ]
  },
  {
   "cell_type": "markdown",
   "id": "16da1fd4",
   "metadata": {},
   "source": [
    "## Create a custom Algorithm"
   ]
  },
  {
   "cell_type": "code",
   "execution_count": 1,
   "id": "eccd2773",
   "metadata": {},
   "outputs": [],
   "source": [
    "from surprise import AlgoBase"
   ]
  },
  {
   "cell_type": "code",
   "execution_count": 8,
   "id": "1f9bde98",
   "metadata": {},
   "outputs": [],
   "source": [
    "class MyCustomAlgo(AlgoBase):\n",
    "    def __init__(self):\n",
    "        AlgoBase.__init__(self)\n",
    "    \n",
    "    def evaluate(self, user, item):\n",
    "        return 1"
   ]
  },
  {
   "cell_type": "code",
   "execution_count": 10,
   "id": "f95fdc2c",
   "metadata": {},
   "outputs": [
    {
     "data": {
      "text/plain": [
       "1"
      ]
     },
     "execution_count": 10,
     "metadata": {},
     "output_type": "execute_result"
    }
   ],
   "source": [
    "algo = MyCustomAlgo()\n",
    "algo.evaluate(1, 1)"
   ]
  },
  {
   "cell_type": "markdown",
   "id": "27b35d76",
   "metadata": {},
   "source": [
    "## Evaluate Algorithm"
   ]
  },
  {
   "cell_type": "code",
   "execution_count": null,
   "id": "3de180a2",
   "metadata": {},
   "outputs": [],
   "source": [
    "class "
   ]
  }
 ],
 "metadata": {
  "kernelspec": {
   "display_name": "Python 3 (ipykernel)",
   "language": "python",
   "name": "python3"
  },
  "language_info": {
   "codemirror_mode": {
    "name": "ipython",
    "version": 3
   },
   "file_extension": ".py",
   "mimetype": "text/x-python",
   "name": "python",
   "nbconvert_exporter": "python",
   "pygments_lexer": "ipython3",
   "version": "3.10.0"
  }
 },
 "nbformat": 4,
 "nbformat_minor": 5
}
