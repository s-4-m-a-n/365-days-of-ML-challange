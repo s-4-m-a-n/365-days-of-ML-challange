{
 "cells": [
  {
   "cell_type": "markdown",
   "id": "1f87f457",
   "metadata": {},
   "source": [
    "# Hands on Surprise library to build recommendation system\n",
    "\n",
    "- This notebook gives a basic glimps of how we can create recommendation system using surprise library.\n",
    "I will try to elaborate each steps and will include the learning resources to understand the algorithm that we are going to use.\n",
    "\n",
    "- The \"Surprise\" library is a Python library designed for building and analyzing recommender systems. It's specifically focused on collaborative filtering, which is a technique used in recommendation systems to make automatic predictions (filtering) about the interests of a user by collecting preferences from many users (collaborating).\n",
    "\n",
    "- The Surprise library provides a range of algorithms and tools to make it easier to work with recommendation systems. It supports both explicit and implicit feedback data and offers various collaborative filtering algorithms such as Singular Value Decomposition (SVD), K-Nearest Neighbors (KNN), and more. The library also provides tools for evaluating and comparing the performance of different recommendation algorithms."
   ]
  },
  {
   "cell_type": "markdown",
   "id": "01b9f669",
   "metadata": {},
   "source": [
    "# Dataset\n",
    "\n",
    "We will be using movielens dataset.\n",
    "\n",
    "Dataset URL : https://www.kaggle.com/datasets/shubhammehta21/movie-lens-small-latest-dataset"
   ]
  },
  {
   "cell_type": "code",
   "execution_count": 2,
   "id": "f4879744",
   "metadata": {},
   "outputs": [
    {
     "name": "stdout",
     "output_type": "stream",
     "text": [
      "Dataset ml-100k could not be found. Do you want to download it? [Y/n] n\n",
      "Ok then, I'm out!\n"
     ]
    },
    {
     "ename": "SystemExit",
     "evalue": "",
     "output_type": "error",
     "traceback": [
      "An exception has occurred, use %tb to see the full traceback.\n",
      "\u001b[0;31mSystemExit\u001b[0m\n"
     ]
    },
    {
     "name": "stderr",
     "output_type": "stream",
     "text": [
      "/home/suman/anaconda3/envs/365ml/lib/python3.10/site-packages/IPython/core/interactiveshell.py:3516: UserWarning: To exit: use 'exit', 'quit', or Ctrl-D.\n",
      "  warn(\"To exit: use 'exit', 'quit', or Ctrl-D.\", stacklevel=1)\n"
     ]
    }
   ],
   "source": [
    "# we can directly import dataset from surprise library\n",
    "from surprise import Dataset\n",
    "\n",
    "dataset = Dataset.load_builtin('ml-100k')\n",
    "dataset"
   ]
  },
  {
   "cell_type": "markdown",
   "id": "c3020843",
   "metadata": {},
   "source": [
    "But for now we will be downloading it from kaggle and will do some EDA."
   ]
  },
  {
   "cell_type": "markdown",
   "id": "cff9056d",
   "metadata": {},
   "source": [
    "## EDA"
   ]
  },
  {
   "cell_type": "code",
   "execution_count": 231,
   "id": "3f70753a",
   "metadata": {},
   "outputs": [],
   "source": [
    "import pandas as pd\n",
    "import os"
   ]
  },
  {
   "cell_type": "code",
   "execution_count": 232,
   "id": "8b3e22e8",
   "metadata": {},
   "outputs": [
    {
     "name": "stdout",
     "output_type": "stream",
     "text": [
      "links.csv  movies.csv  ratings.csv  README.txt\ttags.csv\r\n"
     ]
    }
   ],
   "source": [
    "# checking path\n",
    "!ls ../dataset/movieLens-sm"
   ]
  },
  {
   "cell_type": "markdown",
   "id": "f60769ef",
   "metadata": {},
   "source": [
    "So we have 4 separate csv files, namely links, movies, ratings, and tags. Let's check out each files."
   ]
  },
  {
   "cell_type": "code",
   "execution_count": 233,
   "id": "2720c3a9",
   "metadata": {},
   "outputs": [],
   "source": [
    "BASE_PATH = \"../dataset/movieLens-sm/\"\n",
    "RATING_PATH = os.path.join(BASE_PATH, \"ratings.csv\")\n",
    "MOVIE_PATH = os.path.join(BASE_PATH, \"movies.csv\")\n",
    "LINKS_PATH = os.path.join(BASE_PATH, \"links.csv\")\n",
    "TAGS_PATH = os.path.join(BASE_PATH, \"tags.csv\")"
   ]
  },
  {
   "cell_type": "code",
   "execution_count": 234,
   "id": "24b0dd0a",
   "metadata": {},
   "outputs": [
    {
     "data": {
      "text/html": [
       "<div>\n",
       "<style scoped>\n",
       "    .dataframe tbody tr th:only-of-type {\n",
       "        vertical-align: middle;\n",
       "    }\n",
       "\n",
       "    .dataframe tbody tr th {\n",
       "        vertical-align: top;\n",
       "    }\n",
       "\n",
       "    .dataframe thead th {\n",
       "        text-align: right;\n",
       "    }\n",
       "</style>\n",
       "<table border=\"1\" class=\"dataframe\">\n",
       "  <thead>\n",
       "    <tr style=\"text-align: right;\">\n",
       "      <th></th>\n",
       "      <th>movieId</th>\n",
       "      <th>imdbId</th>\n",
       "      <th>tmdbId</th>\n",
       "    </tr>\n",
       "  </thead>\n",
       "  <tbody>\n",
       "    <tr>\n",
       "      <th>0</th>\n",
       "      <td>1</td>\n",
       "      <td>114709</td>\n",
       "      <td>862.0</td>\n",
       "    </tr>\n",
       "    <tr>\n",
       "      <th>1</th>\n",
       "      <td>2</td>\n",
       "      <td>113497</td>\n",
       "      <td>8844.0</td>\n",
       "    </tr>\n",
       "    <tr>\n",
       "      <th>2</th>\n",
       "      <td>3</td>\n",
       "      <td>113228</td>\n",
       "      <td>15602.0</td>\n",
       "    </tr>\n",
       "    <tr>\n",
       "      <th>3</th>\n",
       "      <td>4</td>\n",
       "      <td>114885</td>\n",
       "      <td>31357.0</td>\n",
       "    </tr>\n",
       "    <tr>\n",
       "      <th>4</th>\n",
       "      <td>5</td>\n",
       "      <td>113041</td>\n",
       "      <td>11862.0</td>\n",
       "    </tr>\n",
       "  </tbody>\n",
       "</table>\n",
       "</div>"
      ],
      "text/plain": [
       "   movieId  imdbId   tmdbId\n",
       "0        1  114709    862.0\n",
       "1        2  113497   8844.0\n",
       "2        3  113228  15602.0\n",
       "3        4  114885  31357.0\n",
       "4        5  113041  11862.0"
      ]
     },
     "execution_count": 234,
     "metadata": {},
     "output_type": "execute_result"
    }
   ],
   "source": [
    "# read links.csv\n",
    "links_df = pd.read_csv(LINKS_PATH)\n",
    "links_df.head()"
   ]
  },
  {
   "cell_type": "markdown",
   "id": "08a53c23",
   "metadata": {},
   "source": [
    "As you can see, links.csv file contains corresponding movie_id in IMDB and TMDB.\n",
    "\n",
    "- movieId is an identifier for movies used by <https://movielens.org>. E.g., the movie Toy Story has the link <https://movielens.org/movies/1>.\n",
    "\n",
    "- imdbId is an identifier for movies used by <http://www.imdb.com>. E.g., the movie Toy Story has the link <http://www.imdb.com/title/tt0114709/>.\n",
    "\n",
    "- tmdbId is an identifier for movies used by <https://www.themoviedb.org>. E.g., the movie Toy Story has the link <https://www.themoviedb.org/movie/862>.\n"
   ]
  },
  {
   "cell_type": "code",
   "execution_count": 235,
   "id": "48f1466d",
   "metadata": {},
   "outputs": [
    {
     "data": {
      "text/html": [
       "<div>\n",
       "<style scoped>\n",
       "    .dataframe tbody tr th:only-of-type {\n",
       "        vertical-align: middle;\n",
       "    }\n",
       "\n",
       "    .dataframe tbody tr th {\n",
       "        vertical-align: top;\n",
       "    }\n",
       "\n",
       "    .dataframe thead th {\n",
       "        text-align: right;\n",
       "    }\n",
       "</style>\n",
       "<table border=\"1\" class=\"dataframe\">\n",
       "  <thead>\n",
       "    <tr style=\"text-align: right;\">\n",
       "      <th></th>\n",
       "      <th>userId</th>\n",
       "      <th>movieId</th>\n",
       "      <th>tag</th>\n",
       "      <th>timestamp</th>\n",
       "    </tr>\n",
       "  </thead>\n",
       "  <tbody>\n",
       "    <tr>\n",
       "      <th>0</th>\n",
       "      <td>2</td>\n",
       "      <td>60756</td>\n",
       "      <td>funny</td>\n",
       "      <td>1445714994</td>\n",
       "    </tr>\n",
       "    <tr>\n",
       "      <th>1</th>\n",
       "      <td>2</td>\n",
       "      <td>60756</td>\n",
       "      <td>Highly quotable</td>\n",
       "      <td>1445714996</td>\n",
       "    </tr>\n",
       "    <tr>\n",
       "      <th>2</th>\n",
       "      <td>2</td>\n",
       "      <td>60756</td>\n",
       "      <td>will ferrell</td>\n",
       "      <td>1445714992</td>\n",
       "    </tr>\n",
       "    <tr>\n",
       "      <th>3</th>\n",
       "      <td>2</td>\n",
       "      <td>89774</td>\n",
       "      <td>Boxing story</td>\n",
       "      <td>1445715207</td>\n",
       "    </tr>\n",
       "    <tr>\n",
       "      <th>4</th>\n",
       "      <td>2</td>\n",
       "      <td>89774</td>\n",
       "      <td>MMA</td>\n",
       "      <td>1445715200</td>\n",
       "    </tr>\n",
       "  </tbody>\n",
       "</table>\n",
       "</div>"
      ],
      "text/plain": [
       "   userId  movieId              tag   timestamp\n",
       "0       2    60756            funny  1445714994\n",
       "1       2    60756  Highly quotable  1445714996\n",
       "2       2    60756     will ferrell  1445714992\n",
       "3       2    89774     Boxing story  1445715207\n",
       "4       2    89774              MMA  1445715200"
      ]
     },
     "execution_count": 235,
     "metadata": {},
     "output_type": "execute_result"
    }
   ],
   "source": [
    "# read tags.csv\n",
    "tags_df = pd.read_csv(TAGS_PATH)\n",
    "tags_df.head()"
   ]
  },
  {
   "cell_type": "code",
   "execution_count": null,
   "id": "bc09ed68",
   "metadata": {},
   "outputs": [],
   "source": []
  },
  {
   "cell_type": "markdown",
   "id": "f0ae08be",
   "metadata": {},
   "source": [
    "- Tags are user-generated metadata about movies. Each tag is typically a single word or short phrase. The meaning, value, and purpose of a particular tag is determined by each user.\n",
    "\n",
    "- Timestamps represent seconds since midnight Coordinated Universal Time (UTC) of January 1, 1970."
   ]
  },
  {
   "cell_type": "code",
   "execution_count": 236,
   "id": "41da242f",
   "metadata": {},
   "outputs": [
    {
     "data": {
      "text/html": [
       "<div>\n",
       "<style scoped>\n",
       "    .dataframe tbody tr th:only-of-type {\n",
       "        vertical-align: middle;\n",
       "    }\n",
       "\n",
       "    .dataframe tbody tr th {\n",
       "        vertical-align: top;\n",
       "    }\n",
       "\n",
       "    .dataframe thead th {\n",
       "        text-align: right;\n",
       "    }\n",
       "</style>\n",
       "<table border=\"1\" class=\"dataframe\">\n",
       "  <thead>\n",
       "    <tr style=\"text-align: right;\">\n",
       "      <th></th>\n",
       "      <th>userId</th>\n",
       "      <th>movieId</th>\n",
       "      <th>rating</th>\n",
       "      <th>timestamp</th>\n",
       "    </tr>\n",
       "  </thead>\n",
       "  <tbody>\n",
       "    <tr>\n",
       "      <th>0</th>\n",
       "      <td>1</td>\n",
       "      <td>1</td>\n",
       "      <td>4.0</td>\n",
       "      <td>964982703</td>\n",
       "    </tr>\n",
       "    <tr>\n",
       "      <th>1</th>\n",
       "      <td>1</td>\n",
       "      <td>3</td>\n",
       "      <td>4.0</td>\n",
       "      <td>964981247</td>\n",
       "    </tr>\n",
       "    <tr>\n",
       "      <th>2</th>\n",
       "      <td>1</td>\n",
       "      <td>6</td>\n",
       "      <td>4.0</td>\n",
       "      <td>964982224</td>\n",
       "    </tr>\n",
       "    <tr>\n",
       "      <th>3</th>\n",
       "      <td>1</td>\n",
       "      <td>47</td>\n",
       "      <td>5.0</td>\n",
       "      <td>964983815</td>\n",
       "    </tr>\n",
       "    <tr>\n",
       "      <th>4</th>\n",
       "      <td>1</td>\n",
       "      <td>50</td>\n",
       "      <td>5.0</td>\n",
       "      <td>964982931</td>\n",
       "    </tr>\n",
       "  </tbody>\n",
       "</table>\n",
       "</div>"
      ],
      "text/plain": [
       "   userId  movieId  rating  timestamp\n",
       "0       1        1     4.0  964982703\n",
       "1       1        3     4.0  964981247\n",
       "2       1        6     4.0  964982224\n",
       "3       1       47     5.0  964983815\n",
       "4       1       50     5.0  964982931"
      ]
     },
     "execution_count": 236,
     "metadata": {},
     "output_type": "execute_result"
    }
   ],
   "source": [
    "# reading ratings.csv\n",
    "ratings_df = pd.read_csv(RATING_PATH)\n",
    "ratings_df.head()"
   ]
  },
  {
   "cell_type": "code",
   "execution_count": 237,
   "id": "d7ee2962",
   "metadata": {},
   "outputs": [
    {
     "data": {
      "text/html": [
       "<div>\n",
       "<style scoped>\n",
       "    .dataframe tbody tr th:only-of-type {\n",
       "        vertical-align: middle;\n",
       "    }\n",
       "\n",
       "    .dataframe tbody tr th {\n",
       "        vertical-align: top;\n",
       "    }\n",
       "\n",
       "    .dataframe thead th {\n",
       "        text-align: right;\n",
       "    }\n",
       "</style>\n",
       "<table border=\"1\" class=\"dataframe\">\n",
       "  <thead>\n",
       "    <tr style=\"text-align: right;\">\n",
       "      <th></th>\n",
       "      <th>userId</th>\n",
       "      <th>movieId</th>\n",
       "      <th>rating</th>\n",
       "      <th>timestamp</th>\n",
       "    </tr>\n",
       "  </thead>\n",
       "  <tbody>\n",
       "    <tr>\n",
       "      <th>282</th>\n",
       "      <td>3</td>\n",
       "      <td>2851</td>\n",
       "      <td>5.0</td>\n",
       "      <td>1306463925</td>\n",
       "    </tr>\n",
       "    <tr>\n",
       "      <th>31391</th>\n",
       "      <td>217</td>\n",
       "      <td>2851</td>\n",
       "      <td>3.0</td>\n",
       "      <td>955942393</td>\n",
       "    </tr>\n",
       "    <tr>\n",
       "      <th>42665</th>\n",
       "      <td>288</td>\n",
       "      <td>2851</td>\n",
       "      <td>2.0</td>\n",
       "      <td>1020369199</td>\n",
       "    </tr>\n",
       "    <tr>\n",
       "      <th>72810</th>\n",
       "      <td>469</td>\n",
       "      <td>2851</td>\n",
       "      <td>3.0</td>\n",
       "      <td>965335989</td>\n",
       "    </tr>\n",
       "  </tbody>\n",
       "</table>\n",
       "</div>"
      ],
      "text/plain": [
       "       userId  movieId  rating   timestamp\n",
       "282         3     2851     5.0  1306463925\n",
       "31391     217     2851     3.0   955942393\n",
       "42665     288     2851     2.0  1020369199\n",
       "72810     469     2851     3.0   965335989"
      ]
     },
     "execution_count": 237,
     "metadata": {},
     "output_type": "execute_result"
    }
   ],
   "source": [
    "ratings_df[ratings_df[\"movieId\"]==2851]"
   ]
  },
  {
   "cell_type": "markdown",
   "id": "8bc794bb",
   "metadata": {},
   "source": [
    "- Ratings are made on a 5-star scale, with half-star increments (0.5 stars - 5.0 stars). Timestamps represent seconds since midnight Coordinated Universal Time (UTC) of January 1, 1970.\n",
    "\n",
    "**Note: This is the data we are going to use to build collaborative recommendation system. This gives information about users preference for each movies.**"
   ]
  },
  {
   "cell_type": "code",
   "execution_count": 238,
   "id": "d50f6ea3",
   "metadata": {},
   "outputs": [
    {
     "data": {
      "text/html": [
       "<div>\n",
       "<style scoped>\n",
       "    .dataframe tbody tr th:only-of-type {\n",
       "        vertical-align: middle;\n",
       "    }\n",
       "\n",
       "    .dataframe tbody tr th {\n",
       "        vertical-align: top;\n",
       "    }\n",
       "\n",
       "    .dataframe thead th {\n",
       "        text-align: right;\n",
       "    }\n",
       "</style>\n",
       "<table border=\"1\" class=\"dataframe\">\n",
       "  <thead>\n",
       "    <tr style=\"text-align: right;\">\n",
       "      <th></th>\n",
       "      <th>movieId</th>\n",
       "      <th>title</th>\n",
       "      <th>genres</th>\n",
       "    </tr>\n",
       "  </thead>\n",
       "  <tbody>\n",
       "    <tr>\n",
       "      <th>0</th>\n",
       "      <td>1</td>\n",
       "      <td>Toy Story (1995)</td>\n",
       "      <td>Adventure|Animation|Children|Comedy|Fantasy</td>\n",
       "    </tr>\n",
       "    <tr>\n",
       "      <th>1</th>\n",
       "      <td>2</td>\n",
       "      <td>Jumanji (1995)</td>\n",
       "      <td>Adventure|Children|Fantasy</td>\n",
       "    </tr>\n",
       "    <tr>\n",
       "      <th>2</th>\n",
       "      <td>3</td>\n",
       "      <td>Grumpier Old Men (1995)</td>\n",
       "      <td>Comedy|Romance</td>\n",
       "    </tr>\n",
       "    <tr>\n",
       "      <th>3</th>\n",
       "      <td>4</td>\n",
       "      <td>Waiting to Exhale (1995)</td>\n",
       "      <td>Comedy|Drama|Romance</td>\n",
       "    </tr>\n",
       "    <tr>\n",
       "      <th>4</th>\n",
       "      <td>5</td>\n",
       "      <td>Father of the Bride Part II (1995)</td>\n",
       "      <td>Comedy</td>\n",
       "    </tr>\n",
       "  </tbody>\n",
       "</table>\n",
       "</div>"
      ],
      "text/plain": [
       "   movieId                               title  \\\n",
       "0        1                    Toy Story (1995)   \n",
       "1        2                      Jumanji (1995)   \n",
       "2        3             Grumpier Old Men (1995)   \n",
       "3        4            Waiting to Exhale (1995)   \n",
       "4        5  Father of the Bride Part II (1995)   \n",
       "\n",
       "                                        genres  \n",
       "0  Adventure|Animation|Children|Comedy|Fantasy  \n",
       "1                   Adventure|Children|Fantasy  \n",
       "2                               Comedy|Romance  \n",
       "3                         Comedy|Drama|Romance  \n",
       "4                                       Comedy  "
      ]
     },
     "execution_count": 238,
     "metadata": {},
     "output_type": "execute_result"
    }
   ],
   "source": [
    "# reading movies.cvs\n",
    "movies_df = pd.read_csv(MOVIE_PATH)\n",
    "movies_df.head()"
   ]
  },
  {
   "cell_type": "code",
   "execution_count": 239,
   "id": "43874962",
   "metadata": {},
   "outputs": [
    {
     "data": {
      "text/html": [
       "<div>\n",
       "<style scoped>\n",
       "    .dataframe tbody tr th:only-of-type {\n",
       "        vertical-align: middle;\n",
       "    }\n",
       "\n",
       "    .dataframe tbody tr th {\n",
       "        vertical-align: top;\n",
       "    }\n",
       "\n",
       "    .dataframe thead th {\n",
       "        text-align: right;\n",
       "    }\n",
       "</style>\n",
       "<table border=\"1\" class=\"dataframe\">\n",
       "  <thead>\n",
       "    <tr style=\"text-align: right;\">\n",
       "      <th></th>\n",
       "      <th>movieId</th>\n",
       "      <th>title</th>\n",
       "      <th>genres</th>\n",
       "    </tr>\n",
       "  </thead>\n",
       "  <tbody>\n",
       "    <tr>\n",
       "      <th>9737</th>\n",
       "      <td>193581</td>\n",
       "      <td>Black Butler: Book of the Atlantic (2017)</td>\n",
       "      <td>Action|Animation|Comedy|Fantasy</td>\n",
       "    </tr>\n",
       "    <tr>\n",
       "      <th>9738</th>\n",
       "      <td>193583</td>\n",
       "      <td>No Game No Life: Zero (2017)</td>\n",
       "      <td>Animation|Comedy|Fantasy</td>\n",
       "    </tr>\n",
       "    <tr>\n",
       "      <th>9739</th>\n",
       "      <td>193585</td>\n",
       "      <td>Flint (2017)</td>\n",
       "      <td>Drama</td>\n",
       "    </tr>\n",
       "    <tr>\n",
       "      <th>9740</th>\n",
       "      <td>193587</td>\n",
       "      <td>Bungo Stray Dogs: Dead Apple (2018)</td>\n",
       "      <td>Action|Animation</td>\n",
       "    </tr>\n",
       "    <tr>\n",
       "      <th>9741</th>\n",
       "      <td>193609</td>\n",
       "      <td>Andrew Dice Clay: Dice Rules (1991)</td>\n",
       "      <td>Comedy</td>\n",
       "    </tr>\n",
       "  </tbody>\n",
       "</table>\n",
       "</div>"
      ],
      "text/plain": [
       "      movieId                                      title  \\\n",
       "9737   193581  Black Butler: Book of the Atlantic (2017)   \n",
       "9738   193583               No Game No Life: Zero (2017)   \n",
       "9739   193585                               Flint (2017)   \n",
       "9740   193587        Bungo Stray Dogs: Dead Apple (2018)   \n",
       "9741   193609        Andrew Dice Clay: Dice Rules (1991)   \n",
       "\n",
       "                               genres  \n",
       "9737  Action|Animation|Comedy|Fantasy  \n",
       "9738         Animation|Comedy|Fantasy  \n",
       "9739                            Drama  \n",
       "9740                 Action|Animation  \n",
       "9741                           Comedy  "
      ]
     },
     "execution_count": 239,
     "metadata": {},
     "output_type": "execute_result"
    }
   ],
   "source": [
    "movies_df.tail()"
   ]
  },
  {
   "cell_type": "code",
   "execution_count": 240,
   "id": "f6dcb556",
   "metadata": {},
   "outputs": [
    {
     "data": {
      "text/html": [
       "<div>\n",
       "<style scoped>\n",
       "    .dataframe tbody tr th:only-of-type {\n",
       "        vertical-align: middle;\n",
       "    }\n",
       "\n",
       "    .dataframe tbody tr th {\n",
       "        vertical-align: top;\n",
       "    }\n",
       "\n",
       "    .dataframe thead th {\n",
       "        text-align: right;\n",
       "    }\n",
       "</style>\n",
       "<table border=\"1\" class=\"dataframe\">\n",
       "  <thead>\n",
       "    <tr style=\"text-align: right;\">\n",
       "      <th></th>\n",
       "      <th>movieId</th>\n",
       "      <th>title</th>\n",
       "      <th>genres</th>\n",
       "    </tr>\n",
       "  </thead>\n",
       "  <tbody>\n",
       "    <tr>\n",
       "      <th>2141</th>\n",
       "      <td>2851</td>\n",
       "      <td>Saturn 3 (1980)</td>\n",
       "      <td>Adventure|Sci-Fi|Thriller</td>\n",
       "    </tr>\n",
       "  </tbody>\n",
       "</table>\n",
       "</div>"
      ],
      "text/plain": [
       "      movieId            title                     genres\n",
       "2141     2851  Saturn 3 (1980)  Adventure|Sci-Fi|Thriller"
      ]
     },
     "execution_count": 240,
     "metadata": {},
     "output_type": "execute_result"
    }
   ],
   "source": [
    "movies_df[movies_df[\"movieId\"]==2851]"
   ]
  },
  {
   "cell_type": "code",
   "execution_count": 241,
   "id": "d30c0562",
   "metadata": {},
   "outputs": [
    {
     "data": {
      "text/plain": [
       "movieId                         2851\n",
       "title                Saturn 3 (1980)\n",
       "genres     Adventure|Sci-Fi|Thriller\n",
       "Name: 2141, dtype: object"
      ]
     },
     "execution_count": 241,
     "metadata": {},
     "output_type": "execute_result"
    }
   ],
   "source": [
    "movies_df.loc[2141]"
   ]
  },
  {
   "cell_type": "markdown",
   "id": "fdd88d1e",
   "metadata": {},
   "source": [
    "- This file contains the information about movies title and genres of movie associated with the given movieId.\n",
    "- Movie titles are entered manually or imported from <https://www.themoviedb.org/>, and include the year of release in parentheses. Errors and inconsistencies may exist in these titles."
   ]
  },
  {
   "cell_type": "code",
   "execution_count": 242,
   "id": "32f48b83",
   "metadata": {},
   "outputs": [
    {
     "name": "stdout",
     "output_type": "stream",
     "text": [
      "Total movies :  9742\n",
      "Total ratings:  100836\n",
      "Total users:  610\n"
     ]
    }
   ],
   "source": [
    "print(\"Total movies : \", len(movies_df))\n",
    "print(\"Total ratings: \", len(ratings_df))\n",
    "print(\"Total users: \", len(ratings_df[\"userId\"].unique()))"
   ]
  },
  {
   "cell_type": "markdown",
   "id": "69a81729",
   "metadata": {},
   "source": [
    "So we have 9742 total movies in the corpus and there are in total 100K ratings given by 610 users."
   ]
  },
  {
   "cell_type": "code",
   "execution_count": 243,
   "id": "43c93e4d",
   "metadata": {},
   "outputs": [],
   "source": [
    "# let's delete tags and links dataframe to free up some memory space\n",
    "# since we don't need it for training recommendation\n",
    "del tags_df\n",
    "del links_df"
   ]
  },
  {
   "cell_type": "markdown",
   "id": "378620ad",
   "metadata": {},
   "source": [
    "# Data preprocessing\n",
    "\n",
    "Surprise library creates internal IDS,\n",
    "   - **Internal IDs:** These are the numeric IDs assigned by Surprise to users and items after the data is loaded into a Dataset object. These internal IDs are used internally by Surprise to index and manipulate the data. When you use these internal IDs, you typically work with Surprise-specific objects like Trainset and algorithms.\n",
    "\n",
    "  - **Raw IDs:** These are the original IDs from your dataset, which could be strings, integers, or any other data type used to identify users and items in your actual data source.\n",
    "  \n",
    "To distinguish between the intern IDs and raw IDs, let's make some modification in our dataset."
   ]
  },
  {
   "cell_type": "code",
   "execution_count": 244,
   "id": "c0602db3",
   "metadata": {},
   "outputs": [],
   "source": [
    "# let's change moviesId from '<int>' to 'm_<int>' and similary userId from '<int>' to 'u_<int>'\n",
    "movies_df['movieId'] = movies_df['movieId'].apply(lambda x: 'm_' + str(x))\n",
    "ratings_df['movieId'] = ratings_df['movieId'].apply(lambda x: 'm_' + str(x))\n",
    "ratings_df['userId'] = ratings_df['userId'].apply(lambda x: 'u_' + str(x))"
   ]
  },
  {
   "cell_type": "code",
   "execution_count": 245,
   "id": "4e6b5a59",
   "metadata": {},
   "outputs": [
    {
     "data": {
      "text/html": [
       "<div>\n",
       "<style scoped>\n",
       "    .dataframe tbody tr th:only-of-type {\n",
       "        vertical-align: middle;\n",
       "    }\n",
       "\n",
       "    .dataframe tbody tr th {\n",
       "        vertical-align: top;\n",
       "    }\n",
       "\n",
       "    .dataframe thead th {\n",
       "        text-align: right;\n",
       "    }\n",
       "</style>\n",
       "<table border=\"1\" class=\"dataframe\">\n",
       "  <thead>\n",
       "    <tr style=\"text-align: right;\">\n",
       "      <th></th>\n",
       "      <th>movieId</th>\n",
       "      <th>title</th>\n",
       "      <th>genres</th>\n",
       "    </tr>\n",
       "  </thead>\n",
       "  <tbody>\n",
       "    <tr>\n",
       "      <th>0</th>\n",
       "      <td>m_1</td>\n",
       "      <td>Toy Story (1995)</td>\n",
       "      <td>Adventure|Animation|Children|Comedy|Fantasy</td>\n",
       "    </tr>\n",
       "    <tr>\n",
       "      <th>1</th>\n",
       "      <td>m_2</td>\n",
       "      <td>Jumanji (1995)</td>\n",
       "      <td>Adventure|Children|Fantasy</td>\n",
       "    </tr>\n",
       "    <tr>\n",
       "      <th>2</th>\n",
       "      <td>m_3</td>\n",
       "      <td>Grumpier Old Men (1995)</td>\n",
       "      <td>Comedy|Romance</td>\n",
       "    </tr>\n",
       "    <tr>\n",
       "      <th>3</th>\n",
       "      <td>m_4</td>\n",
       "      <td>Waiting to Exhale (1995)</td>\n",
       "      <td>Comedy|Drama|Romance</td>\n",
       "    </tr>\n",
       "    <tr>\n",
       "      <th>4</th>\n",
       "      <td>m_5</td>\n",
       "      <td>Father of the Bride Part II (1995)</td>\n",
       "      <td>Comedy</td>\n",
       "    </tr>\n",
       "  </tbody>\n",
       "</table>\n",
       "</div>"
      ],
      "text/plain": [
       "  movieId                               title  \\\n",
       "0     m_1                    Toy Story (1995)   \n",
       "1     m_2                      Jumanji (1995)   \n",
       "2     m_3             Grumpier Old Men (1995)   \n",
       "3     m_4            Waiting to Exhale (1995)   \n",
       "4     m_5  Father of the Bride Part II (1995)   \n",
       "\n",
       "                                        genres  \n",
       "0  Adventure|Animation|Children|Comedy|Fantasy  \n",
       "1                   Adventure|Children|Fantasy  \n",
       "2                               Comedy|Romance  \n",
       "3                         Comedy|Drama|Romance  \n",
       "4                                       Comedy  "
      ]
     },
     "execution_count": 245,
     "metadata": {},
     "output_type": "execute_result"
    }
   ],
   "source": [
    "movies_df.head()"
   ]
  },
  {
   "cell_type": "code",
   "execution_count": 266,
   "id": "23b851b1",
   "metadata": {},
   "outputs": [
    {
     "data": {
      "text/html": [
       "<div>\n",
       "<style scoped>\n",
       "    .dataframe tbody tr th:only-of-type {\n",
       "        vertical-align: middle;\n",
       "    }\n",
       "\n",
       "    .dataframe tbody tr th {\n",
       "        vertical-align: top;\n",
       "    }\n",
       "\n",
       "    .dataframe thead th {\n",
       "        text-align: right;\n",
       "    }\n",
       "</style>\n",
       "<table border=\"1\" class=\"dataframe\">\n",
       "  <thead>\n",
       "    <tr style=\"text-align: right;\">\n",
       "      <th></th>\n",
       "      <th>movieId</th>\n",
       "      <th>title</th>\n",
       "      <th>genres</th>\n",
       "    </tr>\n",
       "  </thead>\n",
       "  <tbody>\n",
       "    <tr>\n",
       "      <th>2141</th>\n",
       "      <td>m_2851</td>\n",
       "      <td>Saturn 3 (1980)</td>\n",
       "      <td>Adventure|Sci-Fi|Thriller</td>\n",
       "    </tr>\n",
       "    <tr>\n",
       "      <th>9468</th>\n",
       "      <td>m_168358</td>\n",
       "      <td>Saturn 3 (1980)</td>\n",
       "      <td>Sci-Fi|Thriller</td>\n",
       "    </tr>\n",
       "  </tbody>\n",
       "</table>\n",
       "</div>"
      ],
      "text/plain": [
       "       movieId            title                     genres\n",
       "2141    m_2851  Saturn 3 (1980)  Adventure|Sci-Fi|Thriller\n",
       "9468  m_168358  Saturn 3 (1980)            Sci-Fi|Thriller"
      ]
     },
     "execution_count": 266,
     "metadata": {},
     "output_type": "execute_result"
    }
   ],
   "source": [
    "movies_df[movies_df[\"title\"] == \"Saturn 3 (1980)\"]"
   ]
  },
  {
   "cell_type": "code",
   "execution_count": 246,
   "id": "5451d650",
   "metadata": {},
   "outputs": [
    {
     "data": {
      "text/html": [
       "<div>\n",
       "<style scoped>\n",
       "    .dataframe tbody tr th:only-of-type {\n",
       "        vertical-align: middle;\n",
       "    }\n",
       "\n",
       "    .dataframe tbody tr th {\n",
       "        vertical-align: top;\n",
       "    }\n",
       "\n",
       "    .dataframe thead th {\n",
       "        text-align: right;\n",
       "    }\n",
       "</style>\n",
       "<table border=\"1\" class=\"dataframe\">\n",
       "  <thead>\n",
       "    <tr style=\"text-align: right;\">\n",
       "      <th></th>\n",
       "      <th>userId</th>\n",
       "      <th>movieId</th>\n",
       "      <th>rating</th>\n",
       "      <th>timestamp</th>\n",
       "    </tr>\n",
       "  </thead>\n",
       "  <tbody>\n",
       "    <tr>\n",
       "      <th>100831</th>\n",
       "      <td>u_610</td>\n",
       "      <td>m_166534</td>\n",
       "      <td>4.0</td>\n",
       "      <td>1493848402</td>\n",
       "    </tr>\n",
       "    <tr>\n",
       "      <th>100832</th>\n",
       "      <td>u_610</td>\n",
       "      <td>m_168248</td>\n",
       "      <td>5.0</td>\n",
       "      <td>1493850091</td>\n",
       "    </tr>\n",
       "    <tr>\n",
       "      <th>100833</th>\n",
       "      <td>u_610</td>\n",
       "      <td>m_168250</td>\n",
       "      <td>5.0</td>\n",
       "      <td>1494273047</td>\n",
       "    </tr>\n",
       "    <tr>\n",
       "      <th>100834</th>\n",
       "      <td>u_610</td>\n",
       "      <td>m_168252</td>\n",
       "      <td>5.0</td>\n",
       "      <td>1493846352</td>\n",
       "    </tr>\n",
       "    <tr>\n",
       "      <th>100835</th>\n",
       "      <td>u_610</td>\n",
       "      <td>m_170875</td>\n",
       "      <td>3.0</td>\n",
       "      <td>1493846415</td>\n",
       "    </tr>\n",
       "  </tbody>\n",
       "</table>\n",
       "</div>"
      ],
      "text/plain": [
       "       userId   movieId  rating   timestamp\n",
       "100831  u_610  m_166534     4.0  1493848402\n",
       "100832  u_610  m_168248     5.0  1493850091\n",
       "100833  u_610  m_168250     5.0  1494273047\n",
       "100834  u_610  m_168252     5.0  1493846352\n",
       "100835  u_610  m_170875     3.0  1493846415"
      ]
     },
     "execution_count": 246,
     "metadata": {},
     "output_type": "execute_result"
    }
   ],
   "source": [
    "ratings_df.tail()"
   ]
  },
  {
   "cell_type": "markdown",
   "id": "494184f1",
   "metadata": {},
   "source": [
    "# Data Loader\n",
    "\n",
    "We have dataset in pandas dataframe, now to use surprise library built-in algorithms we have to convert it into Dataset object."
   ]
  },
  {
   "cell_type": "code",
   "execution_count": 247,
   "id": "7fad22ac",
   "metadata": {},
   "outputs": [],
   "source": [
    "from surprise import Dataset, Reader"
   ]
  },
  {
   "cell_type": "markdown",
   "id": "74aac42b",
   "metadata": {},
   "source": [
    "The **Reader** class in the Surprise library is used to specify how to read and parse your raw data into the **Dataset** object. It provides parameters that allow you to customize the way the data is formatted and loaded.\n",
    "\n",
    "- **line_format:** This parameter defines the format of each line in your raw data file. It specifies the order of the data fields present in each line. For example, the line format is set to \"user item rating timestamp\", which means that each line in the data file should contain four fields: user ID, item ID, rating, and timestamp. other possible values \"user item rating\", \"user item rating timestamp\", \"item user rating\", \"item rating user\", \"user rating item timestamp\".\n",
    "\n",
    "- **sep:** This parameter specifies the delimiter used to separate the fields in each line of your data file. In your example, it's set to \",\", which means that the fields in each line are separated by commas.\n",
    "\n",
    "- **skip_lines:** This parameter indicates the number of lines at the beginning of your data file to skip before starting to read the actual data. In your example, it's set to 1, which means that the first line (likely a header row) will be skipped, and the reading will start from the second line."
   ]
  },
  {
   "cell_type": "code",
   "execution_count": 248,
   "id": "fbb3d7a6",
   "metadata": {},
   "outputs": [],
   "source": [
    "# let's create a reader object which we need to use for building Dataset object\n",
    "# reader  = Reader(line_format=\"user item rating timestamp\", sep=\",\", skip_lines=1)\n",
    "reader  = Reader()"
   ]
  },
  {
   "cell_type": "code",
   "execution_count": 249,
   "id": "a3312177",
   "metadata": {},
   "outputs": [
    {
     "data": {
      "text/html": [
       "<div>\n",
       "<style scoped>\n",
       "    .dataframe tbody tr th:only-of-type {\n",
       "        vertical-align: middle;\n",
       "    }\n",
       "\n",
       "    .dataframe tbody tr th {\n",
       "        vertical-align: top;\n",
       "    }\n",
       "\n",
       "    .dataframe thead th {\n",
       "        text-align: right;\n",
       "    }\n",
       "</style>\n",
       "<table border=\"1\" class=\"dataframe\">\n",
       "  <thead>\n",
       "    <tr style=\"text-align: right;\">\n",
       "      <th></th>\n",
       "      <th>userId</th>\n",
       "      <th>movieId</th>\n",
       "      <th>rating</th>\n",
       "      <th>timestamp</th>\n",
       "    </tr>\n",
       "  </thead>\n",
       "  <tbody>\n",
       "    <tr>\n",
       "      <th>0</th>\n",
       "      <td>u_1</td>\n",
       "      <td>m_1</td>\n",
       "      <td>4.0</td>\n",
       "      <td>964982703</td>\n",
       "    </tr>\n",
       "    <tr>\n",
       "      <th>1</th>\n",
       "      <td>u_1</td>\n",
       "      <td>m_3</td>\n",
       "      <td>4.0</td>\n",
       "      <td>964981247</td>\n",
       "    </tr>\n",
       "    <tr>\n",
       "      <th>2</th>\n",
       "      <td>u_1</td>\n",
       "      <td>m_6</td>\n",
       "      <td>4.0</td>\n",
       "      <td>964982224</td>\n",
       "    </tr>\n",
       "    <tr>\n",
       "      <th>3</th>\n",
       "      <td>u_1</td>\n",
       "      <td>m_47</td>\n",
       "      <td>5.0</td>\n",
       "      <td>964983815</td>\n",
       "    </tr>\n",
       "    <tr>\n",
       "      <th>4</th>\n",
       "      <td>u_1</td>\n",
       "      <td>m_50</td>\n",
       "      <td>5.0</td>\n",
       "      <td>964982931</td>\n",
       "    </tr>\n",
       "  </tbody>\n",
       "</table>\n",
       "</div>"
      ],
      "text/plain": [
       "  userId movieId  rating  timestamp\n",
       "0    u_1     m_1     4.0  964982703\n",
       "1    u_1     m_3     4.0  964981247\n",
       "2    u_1     m_6     4.0  964982224\n",
       "3    u_1    m_47     5.0  964983815\n",
       "4    u_1    m_50     5.0  964982931"
      ]
     },
     "execution_count": 249,
     "metadata": {},
     "output_type": "execute_result"
    }
   ],
   "source": [
    "ratings_df.head()"
   ]
  },
  {
   "cell_type": "code",
   "execution_count": 250,
   "id": "e324293f",
   "metadata": {},
   "outputs": [],
   "source": [
    "# creating a Dataset object\n",
    "# It must have three columns, corresponding to the user (raw) ids, the item (raw) ids, and the ratings, in this order.\n",
    "ratings_dataset =  Dataset.load_from_df(ratings_df[['userId', 'movieId', 'rating']], reader=reader)"
   ]
  },
  {
   "cell_type": "code",
   "execution_count": 251,
   "id": "48835b8b",
   "metadata": {},
   "outputs": [
    {
     "data": {
      "text/plain": [
       "<surprise.dataset.DatasetAutoFolds at 0x7feeb0d91de0>"
      ]
     },
     "execution_count": 251,
     "metadata": {},
     "output_type": "execute_result"
    }
   ],
   "source": [
    "ratings_dataset"
   ]
  },
  {
   "cell_type": "markdown",
   "id": "4daca7c0",
   "metadata": {},
   "source": [
    "Let's create a mapper that maps movie's name to the id."
   ]
  },
  {
   "cell_type": "code",
   "execution_count": 252,
   "id": "a95d3429",
   "metadata": {},
   "outputs": [],
   "source": [
    "movie_name_to_id = {row.title: row.movieId for row in movie_df.itertuples()}"
   ]
  },
  {
   "cell_type": "code",
   "execution_count": 253,
   "id": "345ed29f",
   "metadata": {},
   "outputs": [
    {
     "data": {
      "text/plain": [
       "[('Toy Story (1995)', 'm_1'),\n",
       " ('Jumanji (1995)', 'm_2'),\n",
       " ('Grumpier Old Men (1995)', 'm_3'),\n",
       " ('Waiting to Exhale (1995)', 'm_4'),\n",
       " ('Father of the Bride Part II (1995)', 'm_5'),\n",
       " ('Heat (1995)', 'm_6'),\n",
       " ('Sabrina (1995)', 'm_7'),\n",
       " ('Tom and Huck (1995)', 'm_8'),\n",
       " ('Sudden Death (1995)', 'm_9'),\n",
       " ('GoldenEye (1995)', 'm_10')]"
      ]
     },
     "execution_count": 253,
     "metadata": {},
     "output_type": "execute_result"
    }
   ],
   "source": [
    "list(movie_name_to_id.items())[:10]"
   ]
  },
  {
   "cell_type": "markdown",
   "id": "30fac9fd",
   "metadata": {},
   "source": [
    "Similarly, let's create a mapper that mapes movies' id to the name."
   ]
  },
  {
   "cell_type": "code",
   "execution_count": 254,
   "id": "00ee4e0c",
   "metadata": {},
   "outputs": [],
   "source": [
    "movie_id_to_name = {value: key for key, value in movie_name_to_id.items()}"
   ]
  },
  {
   "cell_type": "code",
   "execution_count": 255,
   "id": "34c0c05a",
   "metadata": {},
   "outputs": [
    {
     "data": {
      "text/plain": [
       "[('m_1', 'Toy Story (1995)'),\n",
       " ('m_2', 'Jumanji (1995)'),\n",
       " ('m_3', 'Grumpier Old Men (1995)'),\n",
       " ('m_4', 'Waiting to Exhale (1995)'),\n",
       " ('m_5', 'Father of the Bride Part II (1995)'),\n",
       " ('m_6', 'Heat (1995)'),\n",
       " ('m_7', 'Sabrina (1995)'),\n",
       " ('m_8', 'Tom and Huck (1995)'),\n",
       " ('m_9', 'Sudden Death (1995)'),\n",
       " ('m_10', 'GoldenEye (1995)')]"
      ]
     },
     "execution_count": 255,
     "metadata": {},
     "output_type": "execute_result"
    }
   ],
   "source": [
    "list(movie_id_to_name.items())[:10]"
   ]
  },
  {
   "cell_type": "code",
   "execution_count": 264,
   "id": "9fb0e292",
   "metadata": {},
   "outputs": [
    {
     "ename": "KeyError",
     "evalue": "'2851'",
     "output_type": "error",
     "traceback": [
      "\u001b[0;31m---------------------------------------------------------------------------\u001b[0m",
      "\u001b[0;31mKeyError\u001b[0m                                  Traceback (most recent call last)",
      "Cell \u001b[0;32mIn[264], line 1\u001b[0m\n\u001b[0;32m----> 1\u001b[0m \u001b[43mmovie_id_to_name\u001b[49m\u001b[43m[\u001b[49m\u001b[38;5;124;43m\"\u001b[39;49m\u001b[38;5;124;43m2851\u001b[39;49m\u001b[38;5;124;43m\"\u001b[39;49m\u001b[43m]\u001b[49m\n",
      "\u001b[0;31mKeyError\u001b[0m: '2851'"
     ]
    }
   ],
   "source": [
    "movie_id_to_name[\"2851\"]"
   ]
  },
  {
   "cell_type": "markdown",
   "id": "c6468d77",
   "metadata": {},
   "source": [
    "## Helper functions\n",
    "Let's create some helpers function"
   ]
  },
  {
   "cell_type": "code",
   "execution_count": 256,
   "id": "a85594b0",
   "metadata": {},
   "outputs": [],
   "source": [
    "def get_user_ratings(user_id, return_dataframe=False):\n",
    "    \"\"\"\n",
    "    Retrieve movie ratings for a specific user.\n",
    "\n",
    "    Parameters:\n",
    "        user_id (int): The ID of the user for whom to retrieve ratings.\n",
    "        return_dataframe (bool, optional): If True, returns the ratings as a DataFrame. \n",
    "            If False (default), returns the ratings as a list of lists.\n",
    "\n",
    "    Returns:\n",
    "        list or DataFrame: Depending on the value of return_dataframe, returns either a list of\n",
    "        lists containing movie ID and rating pairs, or a DataFrame containing the same information.\n",
    "    \"\"\"\n",
    "    encoded_user_id = f\"u_{user_id}\"\n",
    "    if not return_dataframe:\n",
    "        return list(ratings_df[ratings_df[\"userId\"] == encoded_user_id][[\"movieId\", \"rating\"]].values.tolist())\n",
    "    return ratings_df[ratings_df[\"userId\"] == encoded_user_id][[\"movieId\", \"rating\"]] "
   ]
  },
  {
   "cell_type": "code",
   "execution_count": 257,
   "id": "3731134a",
   "metadata": {},
   "outputs": [
    {
     "data": {
      "text/html": [
       "<div>\n",
       "<style scoped>\n",
       "    .dataframe tbody tr th:only-of-type {\n",
       "        vertical-align: middle;\n",
       "    }\n",
       "\n",
       "    .dataframe tbody tr th {\n",
       "        vertical-align: top;\n",
       "    }\n",
       "\n",
       "    .dataframe thead th {\n",
       "        text-align: right;\n",
       "    }\n",
       "</style>\n",
       "<table border=\"1\" class=\"dataframe\">\n",
       "  <thead>\n",
       "    <tr style=\"text-align: right;\">\n",
       "      <th></th>\n",
       "      <th>movieId</th>\n",
       "      <th>rating</th>\n",
       "    </tr>\n",
       "  </thead>\n",
       "  <tbody>\n",
       "    <tr>\n",
       "      <th>0</th>\n",
       "      <td>m_1</td>\n",
       "      <td>4.0</td>\n",
       "    </tr>\n",
       "    <tr>\n",
       "      <th>1</th>\n",
       "      <td>m_3</td>\n",
       "      <td>4.0</td>\n",
       "    </tr>\n",
       "    <tr>\n",
       "      <th>2</th>\n",
       "      <td>m_6</td>\n",
       "      <td>4.0</td>\n",
       "    </tr>\n",
       "    <tr>\n",
       "      <th>3</th>\n",
       "      <td>m_47</td>\n",
       "      <td>5.0</td>\n",
       "    </tr>\n",
       "    <tr>\n",
       "      <th>4</th>\n",
       "      <td>m_50</td>\n",
       "      <td>5.0</td>\n",
       "    </tr>\n",
       "    <tr>\n",
       "      <th>...</th>\n",
       "      <td>...</td>\n",
       "      <td>...</td>\n",
       "    </tr>\n",
       "    <tr>\n",
       "      <th>227</th>\n",
       "      <td>m_3744</td>\n",
       "      <td>4.0</td>\n",
       "    </tr>\n",
       "    <tr>\n",
       "      <th>228</th>\n",
       "      <td>m_3793</td>\n",
       "      <td>5.0</td>\n",
       "    </tr>\n",
       "    <tr>\n",
       "      <th>229</th>\n",
       "      <td>m_3809</td>\n",
       "      <td>4.0</td>\n",
       "    </tr>\n",
       "    <tr>\n",
       "      <th>230</th>\n",
       "      <td>m_4006</td>\n",
       "      <td>4.0</td>\n",
       "    </tr>\n",
       "    <tr>\n",
       "      <th>231</th>\n",
       "      <td>m_5060</td>\n",
       "      <td>5.0</td>\n",
       "    </tr>\n",
       "  </tbody>\n",
       "</table>\n",
       "<p>232 rows × 2 columns</p>\n",
       "</div>"
      ],
      "text/plain": [
       "    movieId  rating\n",
       "0       m_1     4.0\n",
       "1       m_3     4.0\n",
       "2       m_6     4.0\n",
       "3      m_47     5.0\n",
       "4      m_50     5.0\n",
       "..      ...     ...\n",
       "227  m_3744     4.0\n",
       "228  m_3793     5.0\n",
       "229  m_3809     4.0\n",
       "230  m_4006     4.0\n",
       "231  m_5060     5.0\n",
       "\n",
       "[232 rows x 2 columns]"
      ]
     },
     "execution_count": 257,
     "metadata": {},
     "output_type": "execute_result"
    }
   ],
   "source": [
    "get_user_ratings(1, True)"
   ]
  },
  {
   "cell_type": "code",
   "execution_count": 258,
   "id": "07eb2f55",
   "metadata": {},
   "outputs": [],
   "source": [
    "def get_movie_name(movie_id):\n",
    "    encoded_movie_id = f\"m_{movie_id}\"\n",
    "    return movie_id_to_name[encoded_movie_id]\n",
    "\n",
    "def get_movie_id(movie_name):\n",
    "    return movie_name_to_id[movie_name]"
   ]
  },
  {
   "cell_type": "code",
   "execution_count": 259,
   "id": "0894acc2",
   "metadata": {},
   "outputs": [
    {
     "data": {
      "text/plain": [
       "'M*A*S*H (a.k.a. MASH) (1970)'"
      ]
     },
     "execution_count": 259,
     "metadata": {},
     "output_type": "execute_result"
    }
   ],
   "source": [
    "get_movie_name(5060)"
   ]
  },
  {
   "cell_type": "code",
   "execution_count": 260,
   "id": "9dd61baa",
   "metadata": {},
   "outputs": [
    {
     "data": {
      "text/plain": [
       "'m_168358'"
      ]
     },
     "execution_count": 260,
     "metadata": {},
     "output_type": "execute_result"
    }
   ],
   "source": [
    "get_movie_id(\"Saturn 3 (1980)\")"
   ]
  },
  {
   "cell_type": "markdown",
   "id": "003cd8dc",
   "metadata": {},
   "source": [
    "## Train/Test Split\n",
    "\n",
    "Now, we have to split the dataset into train/test set, alternatively we can perform cross-validation also. For now, let's stick to the train/test split"
   ]
  },
  {
   "cell_type": "code",
   "execution_count": 140,
   "id": "1766dc79",
   "metadata": {},
   "outputs": [],
   "source": [
    "from surprise.model_selection import train_test_split"
   ]
  },
  {
   "cell_type": "code",
   "execution_count": 141,
   "id": "70997fbe",
   "metadata": {},
   "outputs": [],
   "source": [
    "train_set, test_set = train_test_split(ratings_dataset, test_size=0.2, random_state=1)"
   ]
  },
  {
   "cell_type": "markdown",
   "id": "f603462a",
   "metadata": {},
   "source": [
    "- `trainset:` This is a Trainset object which contains the training data that you'll use to train your recommendation model.\n",
    "- `testset:` This is a list of tuples, each representing a user-item interaction in the testing set. Each tuple has the format (user_id, item_id, rating)."
   ]
  },
  {
   "cell_type": "code",
   "execution_count": 142,
   "id": "9f570cb8",
   "metadata": {},
   "outputs": [
    {
     "name": "stdout",
     "output_type": "stream",
     "text": [
      "size of ratings in train set:  80668\n",
      "size of users in train set:  610\n",
      "size of movies in train set:  8983\n",
      "size of test set:  20168\n"
     ]
    }
   ],
   "source": [
    "print(\"size of ratings in train set: \", train_set.n_ratings)\n",
    "print(\"size of users in train set: \", train_set.n_users)\n",
    "print(\"size of movies in train set: \", train_set.n_items)\n",
    "print(\"size of test set: \", len(test_set))"
   ]
  },
  {
   "cell_type": "code",
   "execution_count": 143,
   "id": "ea75bf1e",
   "metadata": {},
   "outputs": [
    {
     "data": {
      "text/plain": [
       "[('u_469', 'm_2243', 4.0),\n",
       " ('u_187', 'm_49932', 4.0),\n",
       " ('u_399', 'm_589', 2.5),\n",
       " ('u_610', 'm_1394', 5.0),\n",
       " ('u_288', 'm_8965', 3.5)]"
      ]
     },
     "execution_count": 143,
     "metadata": {},
     "output_type": "execute_result"
    }
   ],
   "source": [
    "test_set[:5]"
   ]
  },
  {
   "cell_type": "markdown",
   "id": "ddcc7be6",
   "metadata": {},
   "source": [
    "# Algorithm Setup\n",
    "\n",
    "- For this notebook, we are going to use only SVD (Singular Value Decomposition) algorithm to build a collaboration based recommendation system. Leter we will be working on building recommendation engine framework, where we can evaluate multiple algorithms. \n",
    "- If you are not familary with linear algebra and how SVD works, you can checkout the given links to get the intuition about how SVD works.\n",
    "    - Linear algebra by khan academy: https://www.youtube.com/watch?v=aKhhYguY0DQ&list=PLFD0EB975BA0CC1E0\n",
    "    - Essence of linear algebra: https://www.youtube.com/watch?v=fNk_zzaMoSs&list=PLZHQObOWTQDPD3MizzM2xVFitgF8hE_ab\n",
    "    - Metrix visualization: https://www.youtube.com/watch?v=UyAfmAZU_WI\n",
    "    - SVD and recommendation system: https://www.youtube.com/watch?v=rFemvJgXY7E\n",
    "    - Dimensionality Reduction with SVD: https://www.youtube.com/watch?v=UyAfmAZU_WI\n"
   ]
  },
  {
   "cell_type": "code",
   "execution_count": 147,
   "id": "af0ac330",
   "metadata": {},
   "outputs": [],
   "source": [
    "from surprise import SVD"
   ]
  },
  {
   "attachments": {
    "image.png": {
     "image/png": "[encoded data removed]"
    }
   },
   "cell_type": "markdown",
   "id": "f1946514",
   "metadata": {},
   "source": [
    "Singular Value Decomposition (SVD) is a powerful mathematical technique that has found applications in various fields, including recommendation systems. In the context of recommendation systems, SVD is often used for collaborative filtering, which is a technique that predicts a user's preferences or recommendations by leveraging the preferences of other users.\n",
    "\n",
    "![image.png](attachment:image.png)\n",
    "\n",
    "Here's how SVD can be applied to recommendation systems:\n",
    "\n",
    "Singular Value Decomposition (SVD) can be employed in recommendation systems to make personalized recommendations based on user-item interactions. The process involves decomposing the user-item interaction matrix into three matrices that capture underlying patterns, and then using these matrices to predict missing values and generate recommendations. Here's a step-by-step explanation of how SVD works for recommendation systems:\n",
    "\n",
    "1. **User-Item Interaction Matrix:** Consider a user-item interaction matrix where rows represent users, columns represent items, and the cells contain user ratings or interactions with items. However, this matrix is often sparse because users have not rated all items.\n",
    "\n",
    "2. **SVD Decomposition:** SVD aims to factorize the user-item interaction matrix (A) into three matrices: U (user matrix), Σ (diagonal matrix of singular values), and V^T (item matrix transpose). Mathematically, this can be represented as A = UΣV^T. The dimensions of U and V^T are such that U has dimensions m x k (m = number of users, k = number of latent factors), Σ is a k x k diagonal matrix, and V^T has dimensions k x n (n = number of items).\n",
    "\n",
    "3. **Dimensionality Reduction:** The key idea of SVD is to reduce the dimensionality of the original matrix by capturing latent factors. These latent factors represent hidden patterns that contribute to user preferences. The columns of U and V^T correspond to these latent factors. By selecting a smaller value for k (the rank of the factorization), you effectively reduce the dimensions of U and V^T matrices. This is important for dealing with sparsity and noise in the original user-item matrix.\n",
    "\n",
    "4. **Matrix Reconstruction:** Once you have the U, Σ, and V^T matrices, you can reconstruct the original user-item interaction matrix by multiplying them: A_reconstructed = UΣV^T. The reconstructed matrix represents predicted ratings for all users and items.\n",
    "\n",
    "5. **Prediction and Recommendation:** To make recommendations for a specific user, you focus on the row of the user in the reconstructed matrix. The missing values (items the user hasn't interacted with) in this row are filled with the predicted ratings. Higher predicted ratings indicate potential interest, and you can sort these predicted ratings to generate a list of recommended items for the user.\n",
    "\n",
    "6. **Cold Start and New Data:** One challenge of SVD-based recommendation systems is the cold start problem, where new users or items have limited or no interactions. SVD struggles to provide recommendations for such cases, as it relies on historical interactions. In such scenarios, hybrid approaches that combine SVD with content-based recommendations or other techniques might be more effective.\n",
    "\n",
    "7. **Regularization and Bias:** To improve the performance of SVD-based recommendation systems, regularization techniques can be applied to prevent overfitting. Additionally, bias terms can be incorporated to account for user and item biases, which can help capture nuances in user preferences and item popularity.\n",
    "\n",
    "It's important to note that while SVD-based recommendation systems were popular in the past, more recent approaches like matrix factorization with neural networks and embeddings-based models have shown better performance due to their ability to capture complex patterns and handle large-scale data more effectively."
   ]
  },
  {
   "cell_type": "code",
   "execution_count": 148,
   "id": "c179dcfe",
   "metadata": {},
   "outputs": [],
   "source": [
    "svd_model = SVD(random_state=10)"
   ]
  },
  {
   "cell_type": "code",
   "execution_count": 149,
   "id": "46019195",
   "metadata": {},
   "outputs": [
    {
     "data": {
      "text/plain": [
       "<surprise.prediction_algorithms.matrix_factorization.SVD at 0x7feeb6bb5060>"
      ]
     },
     "execution_count": 149,
     "metadata": {},
     "output_type": "execute_result"
    }
   ],
   "source": [
    "# training our SVD_model\n",
    "svd_model.fit(train_set)"
   ]
  },
  {
   "cell_type": "markdown",
   "id": "699c193d",
   "metadata": {},
   "source": [
    "let's make predictions on testset"
   ]
  },
  {
   "cell_type": "code",
   "execution_count": 150,
   "id": "df93e69d",
   "metadata": {},
   "outputs": [],
   "source": [
    "predictions = svd_model.test(test_set)"
   ]
  },
  {
   "cell_type": "code",
   "execution_count": 151,
   "id": "ad20dae3",
   "metadata": {},
   "outputs": [
    {
     "data": {
      "text/plain": [
       "[Prediction(uid='u_469', iid='m_2243', r_ui=4.0, est=3.5778806340563234, details={'was_impossible': False}),\n",
       " Prediction(uid='u_187', iid='m_49932', r_ui=4.0, est=3.6264424117130942, details={'was_impossible': False}),\n",
       " Prediction(uid='u_399', iid='m_589', r_ui=2.5, est=4.1965886466453055, details={'was_impossible': False}),\n",
       " Prediction(uid='u_610', iid='m_1394', r_ui=5.0, est=4.190842986448906, details={'was_impossible': False}),\n",
       " Prediction(uid='u_288', iid='m_8965', r_ui=3.5, est=2.609570328648279, details={'was_impossible': False}),\n",
       " Prediction(uid='u_182', iid='m_6890', r_ui=4.5, est=3.664976335949917, details={'was_impossible': False}),\n",
       " Prediction(uid='u_357', iid='m_3481', r_ui=3.0, est=3.941798959205346, details={'was_impossible': False}),\n",
       " Prediction(uid='u_202', iid='m_2628', r_ui=4.0, est=3.133616813669155, details={'was_impossible': False}),\n",
       " Prediction(uid='u_600', iid='m_1348', r_ui=2.5, est=3.2628024666883624, details={'was_impossible': False}),\n",
       " Prediction(uid='u_249', iid='m_94959', r_ui=5.0, est=3.9149299521912546, details={'was_impossible': False})]"
      ]
     },
     "execution_count": 151,
     "metadata": {},
     "output_type": "execute_result"
    }
   ],
   "source": [
    "predictions[:10]"
   ]
  },
  {
   "cell_type": "markdown",
   "id": "113e8863",
   "metadata": {},
   "source": [
    "Let's break down the different components of this prediction `Prediction(uid='469', iid='2243', r_ui=4.0, est=3.5778806340563234, details={'was_impossible': False})`:\n",
    "\n",
    "- **uid:** This is the user ID for which the prediction was made. In this case, the user ID is '469'.\n",
    "\n",
    "- **iid:** This is the item ID for which the prediction was made. In this case, the item ID is '2243'.\n",
    "\n",
    "- **r_ui:** This is the actual rating that the user with ID '469' gave to the item with ID '2243'. In this prediction result, the actual rating is 4.0.\n",
    "\n",
    "- **est:** This is the estimated or predicted rating that the recommendation algorithm provided for the user-item combination ('469', '2243'). The estimated rating is approximately 3.5779.\n",
    "\n",
    "- **details:** This is a dictionary that provides additional information about the prediction. In this case, the key **'was_impossible'** is `False`, indicating that the prediction was possible and not flagged as impossible by the algorithm. This is useful when dealing with cases where the algorithm couldn't provide a prediction due to certain conditions not being met.\n"
   ]
  },
  {
   "cell_type": "markdown",
   "id": "6b591a59",
   "metadata": {},
   "source": [
    "## Evaluation"
   ]
  },
  {
   "cell_type": "code",
   "execution_count": 152,
   "id": "f3145f9f",
   "metadata": {},
   "outputs": [],
   "source": [
    "from surprise import accuracy"
   ]
  },
  {
   "cell_type": "code",
   "execution_count": 153,
   "id": "4ed269bf",
   "metadata": {},
   "outputs": [
    {
     "data": {
      "text/plain": [
       "0.6703919368150372"
      ]
     },
     "execution_count": 153,
     "metadata": {},
     "output_type": "execute_result"
    }
   ],
   "source": [
    "mae = accuracy.mae(predictions, verbose=False)\n",
    "mae"
   ]
  },
  {
   "cell_type": "code",
   "execution_count": 154,
   "id": "01d9d677",
   "metadata": {},
   "outputs": [
    {
     "data": {
      "text/plain": [
       "0.874705732433194"
      ]
     },
     "execution_count": 154,
     "metadata": {},
     "output_type": "execute_result"
    }
   ],
   "source": [
    "rmse = accuracy.rmse(predictions, verbose=False)\n",
    "rmse"
   ]
  },
  {
   "cell_type": "markdown",
   "id": "e1b50cc4",
   "metadata": {},
   "source": [
    "## Predictions"
   ]
  },
  {
   "cell_type": "code",
   "execution_count": 155,
   "id": "e8f6fda7",
   "metadata": {},
   "outputs": [
    {
     "data": {
      "text/html": [
       "<div>\n",
       "<style scoped>\n",
       "    .dataframe tbody tr th:only-of-type {\n",
       "        vertical-align: middle;\n",
       "    }\n",
       "\n",
       "    .dataframe tbody tr th {\n",
       "        vertical-align: top;\n",
       "    }\n",
       "\n",
       "    .dataframe thead th {\n",
       "        text-align: right;\n",
       "    }\n",
       "</style>\n",
       "<table border=\"1\" class=\"dataframe\">\n",
       "  <thead>\n",
       "    <tr style=\"text-align: right;\">\n",
       "      <th></th>\n",
       "      <th>userId</th>\n",
       "      <th>movieId</th>\n",
       "      <th>rating</th>\n",
       "      <th>timestamp</th>\n",
       "    </tr>\n",
       "  </thead>\n",
       "  <tbody>\n",
       "    <tr>\n",
       "      <th>0</th>\n",
       "      <td>1</td>\n",
       "      <td>1</td>\n",
       "      <td>4.0</td>\n",
       "      <td>964982703</td>\n",
       "    </tr>\n",
       "    <tr>\n",
       "      <th>1</th>\n",
       "      <td>1</td>\n",
       "      <td>3</td>\n",
       "      <td>4.0</td>\n",
       "      <td>964981247</td>\n",
       "    </tr>\n",
       "    <tr>\n",
       "      <th>2</th>\n",
       "      <td>1</td>\n",
       "      <td>6</td>\n",
       "      <td>4.0</td>\n",
       "      <td>964982224</td>\n",
       "    </tr>\n",
       "    <tr>\n",
       "      <th>3</th>\n",
       "      <td>1</td>\n",
       "      <td>47</td>\n",
       "      <td>5.0</td>\n",
       "      <td>964983815</td>\n",
       "    </tr>\n",
       "    <tr>\n",
       "      <th>4</th>\n",
       "      <td>1</td>\n",
       "      <td>50</td>\n",
       "      <td>5.0</td>\n",
       "      <td>964982931</td>\n",
       "    </tr>\n",
       "  </tbody>\n",
       "</table>\n",
       "</div>"
      ],
      "text/plain": [
       "   userId  movieId  rating  timestamp\n",
       "0       1        1     4.0  964982703\n",
       "1       1        3     4.0  964981247\n",
       "2       1        6     4.0  964982224\n",
       "3       1       47     5.0  964983815\n",
       "4       1       50     5.0  964982931"
      ]
     },
     "execution_count": 155,
     "metadata": {},
     "output_type": "execute_result"
    }
   ],
   "source": [
    "rating_df.head()"
   ]
  },
  {
   "cell_type": "code",
   "execution_count": 156,
   "id": "f8b3ee8c",
   "metadata": {},
   "outputs": [
    {
     "name": "stdout",
     "output_type": "stream",
     "text": [
      "Movies that user_2 has rated:  [318, 333, 1704, 3578, 6874, 8798, 46970, 48516, 58559, 60756, 68157, 71535, 74458, 77455, 79132, 80489, 80906, 86345, 89774, 91529, 91658, 99114, 106782, 109487, 112552, 114060, 115713, 122882, 131724]\n"
     ]
    }
   ],
   "source": [
    "movie_id_user_2 = list(rating_df[rating_df[\"userId\"]==2][\"movieId\"].unique())\n",
    "print(\"Movies that user_2 has rated: \", movie_id_user_2)"
   ]
  },
  {
   "cell_type": "code",
   "execution_count": 157,
   "id": "9f18b996",
   "metadata": {},
   "outputs": [
    {
     "name": "stdout",
     "output_type": "stream",
     "text": [
      "predicted ratings 3.5038119204641247\n"
     ]
    }
   ],
   "source": [
    "user_id = '1'\n",
    "movie_id = '1'\n",
    "predicted_rating = svd_model.predict(user_id, movie_id)\n",
    "print(\"predicted ratings\", predicted_rating.est)"
   ]
  },
  {
   "cell_type": "code",
   "execution_count": 158,
   "id": "7bcec291",
   "metadata": {},
   "outputs": [
    {
     "data": {
      "text/plain": [
       "Prediction(uid='2', iid='50', r_ui=None, est=3.5038119204641247, details={'was_impossible': False})"
      ]
     },
     "execution_count": 158,
     "metadata": {},
     "output_type": "execute_result"
    }
   ],
   "source": [
    "# let's check the prediction for user 2 for the movie that he haven't rated yet\n",
    "user_id = '2'\n",
    "movie_id = '50'\n",
    "predicted_rating = svd_model.predict(user_id, movie_id) #it supposed to predict 5\n",
    "predicted_rating"
   ]
  },
  {
   "cell_type": "markdown",
   "id": "d7d7cf29",
   "metadata": {},
   "source": [
    "Here you can see r_ui is None."
   ]
  },
  {
   "cell_type": "markdown",
   "id": "cb39f2af",
   "metadata": {},
   "source": [
    "# recommending top N movies"
   ]
  },
  {
   "cell_type": "code",
   "execution_count": 159,
   "id": "dbe6d762",
   "metadata": {},
   "outputs": [],
   "source": [
    "from collections import defaultdict"
   ]
  },
  {
   "cell_type": "code",
   "execution_count": 160,
   "id": "b160e79b",
   "metadata": {},
   "outputs": [],
   "source": [
    "trainset = rating_dataset.build_full_trainset()"
   ]
  },
  {
   "cell_type": "code",
   "execution_count": 178,
   "id": "199e8c5f",
   "metadata": {},
   "outputs": [],
   "source": [
    "def get_top_n(data, user_id, n=10, minimum_rating=3.0):\n",
    "    encoded_user_id = f\"u_{user_id}\"\n",
    "    # get inner uid of the raw user_id\n",
    "    inner_uid = data.to_inner_uid(encoded_user_id)\n",
    "    # get the list of movie_id that user has rated\n",
    "    rated_movie_id = [movie[0] for movie in data.ur[inner_uid]]\n",
    "    \n",
    "    # movies not rated by the user\n",
    "    inner_movieid_not_rated = [movie_id for movie_id in data.all_items() if not movie_id in rated_movie_id]\n",
    "    \n",
    "    # get estimation for these movies\n",
    "    predictions = [svd_model.predict(user_id, data.to_raw_iid(movie_id)) for movie_id in inner_movieid_not_rated]\n",
    "    \n",
    "    # return top n\n",
    "    top_n = []\n",
    "    for user_id, movie_id, actual_rating, predicted_rating, _ in predictions:\n",
    "        decoded_movie_id = movie_id.split(\"_\")[1]\n",
    "        top_n.append((movie_id, predicted_rating, get_movie_name(decoded_movie_id)))\n",
    "    # sort the estimated movie ratings\n",
    "    top_n.sort(key = lambda kv: kv[1], reverse=True)\n",
    "    return top_n[:n]"
   ]
  },
  {
   "cell_type": "code",
   "execution_count": 179,
   "id": "5621f02d",
   "metadata": {},
   "outputs": [
    {
     "ename": "KeyError",
     "evalue": "'m_2851'",
     "output_type": "error",
     "traceback": [
      "\u001b[0;31m---------------------------------------------------------------------------\u001b[0m",
      "\u001b[0;31mKeyError\u001b[0m                                  Traceback (most recent call last)",
      "Cell \u001b[0;32mIn[179], line 1\u001b[0m\n\u001b[0;32m----> 1\u001b[0m \u001b[43mget_top_n\u001b[49m\u001b[43m(\u001b[49m\u001b[43mtrainset\u001b[49m\u001b[43m,\u001b[49m\u001b[43m \u001b[49m\u001b[38;5;124;43m'\u001b[39;49m\u001b[38;5;124;43m4\u001b[39;49m\u001b[38;5;124;43m'\u001b[39;49m\u001b[43m)\u001b[49m\n",
      "Cell \u001b[0;32mIn[178], line 18\u001b[0m, in \u001b[0;36mget_top_n\u001b[0;34m(data, user_id, n, minimum_rating)\u001b[0m\n\u001b[1;32m     16\u001b[0m \u001b[38;5;28;01mfor\u001b[39;00m user_id, movie_id, actual_rating, predicted_rating, _ \u001b[38;5;129;01min\u001b[39;00m predictions:\n\u001b[1;32m     17\u001b[0m     decoded_movie_id \u001b[38;5;241m=\u001b[39m movie_id\u001b[38;5;241m.\u001b[39msplit(\u001b[38;5;124m\"\u001b[39m\u001b[38;5;124m_\u001b[39m\u001b[38;5;124m\"\u001b[39m)[\u001b[38;5;241m1\u001b[39m]\n\u001b[0;32m---> 18\u001b[0m     top_n\u001b[38;5;241m.\u001b[39mappend((movie_id, predicted_rating, \u001b[43mget_movie_name\u001b[49m\u001b[43m(\u001b[49m\u001b[43mdecoded_movie_id\u001b[49m\u001b[43m)\u001b[49m))\n\u001b[1;32m     19\u001b[0m \u001b[38;5;66;03m# sort the estimated movie ratings\u001b[39;00m\n\u001b[1;32m     20\u001b[0m top_n\u001b[38;5;241m.\u001b[39msort(key \u001b[38;5;241m=\u001b[39m \u001b[38;5;28;01mlambda\u001b[39;00m kv: kv[\u001b[38;5;241m1\u001b[39m], reverse\u001b[38;5;241m=\u001b[39m\u001b[38;5;28;01mTrue\u001b[39;00m)\n",
      "Cell \u001b[0;32mIn[137], line 3\u001b[0m, in \u001b[0;36mget_movie_name\u001b[0;34m(movie_id)\u001b[0m\n\u001b[1;32m      1\u001b[0m \u001b[38;5;28;01mdef\u001b[39;00m \u001b[38;5;21mget_movie_name\u001b[39m(movie_id):\n\u001b[1;32m      2\u001b[0m     encoded_movie_id \u001b[38;5;241m=\u001b[39m \u001b[38;5;124mf\u001b[39m\u001b[38;5;124m\"\u001b[39m\u001b[38;5;124mm_\u001b[39m\u001b[38;5;132;01m{\u001b[39;00mmovie_id\u001b[38;5;132;01m}\u001b[39;00m\u001b[38;5;124m\"\u001b[39m\n\u001b[0;32m----> 3\u001b[0m     \u001b[38;5;28;01mreturn\u001b[39;00m \u001b[43mmovie_id_to_name\u001b[49m\u001b[43m[\u001b[49m\u001b[43mencoded_movie_id\u001b[49m\u001b[43m]\u001b[49m\n",
      "\u001b[0;31mKeyError\u001b[0m: 'm_2851'"
     ]
    }
   ],
   "source": [
    "get_top_n(trainset, '4')"
   ]
  },
  {
   "cell_type": "code",
   "execution_count": 172,
   "id": "6733e5db",
   "metadata": {},
   "outputs": [
    {
     "ename": "KeyError",
     "evalue": "'m_2851'",
     "output_type": "error",
     "traceback": [
      "\u001b[0;31m---------------------------------------------------------------------------\u001b[0m",
      "\u001b[0;31mKeyError\u001b[0m                                  Traceback (most recent call last)",
      "Cell \u001b[0;32mIn[172], line 1\u001b[0m\n\u001b[0;32m----> 1\u001b[0m \u001b[43mget_movie_name\u001b[49m\u001b[43m(\u001b[49m\u001b[38;5;124;43m'\u001b[39;49m\u001b[38;5;124;43m2851\u001b[39;49m\u001b[38;5;124;43m'\u001b[39;49m\u001b[43m)\u001b[49m\n",
      "Cell \u001b[0;32mIn[137], line 3\u001b[0m, in \u001b[0;36mget_movie_name\u001b[0;34m(movie_id)\u001b[0m\n\u001b[1;32m      1\u001b[0m \u001b[38;5;28;01mdef\u001b[39;00m \u001b[38;5;21mget_movie_name\u001b[39m(movie_id):\n\u001b[1;32m      2\u001b[0m     encoded_movie_id \u001b[38;5;241m=\u001b[39m \u001b[38;5;124mf\u001b[39m\u001b[38;5;124m\"\u001b[39m\u001b[38;5;124mm_\u001b[39m\u001b[38;5;132;01m{\u001b[39;00mmovie_id\u001b[38;5;132;01m}\u001b[39;00m\u001b[38;5;124m\"\u001b[39m\n\u001b[0;32m----> 3\u001b[0m     \u001b[38;5;28;01mreturn\u001b[39;00m \u001b[43mmovie_id_to_name\u001b[49m\u001b[43m[\u001b[49m\u001b[43mencoded_movie_id\u001b[49m\u001b[43m]\u001b[49m\n",
      "\u001b[0;31mKeyError\u001b[0m: 'm_2851'"
     ]
    }
   ],
   "source": [
    "get_movie_name('2851')"
   ]
  },
  {
   "cell_type": "code",
   "execution_count": null,
   "id": "34c29660",
   "metadata": {},
   "outputs": [],
   "source": []
  }
 ],
 "metadata": {
  "kernelspec": {
   "display_name": "Python 3 (ipykernel)",
   "language": "python",
   "name": "python3"
  },
  "language_info": {
   "codemirror_mode": {
    "name": "ipython",
    "version": 3
   },
   "file_extension": ".py",
   "mimetype": "text/x-python",
   "name": "python",
   "nbconvert_exporter": "python",
   "pygments_lexer": "ipython3",
   "version": "3.10.0"
  }
 },
 "nbformat": 4,
 "nbformat_minor": 5
}
