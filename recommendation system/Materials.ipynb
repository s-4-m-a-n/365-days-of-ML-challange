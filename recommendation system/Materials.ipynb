{
 "cells": [
  {
   "cell_type": "markdown",
   "id": "4815455a",
   "metadata": {},
   "source": [
    "# Packages\n",
    "Here, I have listed out important packages for recommendation syste "
   ]
  },
  {
   "cell_type": "markdown",
   "id": "ec9ea8dd",
   "metadata": {},
   "source": [
    "## 1. scikit-surprise\n",
    "Scikit-Surprise is a Python library designed for building and evaluating recommender systems. It provides a collection of algorithms for collaborative filtering, matrix factorization, and other techniques commonly used in recommendation tasks. The library aims to make it easy to develop and compare different recommendation algorithms, and it's built on top of the popular scikit-learn library.\n",
    "\n",
    "### Key Features\n",
    "Here are some key features and concepts of the Scikit-Surprise library:\n",
    "\n",
    "- **Recommender Algorithms:** Scikit-Surprise includes a variety of built-in recommendation algorithms, including:\n",
    "        User-based and item-based collaborative filtering\n",
    "        Matrix factorization methods (SVD, SVD++, NMF)\n",
    "        Slope One\n",
    "        Co-clustering\n",
    "\n",
    "- *Data Handling:** The library can work with various data formats, including pandas DataFrames, NumPy arrays, and custom dataset formats. It provides utilities to load and preprocess your data for recommendation tasks.\n",
    "\n",
    "- **Cross-Validation:** Scikit-Surprise offers tools for performing cross-validation on your recommendation models. This helps in evaluating the performance of different algorithms on your dataset.\n",
    "\n",
    "- **Hyperparameter Tuning:* You can fine-tune the parameters of the recommendation algorithms using tools provided by the library, such as GridSearchCV and RandomizedSearchCV, which are similar to those in scikit-learn.\n",
    "\n",
    "- **Prediction and Evaluation:** You can use trained models to make predictions on user-item pairs and evaluate the performance using various metrics such as RMSE (Root Mean Squared Error), MAE (Mean Absolute Error), and others.\n",
    "\n",
    "- **Custom Algorithms:** In addition to the built-in algorithms, you can also implement your custom recommendation algorithms using the library's framework.\n",
    "\n",
    "visit : https://surpriselib.com/\n"
   ]
  },
  {
   "cell_type": "code",
   "execution_count": 1,
   "id": "5d333a95",
   "metadata": {},
   "outputs": [
    {
     "name": "stdout",
     "output_type": "stream",
     "text": [
      "Collecting scikit-surprise\n",
      "  Downloading scikit-surprise-1.1.3.tar.gz (771 kB)\n",
      "\u001b[2K     \u001b[38;2;114;156;31m━━━━━━━━━━━━━━━━━━━━━━━━━━━━━━━━━━━━━━━\u001b[0m \u001b[32m772.0/772.0 kB\u001b[0m \u001b[31m1.7 MB/s\u001b[0m eta \u001b[36m0:00:00\u001b[0m[31m1.7 MB/s\u001b[0m eta \u001b[36m0:00:01\u001b[0m\n",
      "\u001b[?25h  Preparing metadata (setup.py) ... \u001b[?25ldone\n",
      "\u001b[?25hRequirement already satisfied: joblib>=1.0.0 in /home/suman/anaconda3/envs/365ml/lib/python3.10/site-packages (from scikit-surprise) (1.3.1)\n",
      "Requirement already satisfied: numpy>=1.17.3 in /home/suman/anaconda3/envs/365ml/lib/python3.10/site-packages (from scikit-surprise) (1.23.5)\n",
      "Requirement already satisfied: scipy>=1.3.2 in /home/suman/anaconda3/envs/365ml/lib/python3.10/site-packages (from scikit-surprise) (1.11.1)\n",
      "Building wheels for collected packages: scikit-surprise\n",
      "  Building wheel for scikit-surprise (setup.py) ... \u001b[?25ldone\n",
      "\u001b[?25h  Created wheel for scikit-surprise: filename=scikit_surprise-1.1.3-cp310-cp310-linux_x86_64.whl size=2804311 sha256=ba2017d8ffe363356c02644ad005680951d0dc3f590316992376c16c938d9633\n",
      "  Stored in directory: /home/suman/.cache/pip/wheels/a5/ca/a8/4e28def53797fdc4363ca4af740db15a9c2f1595ebc51fb445\n",
      "Successfully built scikit-surprise\n",
      "Installing collected packages: scikit-surprise\n",
      "Successfully installed scikit-surprise-1.1.3\n"
     ]
    }
   ],
   "source": [
    "! pip install scikit-surprise"
   ]
  },
  {
   "cell_type": "markdown",
   "id": "7a991061",
   "metadata": {},
   "source": [
    "# Dataset\n",
    "\n",
    "###  MovieLense Dataset: \n",
    "   - **official link:** http://grouplens.org/datasets/movielens/\n",
    "   - **kaggle:** https://www.kaggle.com/datasets/grouplens/movielens-20m-dataset"
   ]
  },
  {
   "cell_type": "code",
   "execution_count": 4,
   "id": "1630c4ff",
   "metadata": {},
   "outputs": [
    {
     "name": "stdout",
     "output_type": "stream",
     "text": [
      "'architecture implementations'\t LICENSE\r\n",
      " daily_logs.md\t\t\t projects\r\n",
      " kaggle.json\t\t\t README.md\r\n",
      "'keras basic to advance'\t'tensorflow from basic to advance'\r\n"
     ]
    }
   ],
   "source": [
    "!ls ../.."
   ]
  },
  {
   "cell_type": "code",
   "execution_count": 5,
   "id": "5d940e3b",
   "metadata": {},
   "outputs": [],
   "source": [
    "import os\n",
    "os.environ['KAGGLE_CONFIG_DIR'] = \"../..\""
   ]
  },
  {
   "cell_type": "code",
   "execution_count": 6,
   "id": "93e5bfb1",
   "metadata": {},
   "outputs": [
    {
     "name": "stdout",
     "output_type": "stream",
     "text": [
      "Downloading movielens-20m-dataset.zip to /home/suman/Desktop/365 days of ML challange/projects/recommendation system\n",
      "100%|████████████████████████████████████████| 195M/195M [01:43<00:00, 1.85MB/s]\n",
      "100%|████████████████████████████████████████| 195M/195M [01:43<00:00, 1.98MB/s]\n"
     ]
    }
   ],
   "source": [
    "# downlaod dataset\n",
    "! kaggle datasets download -d grouplens/movielens-20m-dataset"
   ]
  },
  {
   "cell_type": "markdown",
   "id": "dc833ca2",
   "metadata": {},
   "source": [
    "make sure you extract it and put it into dataset/ directory."
   ]
  },
  {
   "cell_type": "code",
   "execution_count": null,
   "id": "e6a36da2",
   "metadata": {},
   "outputs": [],
   "source": []
  }
 ],
 "metadata": {
  "kernelspec": {
   "display_name": "Python 3 (ipykernel)",
   "language": "python",
   "name": "python3"
  },
  "language_info": {
   "codemirror_mode": {
    "name": "ipython",
    "version": 3
   },
   "file_extension": ".py",
   "mimetype": "text/x-python",
   "name": "python",
   "nbconvert_exporter": "python",
   "pygments_lexer": "ipython3",
   "version": "3.10.0"
  }
 },
 "nbformat": 4,
 "nbformat_minor": 5
}
