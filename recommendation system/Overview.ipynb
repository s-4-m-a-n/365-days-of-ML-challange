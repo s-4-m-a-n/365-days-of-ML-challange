{
 "cells": [
  {
   "cell_type": "markdown",
   "id": "94f76941",
   "metadata": {},
   "source": [
    "# Overview"
   ]
  },
  {
   "cell_type": "markdown",
   "id": "69b546c3",
   "metadata": {},
   "source": [
    "## What the recommendation system is not?\n",
    "- a system that \"recommends\" prices for a house based on how big it is and its nearby properties, that's not a recommender system. \n",
    "- a system that \"recommends\" whether a transaction is fraudulent, again, that's not a recommender system.\n",
    "- They're not a general-purpose algorithm that can recommend a solution to any given problem. "
   ]
  },
  {
   "cell_type": "markdown",
   "id": "31b43d43",
   "metadata": {},
   "source": [
    "## What is recommendation system?\n",
    "> a system that predicts ratings or preferences that a user might give to an item. So, a recommender system is recommending things to people based on their past behavior and the behavior of other people. It’s about recommending stuff to people based on their preferences that we learn over time.\n",
    "- These are also known as recommender engines, recommendation systems, and recommendation platforms. It's all the same thing."
   ]
  },
  {
   "cell_type": "markdown",
   "id": "d93933ac",
   "metadata": {},
   "source": [
    "## User Feedback\n",
    "\n",
    "Implicit and explicit feedback are two different types of user interactions with items (products, movies, articles, etc.) in a recommendation system. These types of feedback are used to train and develop recommendation algorithms to suggest relevant items to users.\n",
    "\n",
    "### 1. **Explicit Feedback**:\n",
    "> Explicit feedback refers to direct and clear indications of a user's preference or opinion about an item. It involves explicit ratings, reviews, or any other explicit numerical or categorical feedback provided by the user. \n",
    "\n",
    "For example, giving a movie a star rating or providing a written review are forms of explicit feedback. Explicit feedback is explicit in nature, making it easier to understand and incorporate into a recommendation system.\n",
    "\n",
    "**Pros of explicit feedback:**\n",
    "- Provides clear insight into user preferences.\n",
    "- Allows for direct assessment of user-item interactions.\n",
    "- Can be used to calculate metrics like RMSE and MAE for evaluation.\n",
    "\n",
    "**Cons of explicit feedback:**\n",
    "- Users might not always provide ratings or reviews.\n",
    "- Ratings can be subjective and biased.\n",
    "- The quality of reviews might vary, affecting the reliability of feedback.\n",
    "\n",
    "### 2. **Implicit Feedback**:\n",
    "> Implicit feedback is more subtle and derived from a user's behavior or actions, such as clicks, views, purchase history, time spent on an item, and so on. Unlike explicit feedback, implicit feedback doesn't involve direct opinions or ratings. Instead, it reflects the user's observed interactions with items.\n",
    "\n",
    "**Pros of implicit feedback:**\n",
    "- Often abundant as it's collected passively.\n",
    "- Can capture user preferences even when explicit feedback is lacking.\n",
    "- Reflects real user behavior and preferences.\n",
    "\n",
    "**Cons of implicit feedback:**\n",
    "- May not fully reflect user preferences (e.g., clicks due to curiosity rather than interest).\n",
    "- Doesn't provide direct information about user opinions or preferences.\n",
    "- Requires careful handling to distinguish meaningful interactions from noise.\n",
    "\n",
    "In many real-world scenarios, both explicit and implicit feedback can be valuable for building recommendation systems. Hybrid recommendation systems often combine these types of feedback to leverage their respective strengths.\n",
    "\n",
    "For example, you might use explicit feedback to understand users' direct preferences when available, while using implicit feedback to supplement recommendations in cases where explicit feedback is scarce or absent. Algorithms like collaborative filtering and matrix factorization can be adapted to work with both types of feedback.\n",
    "\n",
    "In conclusion, understanding and utilizing both explicit and implicit feedback are important for building effective recommendation systems that cater to a wide range of user behaviors and preferences."
   ]
  },
  {
   "cell_type": "markdown",
   "id": "3a8b52ea",
   "metadata": {},
   "source": [
    "## Top N-recommenders \n",
    "\n",
    "***Here’s one way a top-N recommender system might work – and there many\n",
    "ways to do it.*** \n",
    "\n",
    "The process of generating recommendations involves several stages: candidate generation, candidate ranking, and filtering before presenting the final list to the user. Let's break down each stage:\n",
    "\n",
    "1. **Candidate Generation**:\n",
    "   - In this phase, the recommendation system generates a list of potential items that might be of interest to the user. This is based on the user's past behavior and preferences.\n",
    "   - Items the user has previously shown interest in (explicitly or implicitly) are taken into account.\n",
    "   - The system also consults another data source, which might contain items similar to the ones the user has shown interest in.\n",
    "   - For example, if a user has liked Star Trek items before, the system might consider items related to Star Wars since there's a known connection between the two based on aggregate user behavior.\n",
    "   - The candidates are assigned initial scores based on factors such as the user's rating of the source items and the strength of similarities between the source items and the candidates.\n",
    "\n",
    "2. **Candidate Ranking**:\n",
    "   - Many candidates might appear more than once in the generated list. These duplicates need to be combined.\n",
    "   - Items that appear repeatedly might receive a score boost to reflect their higher relevance due to consistent appearance.\n",
    "   - The recommendation candidates are then ranked based on their scores. This initial ranking helps create a \"top-N\" list of recommendations.\n",
    "   - More advanced techniques, like \"learning to rank,\" which involves machine learning, can be employed to optimize the order of candidates.\n",
    "\n",
    "3. **Filtering**:\n",
    "   - At this stage, the recommendation system applies various filters to refine the list of candidates before presenting it to the user.\n",
    "   - Items that the user has already rated or interacted with are removed to avoid redundant recommendations.\n",
    "   - Potentially offensive or inappropriate items are filtered out to ensure a positive user experience.\n",
    "   - Items that fall below a certain quality score or rating threshold might also be removed.\n",
    "   - The \"N\" value in top-N recommendations determines the number of final recommendations to be displayed.\n",
    "   \n",
    "4. **Presentation to the User**:\n",
    "   - After filtering, the refined list of recommendation candidates is passed to the display layer.\n",
    "   - The display layer is responsible for creating a visually appealing presentation of the recommendations that the user will see.\n",
    "   - This often involves designing widgets or interfaces to showcase the recommended items in a user-friendly manner.\n",
    "   - The user interacts with the presented recommendations and can choose to explore or engage with the suggested items.\n",
    "\n",
    "Overall, the recommendation process involves analyzing user behavior, generating a list of potential items, ranking those items based on relevance, and applying filters before presenting the refined recommendations to the user. This process typically takes place within a distributed recommendation system that communicates with the front-end of a website or application to provide personalized suggestions to individual users.\n"
   ]
  },
  {
   "cell_type": "markdown",
   "id": "81e1223a",
   "metadata": {},
   "source": [
    "# Evaluating Recommender System\n",
    "\n",
    "**Accuracy Measures**:\n",
    "- **MAE (Mean Absolute Error)**: Measures the average absolute difference between predicted and actual ratings. It gives equal weight to all errors.\n",
    "- **RMSE (Root Mean Square Error)**: Similar to MAE but penalizes larger errors more heavily due to the squaring. Commonly used for continuous ratings.\n",
    "\n",
    "**ARHRM (Average Reciprocal Hit Rate Measure)**:\n",
    "- Evaluates how quickly relevant items are ranked and recommended to users within a list of recommendations. Takes both relevance and ranking into account.\n",
    "\n",
    "**Cummulative Hit Rate (cHR)**:\n",
    "- Measures the fraction of users for whom at least one relevant item is present in the recommendation list. Reflects how well the system captures relevant items for users.\n",
    "\n",
    "**Rating Hit Rate (rHR)**:\n",
    "- Measures the fraction of users for whom at least one item with a high predicted rating is present in the recommendation list. Focuses on the quality of highly rated recommendations.\n",
    "\n",
    "**Coverage**:\n",
    "- Indicates the proportion of items in the catalog that the recommendation system is able to provide recommendations for. High coverage means the system can suggest items from a wide range.\n",
    "\n",
    "**Diversity**:\n",
    "- Measures how different the recommended items are from each other. High diversity suggests a broader range of items being suggested to users.\n",
    "\n",
    "**Novelty**:\n",
    "- Assesses how novel or unique the recommended items are. It encourages suggesting items that the user hasn't interacted with before.\n",
    "\n",
    "**Churn**:\n",
    "- Refers to the rate at which users stop interacting with the system or lose interest. Evaluating churn helps in understanding user engagement.\n",
    "\n",
    "**Responsiveness**:\n",
    "- Measures how quickly the recommendation system adapts to changes in user preferences or behavior. A responsive system can provide relevant suggestions even when user behavior changes.\n",
    "\n",
    "Each of these metrics and concepts provides insights into different aspects of a recommendation system's performance. It's important to select the most relevant metrics based on your system's goals and characteristics. Additionally, combining multiple metrics offers a more comprehensive view of the system's effectiveness and its impact on user experience.\n",
    "\n",
    "### A/B testing\n",
    "> A/B testing involves conducting controlled online experiments to fine-tune a recommender system using real customers. By presenting different recommendation algorithms to distinct user groups and observing their reactions, the system's performance can be measured based on user interactions such as purchases or views. This process allows for evidence-based decisions to be made regarding changes to the recommendation system. Ultimately, the goal is to determine if the changes lead to increased discovery and engagement with new items, benefiting both the business and the users. A/B testing ensures that improvements are validated through real-world user behavior, contributing to the system's effectiveness and user satisfaction.\n",
    "- At the end of the day, the results of online A/B tests are the only evaluation\n",
    "that matters for your recommender system."
   ]
  },
  {
   "cell_type": "code",
   "execution_count": null,
   "id": "35eb3348",
   "metadata": {},
   "outputs": [],
   "source": []
  }
 ],
 "metadata": {
  "kernelspec": {
   "display_name": "Python 3 (ipykernel)",
   "language": "python",
   "name": "python3"
  },
  "language_info": {
   "codemirror_mode": {
    "name": "ipython",
    "version": 3
   },
   "file_extension": ".py",
   "mimetype": "text/x-python",
   "name": "python",
   "nbconvert_exporter": "python",
   "pygments_lexer": "ipython3",
   "version": "3.10.0"
  }
 },
 "nbformat": 4,
 "nbformat_minor": 5
}
