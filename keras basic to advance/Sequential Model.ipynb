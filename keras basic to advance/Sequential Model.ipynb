{
 "cells": [
  {
   "cell_type": "markdown",
   "id": "dce7b9e1",
   "metadata": {},
   "source": [
    "# Sequential Model\n",
    "A Sequential model is appropriate for a plain stack of layers where each layer has exactly one input tensor and one output tensor."
   ]
  },
  {
   "cell_type": "code",
   "execution_count": 1,
   "id": "e070d897",
   "metadata": {},
   "outputs": [
    {
     "name": "stderr",
     "output_type": "stream",
     "text": [
      "2023-07-16 16:09:12.441931: I tensorflow/tsl/cuda/cudart_stub.cc:28] Could not find cuda drivers on your machine, GPU will not be used.\n",
      "2023-07-16 16:09:12.658542: I tensorflow/tsl/cuda/cudart_stub.cc:28] Could not find cuda drivers on your machine, GPU will not be used.\n",
      "2023-07-16 16:09:12.660094: I tensorflow/core/platform/cpu_feature_guard.cc:182] This TensorFlow binary is optimized to use available CPU instructions in performance-critical operations.\n",
      "To enable the following instructions: AVX2 FMA, in other operations, rebuild TensorFlow with the appropriate compiler flags.\n",
      "2023-07-16 16:09:13.932454: W tensorflow/compiler/tf2tensorrt/utils/py_utils.cc:38] TF-TRT Warning: Could not find TensorRT\n"
     ]
    }
   ],
   "source": [
    "import tensorflow as tf\n",
    "from tensorflow import keras\n",
    "from tensorflow.keras import layers"
   ]
  },
  {
   "cell_type": "code",
   "execution_count": 12,
   "id": "0ba81020",
   "metadata": {},
   "outputs": [],
   "source": [
    "model = keras.Sequential([\n",
    "    layers.Dense(4, activation=\"relu\", name=\"layer1\"),\n",
    "    layers.Dense(2, activation=\"softmax\", name=\"layer2\")\n",
    "])"
   ]
  },
  {
   "cell_type": "code",
   "execution_count": 13,
   "id": "d68275bd",
   "metadata": {
    "scrolled": true
   },
   "outputs": [],
   "source": [
    "x = tf.ones((3, 4))"
   ]
  },
  {
   "cell_type": "markdown",
   "id": "f900f43e",
   "metadata": {},
   "source": [
    "When you instantiate a Sequential model without an **input shape**, it isn't \"built\": it has no weights."
   ]
  },
  {
   "cell_type": "code",
   "execution_count": 15,
   "id": "94bb72a1",
   "metadata": {},
   "outputs": [
    {
     "name": "stdout",
     "output_type": "stream",
     "text": [
      "This model has not yet been built. Build the model first by calling `build()` or by calling the model on a batch of data.\n"
     ]
    }
   ],
   "source": [
    "try:\n",
    "    model.summary()\n",
    "except Exception as e:\n",
    "    print(e)"
   ]
  },
  {
   "cell_type": "code",
   "execution_count": 16,
   "id": "c53ece74",
   "metadata": {},
   "outputs": [
    {
     "data": {
      "text/plain": [
       "<tf.Tensor: shape=(3, 2), dtype=float32, numpy=\n",
       "array([[0.4773456 , 0.52265435],\n",
       "       [0.4773456 , 0.52265435],\n",
       "       [0.4773456 , 0.52265435]], dtype=float32)>"
      ]
     },
     "execution_count": 16,
     "metadata": {},
     "output_type": "execute_result"
    }
   ],
   "source": [
    "model(x)"
   ]
  },
  {
   "cell_type": "code",
   "execution_count": 17,
   "id": "b1533e3f",
   "metadata": {},
   "outputs": [
    {
     "name": "stdout",
     "output_type": "stream",
     "text": [
      "Model: \"sequential_3\"\n",
      "_________________________________________________________________\n",
      " Layer (type)                Output Shape              Param #   \n",
      "=================================================================\n",
      " layer1 (Dense)              (3, 4)                    20        \n",
      "                                                                 \n",
      " layer2 (Dense)              (3, 2)                    10        \n",
      "                                                                 \n",
      "=================================================================\n",
      "Total params: 30\n",
      "Trainable params: 30\n",
      "Non-trainable params: 0\n",
      "_________________________________________________________________\n"
     ]
    }
   ],
   "source": [
    "model.summary()"
   ]
  },
  {
   "cell_type": "markdown",
   "id": "366d95b2",
   "metadata": {},
   "source": [
    "This is equivalent to **y = layers.Dense_2(layers.Dense_4(x))**"
   ]
  },
  {
   "cell_type": "markdown",
   "id": "ea54520c",
   "metadata": {},
   "source": [
    "A Sequential model is not appropriate when:\n",
    "   - Your model has multiple inputs or multiple outputs\n",
    "   - Any of your layers has multiple inputs or multiple outputs\n",
    "   - You need to do layer sharing\n",
    "   - You want non-linear topology (e.g. a residual connection, a multi-branch model)\n"
   ]
  },
  {
   "cell_type": "code",
   "execution_count": 9,
   "id": "066155f0",
   "metadata": {},
   "outputs": [
    {
     "data": {
      "text/plain": [
       "[<keras.layers.core.dense.Dense at 0x7f23ecf61e10>,\n",
       " <keras.layers.core.dense.Dense at 0x7f23ecf62710>]"
      ]
     },
     "execution_count": 9,
     "metadata": {},
     "output_type": "execute_result"
    }
   ],
   "source": [
    "model.layers"
   ]
  },
  {
   "cell_type": "markdown",
   "id": "325e6971",
   "metadata": {},
   "source": [
    "### Pass Input Layer\n",
    "\n",
    "- ***It can be very useful when building a Sequential model incrementally to be able to display the summary of the model so far, including the current output shape. In this case, you should start your model by passing an Input object to your model, so that it knows its input shape from the start.***"
   ]
  },
  {
   "cell_type": "code",
   "execution_count": 24,
   "id": "20ac3da7",
   "metadata": {},
   "outputs": [],
   "source": [
    "model = model = keras.Sequential([\n",
    "    layers.Input((5)),\n",
    "    layers.Dense(4, activation=\"relu\", name=\"layer1\"),\n",
    "    layers.Dense(2, activation=\"softmax\", name=\"layer2\")\n",
    "])"
   ]
  },
  {
   "cell_type": "code",
   "execution_count": 25,
   "id": "b54d0c3e",
   "metadata": {},
   "outputs": [
    {
     "name": "stdout",
     "output_type": "stream",
     "text": [
      "Model: \"sequential_5\"\n",
      "_________________________________________________________________\n",
      " Layer (type)                Output Shape              Param #   \n",
      "=================================================================\n",
      " layer1 (Dense)              (None, 4)                 24        \n",
      "                                                                 \n",
      " layer2 (Dense)              (None, 2)                 10        \n",
      "                                                                 \n",
      "=================================================================\n",
      "Total params: 34\n",
      "Trainable params: 34\n",
      "Non-trainable params: 0\n",
      "_________________________________________________________________\n"
     ]
    }
   ],
   "source": [
    "model.summary() #not this won't throw any error"
   ]
  },
  {
   "cell_type": "code",
   "execution_count": 27,
   "id": "046a26dc",
   "metadata": {},
   "outputs": [
    {
     "data": {
      "text/plain": [
       "<tf.Tensor: shape=(3, 2), dtype=float32, numpy=\n",
       "array([[0.6965787 , 0.30342135],\n",
       "       [0.6965787 , 0.30342135],\n",
       "       [0.6965787 , 0.30342135]], dtype=float32)>"
      ]
     },
     "execution_count": 27,
     "metadata": {},
     "output_type": "execute_result"
    }
   ],
   "source": [
    "x = tf.ones((3, 5))\n",
    "model(x)"
   ]
  },
  {
   "cell_type": "markdown",
   "id": "f319e2fb",
   "metadata": {},
   "source": [
    "###  Tips: Common debugging workflow add() + summary()\n",
    "- When building a new Sequential architecture, it's useful to incrementally stack layers with add() and frequently print model summaries. For instance, this enables you to monitor how a stack of Conv2D and MaxPooling2D layers is downsampling image feature maps"
   ]
  },
  {
   "cell_type": "markdown",
   "id": "691de823",
   "metadata": {},
   "source": [
    "### What to do once you have a model\n",
    "- Once your model architecture is ready, you will want to:\n",
    "- Train your model, evaluate it, and run inference. See our guide to training & evaluation with the built-in loops\n",
    "- Save your model to disk and restore it. See our guide to serialization & saving.\n",
    "- Speed up model training by leveraging multiple GPUs. See our guide to multi-GPU and distributed training.\n"
   ]
  },
  {
   "cell_type": "markdown",
   "id": "27533a88",
   "metadata": {},
   "source": [
    "# Feature extraction with a Sequential model\n",
    "- **Once a Sequential model has been built, it behaves like a Functional API model. This means that every layer has an input and output attribute.** \n",
    "- These attributes can be used to do neat things, like quickly creating a model that extracts the outputs of all intermediate layers in a Sequential model"
   ]
  },
  {
   "cell_type": "code",
   "execution_count": 114,
   "id": "d4e001ec",
   "metadata": {},
   "outputs": [],
   "source": [
    "model = keras.Sequential([\n",
    "    layers.Input((32, 32, 3)),\n",
    "    layers.Conv2D(filters=32, kernel_size= 5, activation=\"relu\", name=\"layer1\"),\n",
    "    layers.Conv2D(filters=32, kernel_size=5, activation=\"relu\", name=\"intermediate\"),\n",
    "    layers.Flatten(name=\"flatten\"),\n",
    "    layers.Dense(2, activation=\"softmax\", name=\"layer2\")\n",
    "])"
   ]
  },
  {
   "cell_type": "code",
   "execution_count": 115,
   "id": "99ef1ec5",
   "metadata": {},
   "outputs": [
    {
     "data": {
      "text/plain": [
       "<tf.Tensor: shape=(1, 2), dtype=float32, numpy=array([[0.44129378, 0.5587063 ]], dtype=float32)>"
      ]
     },
     "execution_count": 115,
     "metadata": {},
     "output_type": "execute_result"
    }
   ],
   "source": [
    "x = tf.ones((1, 32, 32, 3))\n",
    "model(x)"
   ]
  },
  {
   "cell_type": "code",
   "execution_count": 102,
   "id": "02b8fbf0",
   "metadata": {},
   "outputs": [
    {
     "name": "stdout",
     "output_type": "stream",
     "text": [
      "Model: \"sequential_6\"\n",
      "_________________________________________________________________\n",
      " Layer (type)                Output Shape              Param #   \n",
      "=================================================================\n",
      " layer1 (Conv2D)             (1, 28, 28, 32)           2432      \n",
      "                                                                 \n",
      " intermediate (Conv2D)       (1, 24, 24, 32)           25632     \n",
      "                                                                 \n",
      " flatten (Flatten)           (1, 18432)                0         \n",
      "                                                                 \n",
      " layer2 (Dense)              (1, 2)                    36866     \n",
      "                                                                 \n",
      "=================================================================\n",
      "Total params: 64,930\n",
      "Trainable params: 64,930\n",
      "Non-trainable params: 0\n",
      "_________________________________________________________________\n"
     ]
    }
   ],
   "source": [
    "model.summary()"
   ]
  },
  {
   "cell_type": "code",
   "execution_count": 103,
   "id": "801632dc",
   "metadata": {},
   "outputs": [
    {
     "data": {
      "text/plain": [
       "[<keras.layers.convolutional.conv2d.Conv2D at 0x7f86444237c0>,\n",
       " <keras.layers.convolutional.conv2d.Conv2D at 0x7f8644423640>,\n",
       " <keras.layers.reshaping.flatten.Flatten at 0x7f8644423970>,\n",
       " <keras.layers.core.dense.Dense at 0x7f86444249d0>]"
      ]
     },
     "execution_count": 103,
     "metadata": {},
     "output_type": "execute_result"
    }
   ],
   "source": [
    "# return all the layers of the model\n",
    "model.layers"
   ]
  },
  {
   "cell_type": "code",
   "execution_count": 104,
   "id": "4021b61b",
   "metadata": {},
   "outputs": [
    {
     "data": {
      "text/plain": [
       "[<KerasTensor: shape=(1, 32, 32, 3) dtype=float32 (created by layer 'layer1_input')>]"
      ]
     },
     "execution_count": 104,
     "metadata": {},
     "output_type": "execute_result"
    }
   ],
   "source": [
    "# return the input tensor\n",
    "model.inputs"
   ]
  },
  {
   "cell_type": "markdown",
   "id": "16be6d5c",
   "metadata": {},
   "source": [
    "- **KerasTensor**: KerasTensors are used within the Keras API to define the inputs, outputs, and intermediate layers of a neural network model.\n",
    "- while a regular TensorFlow tensor is a general-purpose tensor used in TensorFlow computations, a KerasTensor is a specialized tensor object used within the Keras API, providing additional capabilities such as automatic shape inference and automatic differentiation."
   ]
  },
  {
   "cell_type": "code",
   "execution_count": 105,
   "id": "f6098dd2",
   "metadata": {},
   "outputs": [
    {
     "data": {
      "text/plain": [
       "[<KerasTensor: shape=(1, 2) dtype=float32 (created by layer 'layer2')>]"
      ]
     },
     "execution_count": 105,
     "metadata": {},
     "output_type": "execute_result"
    }
   ],
   "source": [
    "model.outputs"
   ]
  },
  {
   "cell_type": "markdown",
   "id": "9d5a5373",
   "metadata": {},
   "source": [
    "We can also check the input and output tensor of any layers"
   ]
  },
  {
   "cell_type": "code",
   "execution_count": 106,
   "id": "51af92e7",
   "metadata": {},
   "outputs": [
    {
     "data": {
      "text/plain": [
       "<KerasTensor: shape=(1, 28, 28, 32) dtype=float32 (created by layer 'layer1')>"
      ]
     },
     "execution_count": 106,
     "metadata": {},
     "output_type": "execute_result"
    }
   ],
   "source": [
    "model.get_layer(name=\"intermediate\").input"
   ]
  },
  {
   "cell_type": "code",
   "execution_count": 107,
   "id": "76a52a7a",
   "metadata": {},
   "outputs": [
    {
     "data": {
      "text/plain": [
       "<KerasTensor: shape=(1, 24, 24, 32) dtype=float32 (created by layer 'intermediate')>"
      ]
     },
     "execution_count": 107,
     "metadata": {},
     "output_type": "execute_result"
    }
   ],
   "source": [
    "model.get_layer(name=\"intermediate\").output"
   ]
  },
  {
   "cell_type": "code",
   "execution_count": 108,
   "id": "1f212023",
   "metadata": {},
   "outputs": [
    {
     "data": {
      "text/plain": [
       "(<KerasTensor: shape=(1, 18432) dtype=float32 (created by layer 'flatten')>,\n",
       " <KerasTensor: shape=(1, 18432) dtype=float32 (created by layer 'flatten')>)"
      ]
     },
     "execution_count": 108,
     "metadata": {},
     "output_type": "execute_result"
    }
   ],
   "source": [
    "# here you can see, the output of one layer is the input of the layer just below of that layer\n",
    "model.get_layer(name=\"layer2\").input,  model.get_layer(name=\"flatten\").output"
   ]
  },
  {
   "cell_type": "markdown",
   "id": "68df3afa",
   "metadata": {},
   "source": [
    "let's create a feature_extractor model that includes the layers upto intermediate layer of our main model"
   ]
  },
  {
   "cell_type": "code",
   "execution_count": 109,
   "id": "cba92e91",
   "metadata": {},
   "outputs": [],
   "source": [
    "feature_extractor = keras.Model(\n",
    "    inputs=model.inputs,\n",
    "    outputs=model.get_layer(name=\"intermediate\").output\n",
    ")"
   ]
  },
  {
   "cell_type": "code",
   "execution_count": 110,
   "id": "3e9a8e52",
   "metadata": {},
   "outputs": [
    {
     "name": "stdout",
     "output_type": "stream",
     "text": [
      "Model: \"model_4\"\n",
      "_________________________________________________________________\n",
      " Layer (type)                Output Shape              Param #   \n",
      "=================================================================\n",
      " layer1_input (InputLayer)   [(1, 32, 32, 3)]          0         \n",
      "                                                                 \n",
      " layer1 (Conv2D)             (1, 28, 28, 32)           2432      \n",
      "                                                                 \n",
      " intermediate (Conv2D)       (1, 24, 24, 32)           25632     \n",
      "                                                                 \n",
      "=================================================================\n",
      "Total params: 28,064\n",
      "Trainable params: 28,064\n",
      "Non-trainable params: 0\n",
      "_________________________________________________________________\n"
     ]
    }
   ],
   "source": [
    "feature_extractor.summary()"
   ]
  },
  {
   "cell_type": "code",
   "execution_count": 111,
   "id": "ab21a75a",
   "metadata": {},
   "outputs": [],
   "source": [
    "x = tf.ones((1, 32, 32, 3))\n",
    "out = feature_extractor(x)"
   ]
  },
  {
   "cell_type": "code",
   "execution_count": 112,
   "id": "1a546bfa",
   "metadata": {},
   "outputs": [
    {
     "data": {
      "text/plain": [
       "TensorShape([1, 24, 24, 32])"
      ]
     },
     "execution_count": 112,
     "metadata": {},
     "output_type": "execute_result"
    }
   ],
   "source": [
    "out.shape"
   ]
  },
  {
   "cell_type": "code",
   "execution_count": 113,
   "id": "db1adeff",
   "metadata": {},
   "outputs": [
    {
     "data": {
      "text/plain": [
       "<tf.Tensor: shape=(10,), dtype=float32, numpy=\n",
       "array([0.        , 0.        , 0.3494678 , 0.22146514, 0.05251887,\n",
       "       0.        , 0.        , 0.32228705, 0.        , 0.        ],\n",
       "      dtype=float32)>"
      ]
     },
     "execution_count": 113,
     "metadata": {},
     "output_type": "execute_result"
    }
   ],
   "source": [
    "out[0][0][0][:10]"
   ]
  },
  {
   "cell_type": "code",
   "execution_count": null,
   "id": "0a80f7d3",
   "metadata": {},
   "outputs": [],
   "source": []
  },
  {
   "cell_type": "code",
   "execution_count": null,
   "id": "d88f6088",
   "metadata": {},
   "outputs": [],
   "source": []
  }
 ],
 "metadata": {
  "kernelspec": {
   "display_name": "Python 3 (ipykernel)",
   "language": "python",
   "name": "python3"
  },
  "language_info": {
   "codemirror_mode": {
    "name": "ipython",
    "version": 3
   },
   "file_extension": ".py",
   "mimetype": "text/x-python",
   "name": "python",
   "nbconvert_exporter": "python",
   "pygments_lexer": "ipython3",
   "version": "3.10.0"
  }
 },
 "nbformat": 4,
 "nbformat_minor": 5
}
